{
 "cells": [
  {
   "cell_type": "code",
   "execution_count": 1,
   "metadata": {},
   "outputs": [],
   "source": [
    "import math\n",
    "from typing import NamedTuple, Tuple\n",
    "\n",
    "import jax\n",
    "import jax.numpy as jnp\n",
    "from jax.typing import ArrayLike\n",
    "import numpy as np\n",
    "\n",
    "from dataclasses import dataclass"
   ]
  },
  {
   "cell_type": "code",
   "execution_count": 2,
   "metadata": {},
   "outputs": [],
   "source": [
    "@dataclass\n",
    "class ModelParams:\n",
    "    \"\"\"\n",
    "    model's parameters\n",
    "    \"\"\"\n",
    "    count: ArrayLike\n",
    "    projection_matrix: ArrayLike\n",
    "    xtx: ArrayLike\n",
    "    xty: ArrayLike\n",
    "    w: ArrayLike"
   ]
  },
  {
   "cell_type": "code",
   "execution_count": 18,
   "metadata": {},
   "outputs": [],
   "source": [
    "@dataclass\n",
    "class HyperParams:\n",
    "    \"\"\"\n",
    "    Hyperparameters for the model.\n",
    "    \"\"\"\n",
    "    input_dim: int = 1\n",
    "    output_dim: int = 1\n",
    "    num_features: int = 2\n",
    "    num_bins: int = 5\n",
    "    feature_dim: int = 2\n",
    "    edges: int = num_bins + 1\n",
    "    num_grid_per_feature = edges ** feature_dim\n",
    "    embedding_dim: int = num_grid_per_feature * num_features\n",
    "    eps: float = 1e-5\n",
    "hyper_params = HyperParams()"
   ]
  },
  {
   "cell_type": "code",
   "execution_count": 19,
   "metadata": {},
   "outputs": [],
   "source": [
    "@dataclass\n",
    "class Data:\n",
    "    \"\"\"\n",
    "    Dataset initialization\n",
    "    \"\"\"\n",
    "    num_tests: int = 200\n",
    "    num_trains: int = num_tests // 20\n",
    "    x_train: ArrayLike = jnp.linspace(-jnp.pi, jnp.pi, num_trains).reshape(num_trains, HyperParams.input_dim)\n",
    "    y_train: ArrayLike = jnp.sin(x_train)\n",
    "    x_test: ArrayLike = jnp.linspace(-jnp.pi, jnp.pi, num_tests).reshape(num_tests, HyperParams.input_dim)"
   ]
  },
  {
   "cell_type": "code",
   "execution_count": 20,
   "metadata": {},
   "outputs": [],
   "source": [
    "# PRNGKey init\n",
    "seed = 0\n",
    "rng = jax.random.PRNGKey(seed)"
   ]
  },
  {
   "cell_type": "code",
   "execution_count": 21,
   "metadata": {},
   "outputs": [],
   "source": [
    "# Initialize the model's parameters\n",
    "def init(\n",
    "    rng: ArrayLike,\n",
    "    hyper_parasm: HyperParams,\n",
    ") -> ModelParams:\n",
    "    _rng, rng = jax.random.split(rng)\n",
    "    std = 1 / jnp.sqrt(hyper_params.input_dim)\n",
    "    # clip the projection matrix to avoid numerical instability\n",
    "    proj_matrix_clip = 2\n",
    "    projection_matrix = std * jax.random.truncated_normal(\n",
    "        _rng,\n",
    "        lower=-proj_matrix_clip,\n",
    "        upper=proj_matrix_clip,\n",
    "        shape=(hyper_params.num_features, hyper_params.input_dim, hyper_params.feature_dim),\n",
    "    )\n",
    "    return rng, ModelParams(\n",
    "        count=jnp.zeros(0, dtype=jnp.int32),\n",
    "        projection_matrix=projection_matrix,\n",
    "        xtx=jnp.zeros(\n",
    "            HyperParams.embedding_dim * HyperParams.embedding_dim,\n",
    "            dtype=projection_matrix.dtype,\n",
    "        ),\n",
    "        xty=jnp.zeros(\n",
    "            (HyperParams.embedding_dim, HyperParams.output_dim),\n",
    "            dtype=projection_matrix.dtype,\n",
    "        ),\n",
    "        w=jnp.zeros(\n",
    "            (HyperParams.embedding_dim, HyperParams.output_dim),\n",
    "            dtype=projection_matrix.dtype,\n",
    "        ),\n",
    "    )"
   ]
  },
  {
   "cell_type": "code",
   "execution_count": 22,
   "metadata": {},
   "outputs": [],
   "source": [
    "rng, model_params = init(rng, hyper_params)"
   ]
  },
  {
   "cell_type": "code",
   "execution_count": 23,
   "metadata": {},
   "outputs": [],
   "source": [
    "def sparse_indices_and_values(projection_matrix: ArrayLike, x: ArrayLike, hyper_params: HyperParams) -> ArrayLike :\n",
    "    \"\"\"\n",
    "    Calculate the indices and values of the sparse embedding vector.\n",
    "    \"\"\"\n",
    "    # latent = jnp.matmul(x, projection_matrix)\n",
    "    latent = jax.vmap(jnp.matmul, in_axes=(None, 0), out_axes=-1)(x, projection_matrix)\n",
    "    # assert latent.shape == (batch=1, 2, hyper_params.num_features)\n",
    "    latent = jax.nn.sigmoid(latent)\n",
    "    latent = latent * hyper_params.num_bins\n",
    "    indices = jnp.floor(latent).astype(jnp.int32)\n",
    "    # offsets = latent - indices\n",
    "    \n",
    "    # indices = jnp.reshape(indices, (-1, bin_dim, n_feat))\n",
    "    pass \n",
    "\n",
    "def update_memory():\n",
    "    pass\n",
    "\n",
    "def update_w():\n",
    "    pass"
   ]
  },
  {
   "cell_type": "code",
   "execution_count": 89,
   "metadata": {},
   "outputs": [],
   "source": [
    "def update(model_params: ModelParams, x: ArrayLike, y: ArrayLike, hyper_params: HyperParams) -> ModelParams:\n",
    "    \"\"\"\n",
    "    Update the model's parameters.\n",
    "    \"\"\"\n",
    "    assert x.shape == (1, hyper_params.input_dim)  # non batched\n",
    "    assert y.shape == (1, hyper_params.output_dim)  # non batched\n",
    "    sparse_indices_and_values(model_params.projection_matrix, x, hyper_params)\n",
    "    update_memory()\n",
    "    update_w()\n",
    "    pass"
   ]
  },
  {
   "cell_type": "code",
   "execution_count": 90,
   "metadata": {},
   "outputs": [],
   "source": [
    "# Online update\n",
    "for i in range(Data.num_trains):\n",
    "    x = Data.x_train[i : i + 1]\n",
    "    y = Data.y_train[i : i + 1]\n",
    "    model_state = update(model_params, x, y, hyper_params)"
   ]
  },
  {
   "cell_type": "code",
   "execution_count": 8,
   "metadata": {},
   "outputs": [],
   "source": [
    "x = Data.x_train[1 : 1 + 1]\n",
    "y = Data.y_train[1 : 1 + 1]"
   ]
  },
  {
   "cell_type": "code",
   "execution_count": null,
   "metadata": {},
   "outputs": [],
   "source": [
    "latent = jax.vmap(jnp.matmul, in_axes=(None, 0), out_axes=-1)(x, model_params.projection_matrix)\n",
    "assert latent.shape == (1, hyper_params.feature_dim, hyper_params.num_features)\n",
    "latent = jax.nn.sigmoid(latent)\n",
    "latent = latent * hyper_params.num_bins\n",
    "indices = jnp.floor(latent).astype(jnp.int32)\n",
    "offsets = latent - indices\n",
    "indices = jnp.stack([indices, indices + 1], axis=-1) # (1, hyper_params.feature_dim, hyper_params.num_features， 2)\n",
    "values = jnp.stack([offsets, 1.0 - offsets], axis=-1)\n",
    "multiplier = jnp.power(hyper_params.edges, jnp.arange(hyper_params.feature_dim - 1, -1, -1))\n",
    "# indices *= multiplier[None, :, None, None]  # 对每一个feature的维度乘以不同的倍数，以便后续相加"
   ]
  },
  {
   "cell_type": "code",
   "execution_count": 33,
   "metadata": {},
   "outputs": [
    {
     "data": {
      "text/plain": [
       "(Array([[[[2, 3],\n",
       "          [3, 4]],\n",
       " \n",
       "         [[0, 1],\n",
       "          [2, 3]]]], dtype=int32),\n",
       " (1, 2, 2, 2),\n",
       " Array([6, 1], dtype=int32))"
      ]
     },
     "execution_count": 33,
     "metadata": {},
     "output_type": "execute_result"
    }
   ],
   "source": [
    "indices, indices.shape, multiplier"
   ]
  },
  {
   "cell_type": "code",
   "execution_count": 35,
   "metadata": {},
   "outputs": [
    {
     "data": {
      "text/plain": [
       "Array([[[[12, 18],\n",
       "         [18, 24]],\n",
       "\n",
       "        [[ 0,  1],\n",
       "         [ 2,  3]]]], dtype=int32)"
      ]
     },
     "execution_count": 35,
     "metadata": {},
     "output_type": "execute_result"
    }
   ],
   "source": [
    "indices *= multiplier[None, :, None, None]\n",
    "indices"
   ]
  },
  {
   "cell_type": "code",
   "execution_count": 26,
   "metadata": {},
   "outputs": [
    {
     "data": {
      "text/plain": [
       "[(np.int32(2), np.int32(1)), (np.int32(1), np.int32(2))]"
      ]
     },
     "execution_count": 26,
     "metadata": {},
     "output_type": "execute_result"
    }
   ],
   "source": [
    "shape_suffix = [tuple(*p) for p in np.split(np.eye(hyper_params.feature_dim, dtype=np.int32) + 1, hyper_params.feature_dim)]\n",
    "shape_suffix"
   ]
  },
  {
   "cell_type": "code",
   "execution_count": 36,
   "metadata": {},
   "outputs": [
    {
     "data": {
      "text/plain": [
       "Array([[[[12, 13],\n",
       "         [18, 19]],\n",
       "\n",
       "        [[20, 21],\n",
       "         [26, 27]]]], dtype=int32)"
      ]
     },
     "execution_count": 36,
     "metadata": {},
     "output_type": "execute_result"
    }
   ],
   "source": [
    "sum(jnp.reshape(indices[:, i], (-1, hyper_params.num_features, *suffix)) for i, suffix in enumerate(shape_suffix))"
   ]
  },
  {
   "cell_type": "code",
   "execution_count": 15,
   "metadata": {},
   "outputs": [
    {
     "data": {
      "text/plain": [
       "[Array([[[[ 0],\n",
       "          [ 6]],\n",
       " \n",
       "         [[ 0],\n",
       "          [ 6]],\n",
       " \n",
       "         [[12],\n",
       "          [18]],\n",
       " \n",
       "         [[24],\n",
       "          [30]],\n",
       " \n",
       "         [[24],\n",
       "          [30]],\n",
       " \n",
       "         [[24],\n",
       "          [30]],\n",
       " \n",
       "         [[ 0],\n",
       "          [ 6]],\n",
       " \n",
       "         [[18],\n",
       "          [24]],\n",
       " \n",
       "         [[12],\n",
       "          [18]],\n",
       " \n",
       "         [[12],\n",
       "          [18]],\n",
       " \n",
       "         [[12],\n",
       "          [18]],\n",
       " \n",
       "         [[ 0],\n",
       "          [ 6]],\n",
       " \n",
       "         [[18],\n",
       "          [24]],\n",
       " \n",
       "         [[12],\n",
       "          [18]],\n",
       " \n",
       "         [[24],\n",
       "          [30]],\n",
       " \n",
       "         [[ 6],\n",
       "          [12]],\n",
       " \n",
       "         [[ 0],\n",
       "          [ 6]],\n",
       " \n",
       "         [[ 6],\n",
       "          [12]],\n",
       " \n",
       "         [[ 0],\n",
       "          [ 6]],\n",
       " \n",
       "         [[ 0],\n",
       "          [ 6]],\n",
       " \n",
       "         [[ 0],\n",
       "          [ 6]],\n",
       " \n",
       "         [[ 6],\n",
       "          [12]],\n",
       " \n",
       "         [[ 0],\n",
       "          [ 6]],\n",
       " \n",
       "         [[18],\n",
       "          [24]],\n",
       " \n",
       "         [[ 0],\n",
       "          [ 6]],\n",
       " \n",
       "         [[12],\n",
       "          [18]],\n",
       " \n",
       "         [[ 0],\n",
       "          [ 6]],\n",
       " \n",
       "         [[24],\n",
       "          [30]],\n",
       " \n",
       "         [[24],\n",
       "          [30]],\n",
       " \n",
       "         [[18],\n",
       "          [24]],\n",
       " \n",
       "         [[24],\n",
       "          [30]],\n",
       " \n",
       "         [[ 6],\n",
       "          [12]],\n",
       " \n",
       "         [[18],\n",
       "          [24]],\n",
       " \n",
       "         [[24],\n",
       "          [30]],\n",
       " \n",
       "         [[ 0],\n",
       "          [ 6]],\n",
       " \n",
       "         [[ 0],\n",
       "          [ 6]],\n",
       " \n",
       "         [[24],\n",
       "          [30]],\n",
       " \n",
       "         [[12],\n",
       "          [18]],\n",
       " \n",
       "         [[ 0],\n",
       "          [ 6]],\n",
       " \n",
       "         [[ 6],\n",
       "          [12]],\n",
       " \n",
       "         [[ 0],\n",
       "          [ 6]],\n",
       " \n",
       "         [[ 0],\n",
       "          [ 6]],\n",
       " \n",
       "         [[ 0],\n",
       "          [ 6]],\n",
       " \n",
       "         [[ 0],\n",
       "          [ 6]],\n",
       " \n",
       "         [[ 6],\n",
       "          [12]],\n",
       " \n",
       "         [[12],\n",
       "          [18]],\n",
       " \n",
       "         [[ 0],\n",
       "          [ 6]],\n",
       " \n",
       "         [[24],\n",
       "          [30]],\n",
       " \n",
       "         [[24],\n",
       "          [30]],\n",
       " \n",
       "         [[24],\n",
       "          [30]]]], dtype=int32),\n",
       " Array([[[[1, 2]],\n",
       " \n",
       "         [[0, 1]],\n",
       " \n",
       "         [[4, 5]],\n",
       " \n",
       "         [[3, 4]],\n",
       " \n",
       "         [[4, 5]],\n",
       " \n",
       "         [[4, 5]],\n",
       " \n",
       "         [[4, 5]],\n",
       " \n",
       "         [[1, 2]],\n",
       " \n",
       "         [[3, 4]],\n",
       " \n",
       "         [[0, 1]],\n",
       " \n",
       "         [[4, 5]],\n",
       " \n",
       "         [[2, 3]],\n",
       " \n",
       "         [[0, 1]],\n",
       " \n",
       "         [[2, 3]],\n",
       " \n",
       "         [[2, 3]],\n",
       " \n",
       "         [[1, 2]],\n",
       " \n",
       "         [[4, 5]],\n",
       " \n",
       "         [[1, 2]],\n",
       " \n",
       "         [[4, 5]],\n",
       " \n",
       "         [[2, 3]],\n",
       " \n",
       "         [[2, 3]],\n",
       " \n",
       "         [[2, 3]],\n",
       " \n",
       "         [[1, 2]],\n",
       " \n",
       "         [[2, 3]],\n",
       " \n",
       "         [[2, 3]],\n",
       " \n",
       "         [[1, 2]],\n",
       " \n",
       "         [[4, 5]],\n",
       " \n",
       "         [[2, 3]],\n",
       " \n",
       "         [[2, 3]],\n",
       " \n",
       "         [[1, 2]],\n",
       " \n",
       "         [[0, 1]],\n",
       " \n",
       "         [[0, 1]],\n",
       " \n",
       "         [[4, 5]],\n",
       " \n",
       "         [[2, 3]],\n",
       " \n",
       "         [[3, 4]],\n",
       " \n",
       "         [[4, 5]],\n",
       " \n",
       "         [[4, 5]],\n",
       " \n",
       "         [[3, 4]],\n",
       " \n",
       "         [[1, 2]],\n",
       " \n",
       "         [[1, 2]],\n",
       " \n",
       "         [[0, 1]],\n",
       " \n",
       "         [[4, 5]],\n",
       " \n",
       "         [[0, 1]],\n",
       " \n",
       "         [[1, 2]],\n",
       " \n",
       "         [[4, 5]],\n",
       " \n",
       "         [[4, 5]],\n",
       " \n",
       "         [[2, 3]],\n",
       " \n",
       "         [[0, 1]],\n",
       " \n",
       "         [[1, 2]],\n",
       " \n",
       "         [[4, 5]]]], dtype=int32)]"
      ]
     },
     "execution_count": 15,
     "metadata": {},
     "output_type": "execute_result"
    }
   ],
   "source": [
    "[jnp.reshape(indices[:, i], (-1, hyper_params.num_features, *suffix)) for i, suffix in enumerate(shape_suffix)]"
   ]
  },
  {
   "cell_type": "code",
   "execution_count": 11,
   "metadata": {},
   "outputs": [
    {
     "data": {
      "text/plain": [
       "(1, 2, 50, 2)"
      ]
     },
     "execution_count": 11,
     "metadata": {},
     "output_type": "execute_result"
    }
   ],
   "source": [
    "indices.shape"
   ]
  },
  {
   "cell_type": "code",
   "execution_count": 216,
   "metadata": {},
   "outputs": [
    {
     "data": {
      "text/plain": [
       "Array([[[[ 4,  5],\n",
       "         [ 8,  9]],\n",
       "\n",
       "        [[ 9, 10],\n",
       "         [13, 14]]]], dtype=int32)"
      ]
     },
     "execution_count": 216,
     "metadata": {},
     "output_type": "execute_result"
    }
   ],
   "source": [
    "indices[:, :, 0, :][:, :, :, None] + indices[:, :, 1, :][:, :, None, :]"
   ]
  },
  {
   "cell_type": "code",
   "execution_count": 99,
   "metadata": {},
   "outputs": [
    {
     "data": {
      "text/plain": [
       "[(np.int32(2), np.int32(1)), (np.int32(1), np.int32(2))]"
      ]
     },
     "execution_count": 99,
     "metadata": {},
     "output_type": "execute_result"
    }
   ],
   "source": [
    "shape_suffix = [tuple(*p) for p in np.split(np.eye(hyper_params.feature_dim, dtype=np.int32) + 1, hyper_params.feature_dim)]\n",
    "shape_suffix"
   ]
  },
  {
   "cell_type": "code",
   "execution_count": 101,
   "metadata": {},
   "outputs": [],
   "source": [
    "indices = sum(jnp.reshape(indices[:, i], (-1, hyper_params.num_features, *suffix)) for i, suffix in enumerate(shape_suffix))"
   ]
  },
  {
   "cell_type": "code",
   "execution_count": 104,
   "metadata": {},
   "outputs": [
    {
     "data": {
      "text/plain": [
       "Array([[ 5,  6, 10, 11]], dtype=int32)"
      ]
     },
     "execution_count": 104,
     "metadata": {},
     "output_type": "execute_result"
    }
   ],
   "source": [
    "indices += jnp.expand_dims(\n",
    "    hyper_params.num_grid_per_feature * jnp.arange(hyper_params.num_features), axis=tuple(range(-hyper_params.feature_dim, 1, 1))\n",
    ")\n",
    "indices = jnp.reshape(indices, (-1, hyper_params.num_features * 2**hyper_params.feature_dim))\n",
    "indices"
   ]
  },
  {
   "cell_type": "code",
   "execution_count": 106,
   "metadata": {},
   "outputs": [
    {
     "data": {
      "text/plain": [
       "Array([[[[0.08443601, 0.063721  ],\n",
       "         [0.48547298, 0.36637005]]]], dtype=float32)"
      ]
     },
     "execution_count": 106,
     "metadata": {},
     "output_type": "execute_result"
    }
   ],
   "source": [
    "math.prod(jnp.reshape(values[:, i], (-1, hyper_params.num_features, *suffix)) for i, suffix in enumerate(shape_suffix))"
   ]
  },
  {
   "cell_type": "code",
   "execution_count": 108,
   "metadata": {},
   "outputs": [
    {
     "data": {
      "text/plain": [
       "Array([[[[0.36637005, 0.48547298],\n",
       "         [0.063721  , 0.08443601]]]], dtype=float32)"
      ]
     },
     "execution_count": 108,
     "metadata": {},
     "output_type": "execute_result"
    }
   ],
   "source": [
    "math.prod(jnp.reshape(values[:, i], (-1, hyper_params.num_features, *suffix)) for i, suffix in enumerate(shape_suffix))"
   ]
  },
  {
   "cell_type": "code",
   "execution_count": null,
   "metadata": {},
   "outputs": [],
   "source": []
  }
 ],
 "metadata": {
  "kernelspec": {
   "display_name": ".venv",
   "language": "python",
   "name": "python3"
  },
  "language_info": {
   "codemirror_mode": {
    "name": "ipython",
    "version": 3
   },
   "file_extension": ".py",
   "mimetype": "text/x-python",
   "name": "python",
   "nbconvert_exporter": "python",
   "pygments_lexer": "ipython3",
   "version": "3.10.15"
  }
 },
 "nbformat": 4,
 "nbformat_minor": 2
}
