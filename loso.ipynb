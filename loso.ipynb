{
 "cells": [
  {
   "cell_type": "code",
   "execution_count": 22,
   "metadata": {},
   "outputs": [],
   "source": [
    "import math\n",
    "from typing import NamedTuple, Tuple\n",
    "\n",
    "import jax\n",
    "import jax.numpy as jnp\n",
    "from jax.typing import ArrayLike\n",
    "import numpy as np\n",
    "\n",
    "from dataclasses import dataclass"
   ]
  },
  {
   "cell_type": "code",
   "execution_count": 23,
   "metadata": {},
   "outputs": [],
   "source": [
    "@dataclass\n",
    "class ModelParams:\n",
    "    \"\"\"\n",
    "    model's parameters\n",
    "    \"\"\"\n",
    "    count: ArrayLike\n",
    "    projection_matrix: ArrayLike\n",
    "    xtx: ArrayLike\n",
    "    xty: ArrayLike\n",
    "    w: ArrayLike"
   ]
  },
  {
   "cell_type": "code",
   "execution_count": 26,
   "metadata": {},
   "outputs": [],
   "source": [
    "@dataclass\n",
    "class HyperParams:\n",
    "    \"\"\"\n",
    "    Hyperparameters for the model.\n",
    "    \"\"\"\n",
    "    input_dim: int = 1\n",
    "    output_dim: int = 1\n",
    "    num_features: int = 50\n",
    "    num_bins: int = 5\n",
    "    feature_dim: int = 2\n",
    "    edges: int = num_bins + 1\n",
    "    num_grid_per_feature = edges ** feature_dim\n",
    "    embedding_dim: int = num_grid_per_feature * num_features\n",
    "    eps: float = 1e-5"
   ]
  },
  {
   "cell_type": "code",
   "execution_count": 25,
   "metadata": {},
   "outputs": [],
   "source": [
    "@dataclass\n",
    "class Data:\n",
    "    \"\"\"\n",
    "    Dataset initialization\n",
    "    \"\"\"\n",
    "    num_tests: int = 200\n",
    "    num_trains: int = num_tests // 20\n",
    "    x_train: ArrayLike = jnp.linspace(-jnp.pi, jnp.pi, num_trains).reshape(num_trains, HyperParams.input_dim)\n",
    "    y_train: ArrayLike = jnp.sin(x_train)\n",
    "    x_test: ArrayLike = jnp.linspace(-jnp.pi, jnp.pi, num_tests).reshape(num_tests, HyperParams.input_dim)"
   ]
  },
  {
   "cell_type": "code",
   "execution_count": null,
   "metadata": {},
   "outputs": [],
   "source": [
    "# PRNGKey init\n",
    "seed = 0\n",
    "rng = jax.random.PRNGKey(seed)"
   ]
  },
  {
   "cell_type": "code",
   "execution_count": 27,
   "metadata": {},
   "outputs": [],
   "source": [
    "# Initialize the model's parameters\n",
    "def init(\n",
    "    rng: ArrayLike,\n",
    "    input_dim: int,\n",
    "    output_dim: int,\n",
    "    num_features: int,\n",
    "    num_bins: int,\n",
    "    feature_dim: int,\n",
    "    eps: float,\n",
    "    Mo,\n",
    ") -> ModelParams:\n",
    "    _rng, rng = jax.random.split(rng)\n",
    "    std = 1 / jnp.sqrt(input_dim)\n",
    "    # clip the projection matrix to avoid numerical instability\n",
    "    proj_matrix_clip = 2\n",
    "    projection_matrix = std * jax.random.truncated_normal(\n",
    "        _rng,\n",
    "        lower=-proj_matrix_clip,\n",
    "        upper=proj_matrix_clip,\n",
    "        shape=(num_features, input_dim, feature_dim),\n",
    "    )\n",
    "    return rng, ModelParams(\n",
    "        count=jnp.zeros(0, dtype=jnp.int32),\n",
    "        projection_matrix=projection_matrix,\n",
    "        xtx=jnp.zeros(\n",
    "            HyperParams.embedding_dim * HyperParams.embedding_dim,\n",
    "            dtype=projection_matrix.dtype,\n",
    "        ),\n",
    "        xty=jnp.zeros(\n",
    "            (HyperParams.embedding_dim, HyperParams.output_dim),\n",
    "            dtype=projection_matrix.dtype,\n",
    "        ),\n",
    "        w=jnp.zeros(\n",
    "            (HyperParams.embedding_dim, HyperParams.output_dim),\n",
    "            dtype=projection_matrix.dtype,\n",
    "        ),\n",
    "    )"
   ]
  },
  {
   "cell_type": "code",
   "execution_count": null,
   "metadata": {},
   "outputs": [],
   "source": [
    "rng, ModelParams"
   ]
  },
  {
   "cell_type": "code",
   "execution_count": null,
   "metadata": {},
   "outputs": [
    {
     "ename": "AttributeError",
     "evalue": "type object 'ModelParams' has no attribute 'w'",
     "output_type": "error",
     "traceback": [
      "\u001b[0;31m---------------------------------------------------------------------------\u001b[0m",
      "\u001b[0;31mAttributeError\u001b[0m                            Traceback (most recent call last)",
      "Cell \u001b[0;32mIn[20], line 1\u001b[0m\n\u001b[0;32m----> 1\u001b[0m \u001b[43mModelParams\u001b[49m\u001b[38;5;241;43m.\u001b[39;49m\u001b[43mw\u001b[49m\n",
      "\u001b[0;31mAttributeError\u001b[0m: type object 'ModelParams' has no attribute 'w'"
     ]
    }
   ],
   "source": [
    "ModelParams\n"
   ]
  },
  {
   "cell_type": "code",
   "execution_count": 21,
   "metadata": {},
   "outputs": [
    {
     "ename": "TypeError",
     "evalue": "ModelParams.__init__() missing 5 required positional arguments: 'count', 'projection_matrix', 'xtx', 'xty', and 'w'",
     "output_type": "error",
     "traceback": [
      "\u001b[0;31m---------------------------------------------------------------------------\u001b[0m",
      "\u001b[0;31mTypeError\u001b[0m                                 Traceback (most recent call last)",
      "Cell \u001b[0;32mIn[21], line 1\u001b[0m\n\u001b[0;32m----> 1\u001b[0m m1 \u001b[38;5;241m=\u001b[39m \u001b[43mModelParams\u001b[49m\u001b[43m(\u001b[49m\u001b[43m)\u001b[49m\n",
      "\u001b[0;31mTypeError\u001b[0m: ModelParams.__init__() missing 5 required positional arguments: 'count', 'projection_matrix', 'xtx', 'xty', and 'w'"
     ]
    }
   ],
   "source": [
    "m1 = ModelParams()"
   ]
  },
  {
   "cell_type": "code",
   "execution_count": null,
   "metadata": {},
   "outputs": [],
   "source": []
  }
 ],
 "metadata": {
  "kernelspec": {
   "display_name": ".venv",
   "language": "python",
   "name": "python3"
  },
  "language_info": {
   "codemirror_mode": {
    "name": "ipython",
    "version": 3
   },
   "file_extension": ".py",
   "mimetype": "text/x-python",
   "name": "python",
   "nbconvert_exporter": "python",
   "pygments_lexer": "ipython3",
   "version": "3.10.15"
  }
 },
 "nbformat": 4,
 "nbformat_minor": 2
}
