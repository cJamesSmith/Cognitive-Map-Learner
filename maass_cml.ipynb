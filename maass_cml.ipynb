{
 "cells": [
  {
   "cell_type": "code",
   "execution_count": 13,
   "metadata": {},
   "outputs": [],
   "source": [
    "from operator import itemgetter\n",
    "\n",
    "import jax\n",
    "import jax.numpy as jnp\n",
    "import matplotlib.pyplot as plt\n",
    "import networkx as nx\n",
    "\n",
    "from cml_utils import build_toh_adj_matrix, gen_random_graph\n",
    "import numpy as np"
   ]
  },
  {
   "cell_type": "code",
   "execution_count": 14,
   "metadata": {},
   "outputs": [],
   "source": [
    "def draw_graph(adj_list):\n",
    "    G = nx.Graph()\n",
    "    for i, neighbors in enumerate(adj_list):\n",
    "        for neighbor in neighbors:\n",
    "            G.add_edge(i, neighbor.item())\n",
    "    \n",
    "    plt.figure(figsize=(8, 8))\n",
    "    nx.draw(G, with_labels=True, node_color='lightblue', edge_color='gray', node_size=500, font_size=10)\n",
    "    plt.show()"
   ]
  },
  {
   "cell_type": "code",
   "execution_count": 15,
   "metadata": {},
   "outputs": [],
   "source": [
    "def do_graph_random_walks(adj_matrix, edge_indices, num_walks, walk_length, key):\n",
    "    num_nodes = adj_matrix.shape[0]\n",
    "    nodes = jnp.arange(num_nodes)\n",
    "    trajectories = []\n",
    "    for i in range(num_walks):\n",
    "        key, key1 = jax.random.split(key)\n",
    "        trajectory = []\n",
    "        curr_node = jax.random.choice(key1, nodes).item()\n",
    "        for j in range(walk_length):\n",
    "            key, key1 = jax.random.split(key)\n",
    "            next_node = jax.random.choice(key, jnp.where(adj_matrix[curr_node] == 1)[0]).item()\n",
    "            trajectory.append((curr_node, edge_indices[(curr_node, next_node)], next_node))\n",
    "            curr_node = next_node\n",
    "        trajectories.append(trajectory)\n",
    "    return jnp.array(trajectories), key"
   ]
  },
  {
   "cell_type": "code",
   "execution_count": 16,
   "metadata": {},
   "outputs": [],
   "source": [
    "seed = 1234\n",
    "key = jax.random.PRNGKey(seed)\n",
    "adj_matrix, edge_indices = gen_random_graph(key)\n",
    "num_walks = 200\n",
    "walk_length = 32\n",
    "trajectories, key = do_graph_random_walks(adj_matrix, edge_indices, num_walks, walk_length, key)\n",
    "n_obs = adj_matrix.shape[0]\n",
    "n_act = len(edge_indices)\n",
    "emb_dim = 1000\n",
    "Q_init_stddev = 1.0\n",
    "V_init_stddev = 0.1\n",
    "W_init_stddev = 0.1\n",
    "eta_q = 0.1\n",
    "eta_v = 0.01\n",
    "eta_w = 0.01\n",
    "num_epochs = 5"
   ]
  },
  {
   "cell_type": "code",
   "execution_count": 17,
   "metadata": {},
   "outputs": [],
   "source": [
    "key, key1, key2, key3 = jax.random.split(key, 4)"
   ]
  },
  {
   "cell_type": "code",
   "execution_count": 18,
   "metadata": {},
   "outputs": [],
   "source": [
    "Q = jax.random.normal(key1, (emb_dim, n_obs)) * Q_init_stddev\n",
    "V = jax.random.normal(key2, (emb_dim, n_act)) * V_init_stddev\n",
    "W = jax.random.normal(key3, (n_act, emb_dim)) * W_init_stddev\n",
    "Q1 = Q.copy()\n",
    "Q2 = Q.copy()\n",
    "V1 = V.copy()\n",
    "V2 = V.copy()"
   ]
  },
  {
   "cell_type": "code",
   "execution_count": 19,
   "metadata": {},
   "outputs": [
    {
     "name": "stdout",
     "output_type": "stream",
     "text": [
      "epoch 0\n",
      "epoch 1\n",
      "epoch 2\n",
      "epoch 3\n",
      "epoch 4\n"
     ]
    }
   ],
   "source": [
    "num_trajectories = trajectories.shape[0]\n",
    "mses1 = []\n",
    "mses2 = []\n",
    "for epoch in range(num_epochs):\n",
    "    print(f\"epoch {epoch}\")\n",
    "    for traj_idx in range(num_trajectories):\n",
    "        nodes = trajectories[traj_idx, :, 0]\n",
    "        edges = trajectories[traj_idx, :, 1]\n",
    "        next_nodes = trajectories[traj_idx, :, 2]\n",
    "        \n",
    "        cur_obs = np.zeros((Q1.shape[1], len(nodes)))\n",
    "        for idx, node in enumerate(nodes):\n",
    "            cur_obs[node, idx] = 1\n",
    "        next_obs = np.zeros((Q1.shape[1], len(next_nodes)))\n",
    "        for idx, node in enumerate(next_nodes):\n",
    "            next_obs[node, idx] = 1\n",
    "        actions = np.zeros((V1.shape[1], len(edges)))\n",
    "        for idx, edge in enumerate(edges):\n",
    "            actions[edge, idx] = 1\n",
    "        cur_obs = jnp.array(cur_obs)\n",
    "        next_obs = jnp.array(next_obs)\n",
    "        actions = jnp.array(actions)\n",
    "        \n",
    "        s_curr_DxL = Q1@cur_obs\n",
    "        s_next_DxL = Q1@next_obs\n",
    "\n",
    "        s_diff_DxL = s_next_DxL - s_curr_DxL\n",
    "        pred_err_DxL = s_diff_DxL - V1@actions\n",
    "\n",
    "        V1 += eta_v * pred_err_DxL@actions.T\n",
    "        Q1 += eta_q * pred_err_DxL@(cur_obs).T\n",
    "        mses1.append((pred_err_DxL ** 2).mean())\n",
    "        \n",
    "        s_curr_DxL = Q2[:, nodes]\n",
    "        s_next_DxL = Q2[:, next_nodes]\n",
    "\n",
    "        s_diff_DxL = s_next_DxL - s_curr_DxL\n",
    "        pred_err_DxL = s_diff_DxL - V2[:, edges]\n",
    "\n",
    "        V2 = V2.at[:, edges].add(eta_v * pred_err_DxL)\n",
    "        Q2 = Q2.at[:, next_nodes].add(- eta_q * pred_err_DxL)\n",
    "        # W = W.at[edges, :].add(eta_w * s_diff_DxL.T)\n",
    "        mses2.append((pred_err_DxL ** 2).mean())\n",
    "        \n",
    "    "
   ]
  },
  {
   "cell_type": "code",
   "execution_count": 113,
   "metadata": {},
   "outputs": [
    {
     "name": "stdout",
     "output_type": "stream",
     "text": [
      "epoch 0\n",
      "epoch 1\n",
      "epoch 2\n",
      "epoch 3\n",
      "epoch 4\n"
     ]
    }
   ],
   "source": [
    "num_trajectories = trajectories.shape[0]\n",
    "mses2 = []\n",
    "for epoch in range(num_epochs):\n",
    "    print(f\"epoch {epoch}\")\n",
    "    for traj_idx in range(num_trajectories):\n",
    "        nodes = trajectories[traj_idx, :, 0]\n",
    "        edges = trajectories[traj_idx, :, 1]\n",
    "        next_nodes = trajectories[traj_idx, :, 2]\n",
    "\n",
    "        s_curr_DxL = Q[:, nodes]\n",
    "        s_next_DxL = Q[:, next_nodes]\n",
    "\n",
    "        s_diff_DxL = s_next_DxL - s_curr_DxL\n",
    "        pred_err_DxL = s_diff_DxL - V[:, edges]\n",
    "\n",
    "        V = V.at[:, edges].add(eta_v * pred_err_DxL)\n",
    "        Q = Q.at[:, next_nodes].add(- eta_q * pred_err_DxL)\n",
    "        W = W.at[edges, :].add(eta_w * s_diff_DxL.T)\n",
    "        mses2.append((pred_err_DxL ** 2).mean())\n",
    "Q2 = Q.copy()"
   ]
  },
  {
   "cell_type": "code",
   "execution_count": 20,
   "metadata": {},
   "outputs": [
    {
     "data": {
      "image/png": "[encoded data removed]",
      "text/plain": [
       "<Figure size 640x480 with 1 Axes>"
      ]
     },
     "metadata": {},
     "output_type": "display_data"
    }
   ],
   "source": [
    "fig, ax = plt.subplots()\n",
    "ax.plot(mses1)\n",
    "ax.set_title('Prediction errors during training')\n",
    "ax.set_yscale('log')\n",
    "plt.show()\n",
    "plt.close(fig)"
   ]
  },
  {
   "cell_type": "code",
   "execution_count": 42,
   "metadata": {},
   "outputs": [
    {
     "name": "stdout",
     "output_type": "stream",
     "text": [
      "[ 0.5092071  -0.87236583 -0.0854843  -0.32983938]\n",
      "OrderedDict([('achieved_goal', array([-0.87827752,  1.18349779,  0.75674453])), ('desired_goal', array([ 1.33397615,  0.71079041, -0.2907592 ])), ('observation', array([ 0.02876074,  0.74619192, -0.0678519 ,  0.48257909, -0.34181877,\n",
      "       -0.85470401,  0.95182396,  0.03988686, -0.06033874,  1.18600247]))])\n"
     ]
    }
   ],
   "source": [
    "import gymnasium as gym\n",
    "import gymnasium_robotics\n",
    "\n",
    "gym.register_envs(gymnasium_robotics)\n",
    "\n",
    "env = gym.make(\"FetchReach-v2\")\n",
    "# print(env.reset())\n",
    "print(env.action_space.sample())\n",
    "print(env.observation_space.sample())"
   ]
  },
  {
   "cell_type": "code",
   "execution_count": 191,
   "metadata": {},
   "outputs": [],
   "source": [
    "trajectories = []\n",
    "episode_reward = 0\n",
    "cur_obs, info = env.reset()\n",
    "cur_obs = cur_obs[\"observation\"][[0, 1, 2, 5, 6, 7]]"
   ]
  },
  {
   "cell_type": "code",
   "execution_count": 195,
   "metadata": {},
   "outputs": [],
   "source": [
    "def discrete_action(action):\n",
    "    action = ((action[:-1])*50+0.5)\n",
    "    idx = action[0] + action[1]*2+action[2]*4\n",
    "    return np.eye(8)[:, int(idx)]"
   ]
  },
  {
   "cell_type": "code",
   "execution_count": 197,
   "metadata": {},
   "outputs": [],
   "source": [
    "while len(trajectories) < 10000:\n",
    "    action = env.action_space.sample()\n",
    "    action = np.where(action < 0, -0.01, 0.01)\n",
    "    obs, reward, terminated, truncated, info = env.step(action)\n",
    "    obs = obs[\"observation\"][[0, 1, 2, 5, 6, 7]]\n",
    "    lb = cur_obs - np.array([0.5, 0, 0.1, -0.03, -0.03, -0.03])\n",
    "    ub = cur_obs - np.array([1.5, 1.5, 1.1, 0.03, 0.03, 0.03])\n",
    "    if np.all(lb > 0) and np.all(ub < 0):\n",
    "        action = discrete_action(action)\n",
    "        trajectories.append(np.concatenate([cur_obs, action, obs]))\n",
    "    cur_obs = obs\n",
    "    # print(episode_reward) \n",
    "    # if terminated or truncated or info.get(\"is_success\", False):\n",
    "    #     print(\"Reward:\", episode_reward, \"Success?\", info.get(\"is_success\", False))\n",
    "    #     episode_reward = 0.0\n",
    "    #     obs, info = env.reset()"
   ]
  },
  {
   "cell_type": "code",
   "execution_count": 198,
   "metadata": {},
   "outputs": [
    {
     "data": {
      "text/plain": [
       "array([0., 0., 0., 0., 0., 0., 0., 1.])"
      ]
     },
     "execution_count": 198,
     "metadata": {},
     "output_type": "execute_result"
    }
   ],
   "source": [
    "action"
   ]
  },
  {
   "cell_type": "code",
   "execution_count": 199,
   "metadata": {},
   "outputs": [],
   "source": [
    "trajs_np = np.array(trajectories)"
   ]
  },
  {
   "cell_type": "code",
   "execution_count": 200,
   "metadata": {},
   "outputs": [
    {
     "data": {
      "text/plain": [
       "array([[0., 1., 0., 0., 0., 0., 0., 0.],\n",
       "       [0., 0., 0., 0., 0., 1., 0., 0.],\n",
       "       [1., 0., 0., 0., 0., 0., 0., 0.],\n",
       "       [0., 0., 0., 1., 0., 0., 0., 0.],\n",
       "       [0., 0., 1., 0., 0., 0., 0., 0.],\n",
       "       [1., 0., 0., 0., 0., 0., 0., 0.],\n",
       "       [0., 0., 1., 0., 0., 0., 0., 0.],\n",
       "       [0., 0., 0., 0., 0., 0., 1., 0.],\n",
       "       [0., 0., 1., 0., 0., 0., 0., 0.],\n",
       "       [0., 0., 0., 0., 0., 0., 0., 1.]])"
      ]
     },
     "execution_count": 200,
     "metadata": {},
     "output_type": "execute_result"
    }
   ],
   "source": [
    "trajs_np[:10, 6:6+8]"
   ]
  },
  {
   "cell_type": "code",
   "execution_count": 22,
   "metadata": {},
   "outputs": [],
   "source": [
    "import seaborn as sns\n",
    "import matplotlib.pyplot as plt"
   ]
  },
  {
   "cell_type": "code",
   "execution_count": 101,
   "metadata": {},
   "outputs": [
    {
     "data": {
      "text/plain": [
       "<Axes: ylabel='Count'>"
      ]
     },
     "execution_count": 101,
     "metadata": {},
     "output_type": "execute_result"
    },
    {
     "data": {
      "image/png": "[encoded data removed]",
      "text/plain": [
       "<Figure size 640x480 with 1 Axes>"
      ]
     },
     "metadata": {},
     "output_type": "display_data"
    }
   ],
   "source": [
    "sns.histplot(trajs_np[:, 6])"
   ]
  },
  {
   "cell_type": "code",
   "execution_count": 114,
   "metadata": {},
   "outputs": [],
   "source": [
    "def obs_continuous_to_bin(obs_con, p=0.01):\n",
    "    \"\"\"\n",
    "    obs_con[0] in [0.5, 1.5],\n",
    "    obs_con[1] in [0, 1.5],\n",
    "    obs_con[2] in [0.1, 1.1],\n",
    "    obs_con[3:6] in [-0.03, 0.03]\n",
    "    \"\"\"\n",
    "    delta_bins = np.array([0, 1 // p, 1.5 // p, 1 // p, 0.06 // p, 0.06 // p])\n",
    "    obs_discrete = obs_con.copy()\n",
    "    lb = np.array([0.5, 0, 0.1, -0.03, -0.03, -0.03])\n",
    "    obs_discrete -= lb\n",
    "    obs_discrete //= p\n",
    "    # obs_discrete[:, 0] = (obs_discrete[:, 0] - 0.5) // p\n",
    "    # obs_discrete[:, 1] = (obs_discrete[:, 1] - 0) // p\n",
    "    # obs_discrete[:, 2] = (obs_discrete[:, 2] - 0.1) // p\n",
    "    # obs_discrete[:, 3] = (obs_discrete[:, 3] + 0.03) // p\n",
    "    # obs_discrete[:, 4] = (obs_discrete[:, 4] + 0.03) // p\n",
    "    # obs_discrete[:, 5] = (obs_discrete[:, 5] + 0.03) // p\n",
    "    obs_discrete += delta_bins\n",
    "    obs_discrete = np.sum(obs_discrete, axis=1, dtype=np.int32)\n",
    "    return obs_discrete"
   ]
  },
  {
   "cell_type": "code",
   "execution_count": 204,
   "metadata": {},
   "outputs": [],
   "source": [
    "trajs_jnp = jnp.array(trajectories)"
   ]
  },
  {
   "cell_type": "code",
   "execution_count": 123,
   "metadata": {},
   "outputs": [],
   "source": [
    "key, key1, key2, key3 = jax.random.split(key, 4)"
   ]
  },
  {
   "cell_type": "code",
   "execution_count": 228,
   "metadata": {},
   "outputs": [],
   "source": [
    "emb_dim = 4000\n",
    "n_obs = 6\n",
    "n_act = 8\n",
    "Q_init_stddev = 1.0\n",
    "V_init_stddev = 0.1\n",
    "W_init_stddev = 0.1\n",
    "eta_q = 0.025\n",
    "eta_v = 0.005\n",
    "eta_w = 0.005"
   ]
  },
  {
   "cell_type": "code",
   "execution_count": 234,
   "metadata": {},
   "outputs": [],
   "source": [
    "Q = jax.random.normal(key1, (emb_dim, n_obs)) * Q_init_stddev\n",
    "V = jax.random.normal(key2, (emb_dim, n_act)) * V_init_stddev\n",
    "W = jax.random.normal(key3, (n_act, emb_dim)) * W_init_stddev"
   ]
  },
  {
   "cell_type": "code",
   "execution_count": 235,
   "metadata": {},
   "outputs": [],
   "source": [
    "mses = []\n",
    "for epoch in range(10):\n",
    "    s_curr_DxL = Q @ trajs_jnp[:, :6].T\n",
    "    s_next_DxL = Q @ trajs_jnp[:, 14:].T\n",
    "    s_diff_DxL = s_next_DxL - V @ trajs_jnp[:, 6:14].T\n",
    "    V += eta_v * s_diff_DxL @ trajs_jnp[:, 6:14]\n",
    "    # V = V.at[:, edges].add(eta_v * pred_err_DxL)\n",
    "    Q += eta_q * s_diff_DxL @ (trajs_jnp[:, :6] - trajs_jnp[:, 14:])\n",
    "    # W += eta_w * (s_diff_DxL @ trajs_jnp[:, 6:14]).T\n",
    "    # pred_err_DxL = s_diff_DxL - V @ trajs_jnp[:, 6:14].T\n",
    "    mses.append((s_diff_DxL ** 2).mean())"
   ]
  },
  {
   "cell_type": "code",
   "execution_count": 236,
   "metadata": {},
   "outputs": [
    {
     "data": {
      "text/plain": [
       "[<matplotlib.lines.Line2D at 0x7f06626922c0>]"
      ]
     },
     "execution_count": 236,
     "metadata": {},
     "output_type": "execute_result"
    },
    {
     "data": {
      "image/png": "[encoded data removed]",
      "text/plain": [
       "<Figure size 640x480 with 1 Axes>"
      ]
     },
     "metadata": {},
     "output_type": "display_data"
    }
   ],
   "source": [
    "plt.plot(mses)"
   ]
  },
  {
   "cell_type": "code",
   "execution_count": 133,
   "metadata": {},
   "outputs": [
    {
     "data": {
      "text/plain": [
       "(10000, 6)"
      ]
     },
     "execution_count": 133,
     "metadata": {},
     "output_type": "execute_result"
    }
   ],
   "source": [
    "trajs_jnp[:, :6].shape"
   ]
  },
  {
   "cell_type": "code",
   "execution_count": 135,
   "metadata": {},
   "outputs": [
    {
     "data": {
      "text/plain": [
       "(1000, 6)"
      ]
     },
     "execution_count": 135,
     "metadata": {},
     "output_type": "execute_result"
    }
   ],
   "source": [
    "Q.shape"
   ]
  },
  {
   "cell_type": "code",
   "execution_count": 136,
   "metadata": {},
   "outputs": [],
   "source": [
    "s_curr_DxL = Q @ trajs_jnp[:, :6].T"
   ]
  },
  {
   "cell_type": "code",
   "execution_count": 137,
   "metadata": {},
   "outputs": [],
   "source": [
    "s_next_DxL = Q @ trajs_jnp[:, 9:].T"
   ]
  },
  {
   "cell_type": "code",
   "execution_count": 138,
   "metadata": {},
   "outputs": [],
   "source": [
    "s_diff_DxL = s_next_DxL - s_curr_DxL"
   ]
  },
  {
   "cell_type": "code",
   "execution_count": 139,
   "metadata": {},
   "outputs": [
    {
     "data": {
      "text/plain": [
       "(1000, 10000)"
      ]
     },
     "execution_count": 139,
     "metadata": {},
     "output_type": "execute_result"
    }
   ],
   "source": [
    "s_diff_DxL.shape"
   ]
  },
  {
   "cell_type": "code",
   "execution_count": 141,
   "metadata": {},
   "outputs": [
    {
     "data": {
      "text/plain": [
       "(10000, 3)"
      ]
     },
     "execution_count": 141,
     "metadata": {},
     "output_type": "execute_result"
    }
   ],
   "source": [
    "trajs_jnp[:, 6:9].shape"
   ]
  },
  {
   "cell_type": "code",
   "execution_count": 143,
   "metadata": {},
   "outputs": [
    {
     "data": {
      "text/plain": [
       "(3, 1000)"
      ]
     },
     "execution_count": 143,
     "metadata": {},
     "output_type": "execute_result"
    }
   ],
   "source": [
    "W"
   ]
  },
  {
   "cell_type": "code",
   "execution_count": 144,
   "metadata": {},
   "outputs": [
    {
     "data": {
      "text/plain": [
       "(1000, 3)"
      ]
     },
     "execution_count": 144,
     "metadata": {},
     "output_type": "execute_result"
    }
   ],
   "source": [
    "V.shape"
   ]
  },
  {
   "cell_type": "code",
   "execution_count": null,
   "metadata": {},
   "outputs": [],
   "source": []
  }
 ],
 "metadata": {
  "kernelspec": {
   "display_name": ".venv",
   "language": "python",
   "name": "python3"
  },
  "language_info": {
   "codemirror_mode": {
    "name": "ipython",
    "version": 3
   },
   "file_extension": ".py",
   "mimetype": "text/x-python",
   "name": "python",
   "nbconvert_exporter": "python",
   "pygments_lexer": "ipython3",
   "version": "3.10.15"
  }
 },
 "nbformat": 4,
 "nbformat_minor": 2
}
