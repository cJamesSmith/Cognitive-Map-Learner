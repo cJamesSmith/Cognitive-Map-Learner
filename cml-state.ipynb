{
 "cells": [
  {
   "cell_type": "code",
   "execution_count": 51,
   "metadata": {},
   "outputs": [],
   "source": [
    "import networkx as nx\n",
    "import numpy as np\n",
    "import matplotlib.pyplot as plt\n",
    "import torch\n",
    "from torch.utils.data import DataLoader, Dataset\n",
    "from torch import nn\n",
    "from torch.utils.tensorboard import SummaryWriter\n",
    "import torch.nn.functional as F\n",
    "import time\n",
    "import math\n",
    "\n",
    "from pprint import pprint"
   ]
  },
  {
   "cell_type": "code",
   "execution_count": 34,
   "metadata": {},
   "outputs": [],
   "source": [
    "class MyGraph:\n",
    "    def __init__(self, nodes: int = 5, max_edge: int = 5):\n",
    "        self.nodes = nodes  # y-axis\n",
    "        # adj = np.eye(5)\n",
    "        # adj = np.roll(adj, 1, axis=1)\n",
    "        # adj = adj.T+adj\n",
    "        self.G = nx.from_numpy_array(\n",
    "            self.construct_random_subgraph(self.nodes, max_edges=max_edge),\n",
    "            # adj,\n",
    "            create_using=nx.DiGraph(),\n",
    "        )\n",
    "        self.adj_matrix = nx.adjacency_matrix(self.G).toarray()\n",
    "        self.adjacency_dict = {k: list(v) for k, v in self.G.adjacency()}\n",
    "        self.nodes_list = list(self.G.nodes.keys())\n",
    "        self.edge_indices = self.calc_node_action_pairs()\n",
    "        self.state_dim = nodes\n",
    "        self.action_dim = None\n",
    "\n",
    "    def construct_random_subgraph(self, num_nodes, min_edges=2, max_edges=5):\n",
    "        min_edges -= 1\n",
    "        max_edges -= 1\n",
    "        connections = np.random.uniform(size=(num_nodes, num_nodes))\n",
    "        connections += np.roll(\n",
    "            np.eye(num_nodes), 1, 1\n",
    "        )  # make sure every node is connected\n",
    "        connections -= np.eye(num_nodes)  # make sure no self-connections\n",
    "        # set strongest connections\n",
    "        sorted_connections = np.sort(connections)[:, ::-1]\n",
    "        min_edges = min_edges\n",
    "        max_edges = max_edges + 1\n",
    "        min_edges = int(min_edges / 2 + 0.5)  # used to be min_edges // 2\n",
    "        max_edges = int(max_edges / 2 + 0.5)\n",
    "        indices = np.stack(\n",
    "            [np.arange(num_nodes), np.random.randint(min_edges, max_edges, num_nodes)]\n",
    "        )\n",
    "        thresholds = sorted_connections[indices[0], indices[1]]\n",
    "        connections = np.where(connections > thresholds[:, None], 1.0, 0.0).astype(\n",
    "            np.float32\n",
    "        )\n",
    "        connections = np.clip(connections + connections.T, 0, 1)\n",
    "        return connections\n",
    "\n",
    "    def calc_node_action_pairs(self) -> dict[(int, int) : int]:\n",
    "        edge_indices = {}\n",
    "        for edge_idx, edge in enumerate(self.G.edges()):\n",
    "            # from_node, to_node = edge\n",
    "            # from_node_idx = self.nodes_list.index(from_node)\n",
    "            # to_node_idx = self.nodes_list.index(to_node)\n",
    "            edge_indices[edge] = edge_idx\n",
    "        return edge_indices\n",
    "\n",
    "    def calc_action_between_cur_and_next_node(\n",
    "        self, curr_node: int, next_node: int\n",
    "    ) -> int:\n",
    "        \"\"\"\n",
    "        each node has 4 actions: [S, N, W, E]\n",
    "        \"\"\"\n",
    "        curr_x, curr_y = self.nodes_list[curr_node]\n",
    "        next_x, next_y = self.nodes_list[next_node]\n",
    "        origin_neighbors = [\n",
    "            (curr_x + 1, curr_y),\n",
    "            (curr_x - 1, curr_y),\n",
    "            (curr_x, curr_y - 1),\n",
    "            (curr_x, curr_y + 1),\n",
    "        ]\n",
    "        action = origin_neighbors.index((next_x, next_y))\n",
    "        return action\n",
    "\n",
    "    def random_walk(self):\n",
    "        dataset = []\n",
    "        for src, tgts in self.adjacency_dict.items():\n",
    "            for tgt in tgts:\n",
    "                if tgt > src:\n",
    "                    delta_state = np.zeros(self.state_dim)\n",
    "                    delta_state[src] = -1\n",
    "                    delta_state[tgt] = 1\n",
    "                    dataset.append(delta_state.copy())\n",
    "        self.action_dim = len(dataset)\n",
    "        return np.array(dataset, dtype=np.float32)"
   ]
  },
  {
   "cell_type": "code",
   "execution_count": 4,
   "metadata": {},
   "outputs": [],
   "source": [
    "class GraphDataset(Dataset):\n",
    "    def __init__(self, dataset, n_obs):\n",
    "        self.dataset = torch.from_numpy(dataset).type(torch.float32).to(\"cuda\")\n",
    "\n",
    "    def __getitem__(self, index):\n",
    "        return self.dataset[index]\n",
    "\n",
    "    def __len__(self):\n",
    "        return len(self.dataset)"
   ]
  },
  {
   "cell_type": "code",
   "execution_count": 5,
   "metadata": {},
   "outputs": [],
   "source": [
    "class MyNNCML(nn.Module):\n",
    "    def __init__(\n",
    "        self,\n",
    "        emb_dim,\n",
    "        n_obs,\n",
    "        n_act,\n",
    "        use_nn: bool = False,\n",
    "        hidden=128,\n",
    "    ):\n",
    "        super().__init__()\n",
    "        self.use_nn = use_nn\n",
    "        self.n_act = n_act\n",
    "        self.n_obs = n_obs\n",
    "        if use_nn:\n",
    "            self.Q = nn.Sequential(\n",
    "                nn.Linear(self.n_obs, hidden, bias=True),\n",
    "                nn.ReLU(),\n",
    "                nn.Linear(hidden, emb_dim, bias=True),\n",
    "                nn.Tanh()\n",
    "            )\n",
    "            self.decoder = nn.Sequential()\n",
    "        else:\n",
    "            self.Q = nn.Linear(n_obs, emb_dim, bias=False)\n",
    "            self.decoder = nn.Linear(emb_dim, n_obs, bias=False)\n",
    "\n",
    "    def forward(self, delta_state: torch.Tensor):\n",
    "        output = self.Q(delta_state)\n",
    "        recon = self.decoder(output)\n",
    "        return output"
   ]
  },
  {
   "cell_type": "code",
   "execution_count": 65,
   "metadata": {},
   "outputs": [],
   "source": [
    "def CML_planner(graph: MyGraph, start: int, goal: int, model: MyNNCML):\n",
    "    node_record = []    \n",
    "    curr = start\n",
    "    tgt = torch.zeros(graph.state_dim, dtype=torch.float32)\n",
    "    tgt[start] = -1\n",
    "    tgt[goal] = 1\n",
    "    tgt_emb = model(tgt.to('cuda'))\n",
    "    for i in range(graph.action_dim):\n",
    "        node_record.append(curr)\n",
    "        if curr == goal:\n",
    "            return i, node_record\n",
    "        tgt = torch.zeros(graph.state_dim, dtype=torch.float32)\n",
    "        tgt[curr] = -1\n",
    "        tgt[goal] = 1\n",
    "        tgt_emb = model(tgt.to('cuda'))\n",
    "        temp_max = -np.inf\n",
    "        idx_max = -1\n",
    "        for next_node in graph.adjacency_dict[curr]:\n",
    "            if next_node not in node_record:\n",
    "                now = torch.zeros(graph.state_dim, dtype=torch.float32)\n",
    "                now[curr] = -1\n",
    "                now[next_node] = 1\n",
    "                now_emb = model(now.to('cuda'))\n",
    "                now_emb = now_emb / now_emb.norm()\n",
    "                dot_prod = now_emb @ tgt_emb\n",
    "                if dot_prod > temp_max:\n",
    "                    temp_max = dot_prod\n",
    "                    idx_max = next_node\n",
    "        if idx_max == -1:\n",
    "            print(\"planning failed\")\n",
    "            raise ValueError\n",
    "        curr = idx_max\n",
    "        \n",
    "    return i, node_record"
   ]
  },
  {
   "cell_type": "code",
   "execution_count": 7,
   "metadata": {},
   "outputs": [],
   "source": [
    "def orthogonality_loss(output):\n",
    "    \"\"\"\n",
    "    Orthogonality loss to enforce outputs of a neural network to be orthogonal.\n",
    "\n",
    "    Args:\n",
    "        outputs (torch.Tensor): A tensor of shape (B, D) where B is the batch size\n",
    "                                and D is the dimensionality of the outputs.\n",
    "    Returns:\n",
    "        torch.Tensor: The orthogonality loss scalar.\n",
    "    \"\"\"\n",
    "    # Normalize the outputs row-wise\n",
    "    outputs_normalized = output / output.norm(dim=1, keepdim=True)\n",
    "\n",
    "    # Compute the Gram matrix\n",
    "    # TODO: abs norm\n",
    "    gram_matrix = torch.matmul(outputs_normalized, outputs_normalized.T)\n",
    "    # gram_matrix = torch.matmul(output, output.T)\n",
    "\n",
    "    # Create an identity matrix of the same size as the Gram matrix\n",
    "    identity_matrix = torch.eye(gram_matrix.size(0), device=output.device)\n",
    "\n",
    "    # Compute the Frobenius norm of the difference between Gram and Identity\n",
    "    loss = torch.mean((gram_matrix - identity_matrix)**2)\n",
    "    # loss = torch.norm(gram_matrix - torch.diag(gram_matrix), p=\"fro\") ** 2\n",
    "\n",
    "    return loss"
   ]
  },
  {
   "cell_type": "code",
   "execution_count": 40,
   "metadata": {},
   "outputs": [
    {
     "name": "stdout",
     "output_type": "stream",
     "text": [
      "5 6\n"
     ]
    },
    {
     "data": {
      "text/plain": [
       "array([-1.,  1.,  0.,  0.,  0.], dtype=float32)"
      ]
     },
     "execution_count": 40,
     "metadata": {},
     "output_type": "execute_result"
    }
   ],
   "source": [
    "map_size = 5\n",
    "my_graph = MyGraph(map_size)\n",
    "num_walks = 200\n",
    "walk_length = map_size\n",
    "dataset = my_graph.random_walk()\n",
    "n_obs = my_graph.state_dim\n",
    "n_act = my_graph.action_dim\n",
    "print(n_obs, n_act)\n",
    "dataset[0]"
   ]
  },
  {
   "cell_type": "code",
   "execution_count": 42,
   "metadata": {},
   "outputs": [
    {
     "data": {
      "image/png": "[encoded data removed]",
      "text/plain": [
       "<Figure size 640x480 with 1 Axes>"
      ]
     },
     "metadata": {},
     "output_type": "display_data"
    }
   ],
   "source": [
    "nx.draw(my_graph.G, with_labels=True)"
   ]
  },
  {
   "cell_type": "code",
   "execution_count": 43,
   "metadata": {},
   "outputs": [
    {
     "data": {
      "text/plain": [
       "(5, 6, True)"
      ]
     },
     "execution_count": 43,
     "metadata": {},
     "output_type": "execute_result"
    }
   ],
   "source": [
    "n_obs = my_graph.state_dim\n",
    "n_act = my_graph.action_dim\n",
    "emb_dim = 10\n",
    "hidden = 10\n",
    "use_nn = True\n",
    "num_epochs = 10\n",
    "batch_size = n_act\n",
    "dataset_torch = GraphDataset(dataset, n_obs)\n",
    "lr = 1e-3\n",
    "loader = DataLoader(dataset_torch, shuffle=True, batch_size=batch_size)\n",
    "n_obs, n_act, n_act == len(dataset_torch)"
   ]
  },
  {
   "cell_type": "code",
   "execution_count": 44,
   "metadata": {},
   "outputs": [],
   "source": [
    "model = MyNNCML(\n",
    "    emb_dim,\n",
    "    n_obs,\n",
    "    n_act,\n",
    "    use_nn=use_nn,\n",
    "    hidden=hidden,\n",
    ")\n",
    "# def init_weight(m):\n",
    "#     nn.init.normal_(m.weight, 0, 1e-1)\n",
    "# model.Q.apply(init_weight)\n",
    "# with torch.no_grad():\n",
    "#     print(model.Q.weight.mean(), model.Q.weight.var())\n",
    "optim = torch.optim.AdamW(model.parameters(), lr=lr)\n",
    "writer = SummaryWriter(f\"\"\"state_only/{time.time()}\"\"\")\n",
    "global_step = 0\n"
   ]
  },
  {
   "cell_type": "code",
   "execution_count": 45,
   "metadata": {},
   "outputs": [],
   "source": [
    "model.to(\"cuda\")\n",
    "model.train()\n",
    "for epoch in range(2000):\n",
    "    for i, data in enumerate(loader):\n",
    "        # print(i)\n",
    "        output = model(data)\n",
    "        loss = orthogonality_loss(output)\n",
    "        optim.zero_grad()\n",
    "        # loss += torch.mean((torch.norm(output, dim=1) - .1) ** 2)\n",
    "        # loss += torch.mean(((model.Q.weight.T @ model.Q.weight) - torch.eye(n_obs, device=output.device)) ** 2)\n",
    "        loss.backward()\n",
    "        optim.step()\n",
    "        global_step += 1\n",
    "        # with torch.no_grad():\n",
    "        #     model.Q.weight /= torch.linalg.norm(model.Q.weight, axis=1, keepdim=True)\n",
    "        writer.add_scalar(\"train loss\", loss.detach().item(), global_step)"
   ]
  },
  {
   "cell_type": "code",
   "execution_count": 46,
   "metadata": {},
   "outputs": [
    {
     "name": "stdout",
     "output_type": "stream",
     "text": [
      "tensor([0.5239, 0.1951, 0.4821, 0.4713, 0.4574, 0.3798], device='cuda:0')\n",
      "tensor(1.8653e-05, device='cuda:0') 6\n"
     ]
    }
   ],
   "source": [
    "with torch.no_grad():\n",
    "    model.eval()\n",
    "    # print(orthogonality_loss(output))\n",
    "    # print(model(dataset_torch[:5])@model(dataset_torch[:5]).T)\n",
    "    emb = model(dataset_torch[:])\n",
    "    print(emb[:].norm(dim=1))\n",
    "    emb_norm = emb/emb.norm(dim=1, keepdim=True)\n",
    "    # print(emb_norm)\n",
    "    # print(emb_norm[:]@emb_norm[:].T)\n",
    "    gram_matrix = torch.matmul(emb_norm, emb_norm.T)\n",
    "    identity_matrix = torch.eye(gram_matrix.size(0), device=output.device)\n",
    "    print(torch.max(gram_matrix - identity_matrix), gram_matrix.size(0))\n",
    "    # print(model(dataset_torch[:]).norm(dim=1))\n",
    "    # print(model(dataset_torch[:5]))\n",
    "    # print(model.Q.weight.mean(), model.Q.weight.var())"
   ]
  },
  {
   "cell_type": "code",
   "execution_count": 56,
   "metadata": {},
   "outputs": [],
   "source": [
    "torch.set_printoptions(precision=4,sci_mode=False, linewidth=100)"
   ]
  },
  {
   "cell_type": "code",
   "execution_count": 57,
   "metadata": {},
   "outputs": [
    {
     "name": "stdout",
     "output_type": "stream",
     "text": [
      "tensor([[     1.0000,     -0.0000,      0.0000,      0.0000,      0.0000,      0.0000],\n",
      "        [    -0.0000,      1.0000,     -0.0000,      0.0000,      0.0000,     -0.0000],\n",
      "        [     0.0000,     -0.0000,      1.0000,      0.0000,     -0.0000,      0.0000],\n",
      "        [     0.0000,      0.0000,      0.0000,      1.0000,      0.0000,      0.0000],\n",
      "        [     0.0000,      0.0000,     -0.0000,      0.0000,      1.0000,      0.0000],\n",
      "        [     0.0000,     -0.0000,      0.0000,      0.0000,      0.0000,      1.0000]],\n",
      "       device='cuda:0')\n"
     ]
    }
   ],
   "source": [
    "# pprint(dataset_torch[:], emb, gram_matrix)\n",
    "pprint(gram_matrix, width=200)"
   ]
  },
  {
   "cell_type": "code",
   "execution_count": 24,
   "metadata": {},
   "outputs": [
    {
     "data": {
      "text/plain": [
       "(tensor(0.0723, device='cuda:0', grad_fn=<DotBackward0>),\n",
       " tensor(0.1099, device='cuda:0', grad_fn=<DotBackward0>))"
      ]
     },
     "execution_count": 24,
     "metadata": {},
     "output_type": "execute_result"
    }
   ],
   "source": [
    "test_vec = torch.Tensor([0, -1, 1, 0, 0]).to('cuda')\n",
    "test_emb = model(test_vec)\n",
    "test_emb @ model(dataset_torch[0]), test_emb @ model(-dataset_torch[2])"
   ]
  },
  {
   "cell_type": "code",
   "execution_count": 76,
   "metadata": {},
   "outputs": [
    {
     "data": {
      "text/plain": [
       "tensor([[0.2193, 0.1729, 0.1725,  ..., 0.0307, 0.0642, 0.1592],\n",
       "        [0.1729, 0.2723, 0.1976,  ..., 0.0290, 0.0477, 0.1296],\n",
       "        [0.1725, 0.1976, 0.2886,  ..., 0.0450, 0.0497, 0.1259],\n",
       "        ...,\n",
       "        [0.0307, 0.0290, 0.0450,  ..., 0.6597, 0.2262, 0.0621],\n",
       "        [0.0642, 0.0477, 0.0497,  ..., 0.2262, 0.4393, 0.1278],\n",
       "        [0.1592, 0.1296, 0.1259,  ..., 0.0621, 0.1278, 0.2611]],\n",
       "       device='cuda:0', grad_fn=<MmBackward0>)"
      ]
     },
     "execution_count": 76,
     "metadata": {},
     "output_type": "execute_result"
    }
   ],
   "source": [
    "model.Q.weight.T @ model.Q.weight"
   ]
  },
  {
   "cell_type": "code",
   "execution_count": 61,
   "metadata": {},
   "outputs": [
    {
     "name": "stdout",
     "output_type": "stream",
     "text": [
      "0\n",
      "2 2\n",
      "1\n",
      "1 1\n",
      "2\n",
      "0 0\n",
      "3\n",
      "0 0\n",
      "4\n",
      "2 2\n",
      "5\n",
      "2 2\n",
      "6\n",
      "2 2\n",
      "7\n",
      "1 1\n",
      "8\n",
      "1 1\n",
      "9\n",
      "1 1\n",
      "10\n",
      "1 1\n",
      "11\n",
      "2 2\n",
      "12\n",
      "1 1\n",
      "13\n",
      "2 2\n",
      "14\n",
      "1 1\n",
      "15\n",
      "2 2\n",
      "16\n",
      "1 1\n",
      "17\n",
      "1 1\n",
      "18\n",
      "1 1\n",
      "19\n",
      "1 1\n",
      "20\n",
      "2 2\n",
      "21\n",
      "1 1\n",
      "22\n",
      "[3, 2, 1, 0] [3, 1, 0]\n",
      "1.3478260869565217 1.3043478260869565 23\n"
     ]
    }
   ],
   "source": [
    "with torch.no_grad():\n",
    "    model.eval()\n",
    "    N_goal = 2000\n",
    "    cml_distance = []\n",
    "    cml_succ = 0\n",
    "    dijkstra_distance = []\n",
    "    graph = nx.from_numpy_array(\n",
    "        my_graph.adj_matrix, create_using=nx.DiGraph()\n",
    "    )  # node_id is int, or else dijkstra will fail\n",
    "    for process in range(N_goal):\n",
    "        print(process)\n",
    "        start = np.random.randint(low=0, high=my_graph.adj_matrix.shape[0])\n",
    "        goal = np.random.randint(low=0, high=my_graph.adj_matrix.shape[0])\n",
    "        # print(start, goal)\n",
    "\n",
    "        steps, o_record = CML_planner(my_graph, start, goal, model)\n",
    "\n",
    "        dijkstra_path = nx.shortest_path(\n",
    "            graph, source=start, target=goal, weight=\"weight\"\n",
    "        )\n",
    "        dijkstra_steps = len(dijkstra_path) - 1\n",
    "\n",
    "        dijkstra_distance.append(dijkstra_steps)\n",
    "        if o_record[-1] == goal:\n",
    "            cml_distance.append(steps)\n",
    "            cml_succ += 1\n",
    "        if dijkstra_steps < steps:\n",
    "            print(o_record, dijkstra_path)\n",
    "            break\n",
    "        print(steps, dijkstra_steps)\n",
    "    print(np.mean(cml_distance), np.mean(dijkstra_distance), cml_succ)"
   ]
  },
  {
   "cell_type": "code",
   "execution_count": null,
   "metadata": {},
   "outputs": [],
   "source": [
    "writer.add_text(\n",
    "    \"result\",\n",
    "    f\"\"\"{\"nnCML\" if use_nn else \"CML\"}, \\n map_size: {str(map_size)}, n_obs: {n_obs}, n_act: {n_act}, \\n hidden: {str(hidden) if use_nn else \"0\"}, embed: {str(emb_dim)}, BS: {str(batch_size)}, \\n **CML_AL**: {np.mean(cml_distance)}, **dj_AL**: {np.mean(dijkstra_distance)}, **SR**: {cml_succ / N_goal}\"\"\",\n",
    ")"
   ]
  },
  {
   "cell_type": "code",
   "execution_count": 67,
   "metadata": {},
   "outputs": [
    {
     "name": "stdout",
     "output_type": "stream",
     "text": [
      "[3, 2, 1, 0] [3, 1, 0]\n",
      "3 2\n"
     ]
    }
   ],
   "source": [
    "start = 3\n",
    "goal = 0\n",
    "\n",
    "steps, o_record = CML_planner(my_graph, start, goal, model)\n",
    "\n",
    "dijkstra_path = nx.shortest_path(\n",
    "    graph, source=start, target=goal, weight=\"weight\"\n",
    ")\n",
    "dijkstra_steps = len(dijkstra_path) - 1\n",
    "\n",
    "dijkstra_distance.append(dijkstra_steps)\n",
    "if o_record[-1] == goal:\n",
    "    cml_distance.append(steps)\n",
    "    cml_succ += 1\n",
    "if dijkstra_steps < steps:\n",
    "    print(o_record, dijkstra_path)\n",
    "print(steps, dijkstra_steps)"
   ]
  }
 ],
 "metadata": {
  "kernelspec": {
   "display_name": ".venv",
   "language": "python",
   "name": "python3"
  },
  "language_info": {
   "codemirror_mode": {
    "name": "ipython",
    "version": 3
   },
   "file_extension": ".py",
   "mimetype": "text/x-python",
   "name": "python",
   "nbconvert_exporter": "python",
   "pygments_lexer": "ipython3",
   "version": "3.10.15"
  }
 },
 "nbformat": 4,
 "nbformat_minor": 2
}
