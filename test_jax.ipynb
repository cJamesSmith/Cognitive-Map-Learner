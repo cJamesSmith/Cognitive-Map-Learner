{
 "cells": [
  {
   "cell_type": "code",
   "execution_count": 1,
   "metadata": {},
   "outputs": [],
   "source": [
    "import jax\n",
    "import jax.numpy as jnp"
   ]
  },
  {
   "cell_type": "code",
   "execution_count": 2,
   "metadata": {},
   "outputs": [],
   "source": [
    "seed = 1234\n",
    "key = jax.random.PRNGKey(seed)"
   ]
  },
  {
   "cell_type": "code",
   "execution_count": 4,
   "metadata": {},
   "outputs": [],
   "source": [
    "keyA, keyB = jax.random.split(key)"
   ]
  },
  {
   "cell_type": "code",
   "execution_count": 89,
   "metadata": {},
   "outputs": [
    {
     "name": "stderr",
     "output_type": "stream",
     "text": [
      "/tmp/ipykernel_57938/2832504756.py:3: UserWarning: Explicitly requested dtype <class 'jax.numpy.float64'>  is not available, and will be truncated to dtype float32. To enable more dtypes, set the jax_enable_x64 configuration option or the JAX_ENABLE_X64 shell environment variable. See https://github.com/jax-ml/jax#current-gotchas for more.\n",
      "  A = jax.random.normal(keyA, (dim, dim), dtype=jnp.float64)\n",
      "/tmp/ipykernel_57938/2832504756.py:4: UserWarning: Explicitly requested dtype <class 'jax.numpy.float64'>  is not available, and will be truncated to dtype float32. To enable more dtypes, set the jax_enable_x64 configuration option or the JAX_ENABLE_X64 shell environment variable. See https://github.com/jax-ml/jax#current-gotchas for more.\n",
      "  B = jax.random.normal(keyB, (dim, dim), dtype=jnp.float64)\n"
     ]
    },
    {
     "data": {
      "text/plain": [
       "Array([ True,  True,  True,  True,  True], dtype=bool)"
      ]
     },
     "execution_count": 89,
     "metadata": {},
     "output_type": "execute_result"
    }
   ],
   "source": [
    "key, keyA, keyB = jax.random.split(key, 3)\n",
    "dim = 5\n",
    "A = jax.random.normal(keyA, (dim, dim), dtype=jnp.float64)\n",
    "B = jax.random.normal(keyB, (dim, dim), dtype=jnp.float64)\n",
    "# B = jnp.eye(dim)\n",
    "# A, B\n",
    "(A@B)[:, 0] == A@(B[:, 0])"
   ]
  },
  {
   "cell_type": "code",
   "execution_count": 2,
   "metadata": {},
   "outputs": [],
   "source": [
    "import numpy as np"
   ]
  },
  {
   "cell_type": "code",
   "execution_count": 4,
   "metadata": {},
   "outputs": [
    {
     "name": "stdout",
     "output_type": "stream",
     "text": [
      "[False False False ... False False False]\n",
      "8.752620850316362e-11\n"
     ]
    }
   ],
   "source": [
    "dim = 2000\n",
    "A = np.random.normal(size=(dim, dim*2))\n",
    "B = np.random.normal(size=(dim*2, dim))\n",
    "# B = jnp.eye(dim)\n",
    "# A, B\n",
    "print((A@B)[:, 0] == A@(B[:, 0]))\n",
    "print(np.abs((A@B)[:, 0] - A@(B[:, 0])).sum())\n"
   ]
  },
  {
   "cell_type": "code",
   "execution_count": null,
   "metadata": {},
   "outputs": [],
   "source": []
  },
  {
   "cell_type": "code",
   "execution_count": null,
   "metadata": {},
   "outputs": [],
   "source": []
  }
 ],
 "metadata": {
  "kernelspec": {
   "display_name": ".venv",
   "language": "python",
   "name": "python3"
  },
  "language_info": {
   "codemirror_mode": {
    "name": "ipython",
    "version": 3
   },
   "file_extension": ".py",
   "mimetype": "text/x-python",
   "name": "python",
   "nbconvert_exporter": "python",
   "pygments_lexer": "ipython3",
   "version": "3.10.15"
  }
 },
 "nbformat": 4,
 "nbformat_minor": 2
}
