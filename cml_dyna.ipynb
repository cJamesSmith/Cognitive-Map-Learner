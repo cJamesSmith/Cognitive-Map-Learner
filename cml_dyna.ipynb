{
 "cells": [
  {
   "cell_type": "code",
   "execution_count": 7,
   "metadata": {},
   "outputs": [],
   "source": [
    "import jax\n",
    "import jax.numpy as jnp"
   ]
  },
  {
   "cell_type": "code",
   "execution_count": 8,
   "metadata": {},
   "outputs": [
    {
     "data": {
      "text/plain": [
       "Array([[0.  , 0.  , 0.  , 0.03, 0.07],\n",
       "       [0.  , 0.  , 0.  , 0.27, 0.63],\n",
       "       [0.  , 0.  , 0.  , 0.  , 0.  ],\n",
       "       [0.  , 0.  , 0.  , 0.  , 0.  ],\n",
       "       [0.  , 0.  , 0.  , 0.  , 0.  ]], dtype=float32)"
      ]
     },
     "execution_count": 8,
     "metadata": {},
     "output_type": "execute_result"
    }
   ],
   "source": [
    "a = jnp.array([0, 0, 0, 0.3, 0.7]).reshape((1, -1))\n",
    "b = jnp.array([0.1, 0.9, 0, 0, 0]).reshape((-1, 1))\n",
    "b@a"
   ]
  },
  {
   "cell_type": "code",
   "execution_count": 9,
   "metadata": {},
   "outputs": [
    {
     "data": {
      "text/plain": [
       "(1, 5)"
      ]
     },
     "execution_count": 9,
     "metadata": {},
     "output_type": "execute_result"
    }
   ],
   "source": [
    "a.shape"
   ]
  },
  {
   "cell_type": "code",
   "execution_count": 10,
   "metadata": {},
   "outputs": [],
   "source": [
    "# training data\n",
    "num_trains = 10\n",
    "num_tests = 200\n",
    "input_dim = 1\n",
    "output_dim = 1\n",
    "x_train = jnp.linspace(-jnp.pi, jnp.pi, num_trains).reshape(num_trains, input_dim)\n",
    "y_train = jnp.sin(x_train)\n",
    "x_test = jnp.linspace(-jnp.pi, jnp.pi, num_tests).reshape(num_tests, input_dim)"
   ]
  },
  {
   "cell_type": "code",
   "execution_count": 150,
   "metadata": {},
   "outputs": [],
   "source": [
    "feature_dim = 1\n",
    "num_features = 1\n",
    "num_bins = 4"
   ]
  },
  {
   "cell_type": "code",
   "execution_count": 151,
   "metadata": {},
   "outputs": [],
   "source": [
    "std = 1 / jnp.sqrt(input_dim)\n",
    "rng = jax.random.PRNGKey(42)\n",
    "_rng, rng = jax.random.split(rng)\n",
    "projection_matrix = std * jax.random.truncated_normal(\n",
    "    key=_rng, lower=-2, upper=2, shape=(num_features, input_dim, feature_dim)\n",
    ")"
   ]
  },
  {
   "cell_type": "code",
   "execution_count": 152,
   "metadata": {},
   "outputs": [],
   "source": [
    "x = x_train[0 : 1]\n",
    "y = y_train[0 : 1]"
   ]
  },
  {
   "cell_type": "code",
   "execution_count": 153,
   "metadata": {},
   "outputs": [
    {
     "data": {
      "text/plain": [
       "(Array([[[1.5923828]]], dtype=float32), (1, 1, 1))"
      ]
     },
     "execution_count": 153,
     "metadata": {},
     "output_type": "execute_result"
    }
   ],
   "source": [
    "latent_vectors = jax.vmap(jnp.matmul, in_axes=[None, 0], out_axes=0)(x, projection_matrix)\n",
    "latent_vectors = jax.nn.sigmoid(latent_vectors)\n",
    "latent_vectors = latent_vectors * num_bins\n",
    "latent_vectors, latent_vectors.shape"
   ]
  },
  {
   "cell_type": "code",
   "execution_count": 154,
   "metadata": {},
   "outputs": [],
   "source": [
    "# latent_vector = x@projection_matrix[:, :, 0]\n",
    "# latent_vector = jax.nn.sigmoid(latent_vector)\n",
    "# latent_vector = latent_vector * num_bins\n",
    "# latent_vector"
   ]
  },
  {
   "cell_type": "code",
   "execution_count": 155,
   "metadata": {},
   "outputs": [
    {
     "data": {
      "text/plain": [
       "(Array([[[0.5923828],\n",
       "         [0.4076172]]], dtype=float32),\n",
       " (1, 2, 1),\n",
       " Array([[[1.],\n",
       "         [2.]]], dtype=float32),\n",
       " (1, 2, 1))"
      ]
     },
     "execution_count": 155,
     "metadata": {},
     "output_type": "execute_result"
    }
   ],
   "source": [
    "indices = jnp.floor(latent_vectors)\n",
    "offsets = latent_vectors - indices\n",
    "indices = jnp.concatenate([indices, indices+1], axis=1)  # 每个feature单独处理，第0维代表第几个feature，concate发生在feature内部，所以是第1维\n",
    "offsets = jnp.concatenate([offsets, 1-offsets], axis=1)\n",
    "offsets, offsets.shape, indices, indices.shape"
   ]
  },
  {
   "cell_type": "code",
   "execution_count": 156,
   "metadata": {},
   "outputs": [
    {
     "name": "stdout",
     "output_type": "stream",
     "text": [
      "[[0.5923828]\n",
      " [0.4076172]] (2, 1) [[1.]\n",
      " [2.]] (2, 1)\n"
     ]
    }
   ],
   "source": [
    "all_values = jnp.zeros(shape=(2**feature_dim*num_features), dtype=jnp.float32)\n",
    "all_indices = jnp.zeros_like(all_values, dtype=jnp.int32)  \n",
    "for j, (indice, offset) in enumerate(zip(indices, offsets)):\n",
    "    values = offset[:, 0:1]\n",
    "    index = indice[:, 0:1]\n",
    "    # multiplier = jnp.power(num_bins, jnp.arange(feature_dim-1, -1,-1))\n",
    "    if feature_dim > 1:\n",
    "        for i in range(1, feature_dim):\n",
    "            values = values@offset[:, i:i+1].T\n",
    "            values = values.reshape(-1, 1)\n",
    "            index = index*(num_bins+1) + indice[:, i]\n",
    "            index = index.reshape(-1, 1)\n",
    "    all_values = all_values.at[j * 2**feature_dim:(j+1) * 2**feature_dim].add(values.flatten())\n",
    "    all_indices = all_indices.at[j * 2**feature_dim:(j+1) * 2**feature_dim].add((index + j * num_bins**feature_dim).astype(jnp.int32).flatten())\n",
    "    print(values, values.shape, index, index.shape)"
   ]
  },
  {
   "cell_type": "code",
   "execution_count": 157,
   "metadata": {},
   "outputs": [
    {
     "data": {
      "text/plain": [
       "(Array([0.5923828, 0.4076172], dtype=float32),\n",
       " '\\n',\n",
       " Array([1, 2], dtype=int32))"
      ]
     },
     "execution_count": 157,
     "metadata": {},
     "output_type": "execute_result"
    }
   ],
   "source": [
    "all_values, '\\n', all_indices"
   ]
  },
  {
   "cell_type": "code",
   "execution_count": 141,
   "metadata": {},
   "outputs": [
    {
     "data": {
      "text/plain": [
       "1.0"
      ]
     },
     "execution_count": 141,
     "metadata": {},
     "output_type": "execute_result"
    }
   ],
   "source": [
    "0.1178593 +0.01706885+0.75563747+0.10943438"
   ]
  },
  {
   "cell_type": "code",
   "execution_count": 137,
   "metadata": {},
   "outputs": [
    {
     "data": {
      "text/plain": [
       "Array([[38.],\n",
       "       [39.],\n",
       "       [43.],\n",
       "       [44.]], dtype=float32)"
      ]
     },
     "execution_count": 137,
     "metadata": {},
     "output_type": "execute_result"
    }
   ],
   "source": [
    "index + int(j * num_bins**feature_dim)"
   ]
  },
  {
   "cell_type": "code",
   "execution_count": 132,
   "metadata": {},
   "outputs": [
    {
     "data": {
      "text/plain": [
       "_IndexUpdateRef(Array([0., 0., 0., 0., 0., 0., 0., 0., 0., 0., 0., 0., 0., 0., 0., 0., 0.,\n",
       "       0., 0., 0., 0., 0., 0., 0., 0., 0., 0., 0., 0., 0., 0., 0., 0., 0.,\n",
       "       0., 0., 0., 0., 0., 0., 0., 0., 0., 0., 0., 0., 0., 0.],      dtype=float32), slice(0, 16, None))"
      ]
     },
     "execution_count": 132,
     "metadata": {},
     "output_type": "execute_result"
    }
   ],
   "source": [
    "all_values.at[j * num_bins**feature_dim:(j+1) * num_bins**feature_dim]"
   ]
  },
  {
   "cell_type": "code",
   "execution_count": 133,
   "metadata": {},
   "outputs": [
    {
     "data": {
      "text/plain": [
       "Array([0.1178593 , 0.01706885, 0.75563747, 0.10943438], dtype=float32)"
      ]
     },
     "execution_count": 133,
     "metadata": {},
     "output_type": "execute_result"
    }
   ],
   "source": [
    "values.flatten()"
   ]
  },
  {
   "cell_type": "code",
   "execution_count": 126,
   "metadata": {},
   "outputs": [
    {
     "data": {
      "text/plain": [
       "Array([1., 1., 1.], dtype=float32)"
      ]
     },
     "execution_count": 126,
     "metadata": {},
     "output_type": "execute_result"
    }
   ],
   "source": [
    "a = jnp.ones(3)\n",
    "a"
   ]
  },
  {
   "cell_type": "code",
   "execution_count": 128,
   "metadata": {},
   "outputs": [
    {
     "data": {
      "text/plain": [
       "Array([1., 6., 1.], dtype=float32)"
      ]
     },
     "execution_count": 128,
     "metadata": {},
     "output_type": "execute_result"
    }
   ],
   "source": [
    "a.at[1].multiply(5).at[1].add(1)"
   ]
  },
  {
   "cell_type": "code",
   "execution_count": 124,
   "metadata": {},
   "outputs": [
    {
     "data": {
      "text/plain": [
       "Array([0., 0., 0.], dtype=float32)"
      ]
     },
     "execution_count": 124,
     "metadata": {},
     "output_type": "execute_result"
    }
   ],
   "source": [
    "a"
   ]
  },
  {
   "cell_type": "code",
   "execution_count": 67,
   "metadata": {},
   "outputs": [
    {
     "data": {
      "text/plain": [
       "Array([[20., 21.],\n",
       "       [25., 26.]], dtype=float32)"
      ]
     },
     "execution_count": 67,
     "metadata": {},
     "output_type": "execute_result"
    }
   ],
   "source": [
    "indices[:, 0:1] * 5 + indices[:, 1]"
   ]
  },
  {
   "cell_type": "code",
   "execution_count": 16,
   "metadata": {},
   "outputs": [
    {
     "data": {
      "text/plain": [
       "(1, 2, 50)"
      ]
     },
     "execution_count": 16,
     "metadata": {},
     "output_type": "execute_result"
    }
   ],
   "source": [
    "projection_matrix.shape"
   ]
  },
  {
   "cell_type": "code",
   "execution_count": 21,
   "metadata": {},
   "outputs": [
    {
     "data": {
      "text/plain": [
       "(1, 2)"
      ]
     },
     "execution_count": 21,
     "metadata": {},
     "output_type": "execute_result"
    }
   ],
   "source": [
    "(x@projection_matrix[:, :, 0]).shape"
   ]
  },
  {
   "cell_type": "code",
   "execution_count": 17,
   "metadata": {},
   "outputs": [
    {
     "data": {
      "text/plain": [
       "((1, 2, 50), (1, 2, 50), (1, 2, 50))"
      ]
     },
     "execution_count": 17,
     "metadata": {},
     "output_type": "execute_result"
    }
   ],
   "source": [
    "h = jax.vmap(jnp.matmul, in_axes=[None, -1], out_axes=-1)(x, projection_matrix)\n",
    "h = jax.nn.sigmoid(h)\n",
    "h = h * num_bins\n",
    "indices = jnp.floor(h).astype(jnp.int32)\n",
    "offsets = h - indices\n",
    "h.shape, indices.shape, offsets.shape  # [1, feature_dim, num_features]"
   ]
  },
  {
   "cell_type": "code",
   "execution_count": 18,
   "metadata": {},
   "outputs": [],
   "source": [
    "indices = jnp.stack([indices, indices + 1], axis=-1)  # [1, bin_dim, n_feat, 2]\n",
    "values = jnp.stack([1.0 - offsets, offsets], axis=-1)  # [1, bin_dim, n_feat, 2]"
   ]
  },
  {
   "cell_type": "code",
   "execution_count": 19,
   "metadata": {},
   "outputs": [
    {
     "ename": "NameError",
     "evalue": "name 'np' is not defined",
     "output_type": "error",
     "traceback": [
      "\u001b[0;31m---------------------------------------------------------------------------\u001b[0m",
      "\u001b[0;31mNameError\u001b[0m                                 Traceback (most recent call last)",
      "Cell \u001b[0;32mIn[19], line 4\u001b[0m\n\u001b[1;32m      2\u001b[0m indices \u001b[38;5;241m*\u001b[39m\u001b[38;5;241m=\u001b[39m multiplier[:, \u001b[38;5;28;01mNone\u001b[39;00m, \u001b[38;5;28;01mNone\u001b[39;00m]\n\u001b[1;32m      3\u001b[0m \u001b[38;5;66;03m# shape = (-1, n_feat, ) + (2,) * bin_dim\u001b[39;00m\n\u001b[0;32m----> 4\u001b[0m shape_suffix \u001b[38;5;241m=\u001b[39m [\u001b[38;5;28mtuple\u001b[39m(\u001b[38;5;241m*\u001b[39mp) \u001b[38;5;28;01mfor\u001b[39;00m p \u001b[38;5;129;01min\u001b[39;00m \u001b[43mnp\u001b[49m\u001b[38;5;241m.\u001b[39msplit(np\u001b[38;5;241m.\u001b[39meye(bin_dim, dtype\u001b[38;5;241m=\u001b[39mnp\u001b[38;5;241m.\u001b[39mint32) \u001b[38;5;241m+\u001b[39m \u001b[38;5;241m1\u001b[39m, bin_dim)]\n\u001b[1;32m      5\u001b[0m indices \u001b[38;5;241m=\u001b[39m \u001b[38;5;28msum\u001b[39m(jnp\u001b[38;5;241m.\u001b[39mreshape(indices[:, i], (\u001b[38;5;241m-\u001b[39m\u001b[38;5;241m1\u001b[39m, n_feat, \u001b[38;5;241m*\u001b[39msuffix)) \u001b[38;5;28;01mfor\u001b[39;00m i, suffix \u001b[38;5;129;01min\u001b[39;00m \u001b[38;5;28menumerate\u001b[39m(shape_suffix))\n\u001b[1;32m      6\u001b[0m values \u001b[38;5;241m=\u001b[39m math\u001b[38;5;241m.\u001b[39mprod(jnp\u001b[38;5;241m.\u001b[39mreshape(values[:, i], (\u001b[38;5;241m-\u001b[39m\u001b[38;5;241m1\u001b[39m, n_feat, \u001b[38;5;241m*\u001b[39msuffix)) \u001b[38;5;28;01mfor\u001b[39;00m i, suffix \u001b[38;5;129;01min\u001b[39;00m \u001b[38;5;28menumerate\u001b[39m(shape_suffix))\n",
      "\u001b[0;31mNameError\u001b[0m: name 'np' is not defined"
     ]
    }
   ],
   "source": [
    "multiplier = jnp.power(num_bins + 1, jnp.arange(feature_dim - 1, -1, -1))\n",
    "indices *= multiplier[:, None, None]\n",
    "# shape = (-1, n_feat, ) + (2,) * bin_dim\n",
    "shape_suffix = [tuple(*p) for p in np.split(np.eye(bin_dim, dtype=np.int32) + 1, bin_dim)]\n",
    "indices = sum(jnp.reshape(indices[:, i], (-1, n_feat, *suffix)) for i, suffix in enumerate(shape_suffix))\n",
    "values = math.prod(jnp.reshape(values[:, i], (-1, n_feat, *suffix)) for i, suffix in enumerate(shape_suffix))\n",
    "# both indices and values has the shape (-1, n_feat, *(2,)*bin_dim) now.\n",
    "indices += jnp.expand_dims(\n",
    "    n_grids_per_lsh * jnp.arange(n_feat), axis=tuple(range(-bin_dim, 1, 1))\n",
    ")  # expand 1 dim in the front and bin_dim in the back.\n",
    "indices = jnp.reshape(indices, (-1, n_feat * 2**bin_dim))\n",
    "values = jnp.reshape(values, (-1, n_feat * 2**bin_dim))"
   ]
  },
  {
   "cell_type": "code",
   "execution_count": null,
   "metadata": {},
   "outputs": [
    {
     "data": {
      "text/plain": [
       "Array([[ 0.64917064, -0.6725234 ]], dtype=float32)"
      ]
     },
     "execution_count": 23,
     "metadata": {},
     "output_type": "execute_result"
    }
   ],
   "source": [
    "num_grids_per_feature = (num_bins + 1) ** feature_dim"
   ]
  },
  {
   "cell_type": "code",
   "execution_count": null,
   "metadata": {},
   "outputs": [
    {
     "data": {
      "text/plain": [
       "Array([[[1., 1., 1., 1.],\n",
       "        [1., 1., 1., 1.],\n",
       "        [1., 1., 1., 1.]],\n",
       "\n",
       "       [[1., 1., 1., 1.],\n",
       "        [1., 1., 1., 1.],\n",
       "        [1., 1., 1., 1.]]], dtype=float32)"
      ]
     },
     "execution_count": 24,
     "metadata": {},
     "output_type": "execute_result"
    }
   ],
   "source": [
    "proj_matrix = jnp.ones(shape=(2, 3, 4))\n",
    "proj_matrix"
   ]
  },
  {
   "cell_type": "code",
   "execution_count": null,
   "metadata": {},
   "outputs": [
    {
     "data": {
      "text/plain": [
       "Array([[[-0.02335274, -0.02335274, -0.02335274, -0.02335274],\n",
       "        [-0.02335274, -0.02335274, -0.02335274, -0.02335274],\n",
       "        [-0.02335274, -0.02335274, -0.02335274, -0.02335274]]],      dtype=float32)"
      ]
     },
     "execution_count": 33,
     "metadata": {},
     "output_type": "execute_result"
    }
   ],
   "source": [
    "jax.vmap(jnp.matmul, in_axes=[None, -1], out_axes=-1)(x, proj_matrix)"
   ]
  },
  {
   "cell_type": "code",
   "execution_count": null,
   "metadata": {},
   "outputs": [],
   "source": []
  }
 ],
 "metadata": {
  "kernelspec": {
   "display_name": ".venv",
   "language": "python",
   "name": "python3"
  },
  "language_info": {
   "codemirror_mode": {
    "name": "ipython",
    "version": 3
   },
   "file_extension": ".py",
   "mimetype": "text/x-python",
   "name": "python",
   "nbconvert_exporter": "python",
   "pygments_lexer": "ipython3",
   "version": "3.10.15"
  }
 },
 "nbformat": 4,
 "nbformat_minor": 2
}
