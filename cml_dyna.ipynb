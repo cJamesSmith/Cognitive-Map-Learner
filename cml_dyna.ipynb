{
 "cells": [
  {
   "cell_type": "code",
   "execution_count": 23,
   "metadata": {},
   "outputs": [],
   "source": [
    "import jax\n",
    "import jax.numpy as jnp\n",
    "import math"
   ]
  },
  {
   "cell_type": "code",
   "execution_count": 2,
   "metadata": {},
   "outputs": [
    {
     "data": {
      "text/plain": [
       "Array([[0.  , 0.  , 0.  , 0.03, 0.07],\n",
       "       [0.  , 0.  , 0.  , 0.27, 0.63],\n",
       "       [0.  , 0.  , 0.  , 0.  , 0.  ],\n",
       "       [0.  , 0.  , 0.  , 0.  , 0.  ],\n",
       "       [0.  , 0.  , 0.  , 0.  , 0.  ]], dtype=float32)"
      ]
     },
     "execution_count": 2,
     "metadata": {},
     "output_type": "execute_result"
    }
   ],
   "source": [
    "a = jnp.array([0, 0, 0, 0.3, 0.7]).reshape((1, -1))\n",
    "b = jnp.array([0.1, 0.9, 0, 0, 0]).reshape((-1, 1))\n",
    "b@a"
   ]
  },
  {
   "cell_type": "code",
   "execution_count": 3,
   "metadata": {},
   "outputs": [
    {
     "data": {
      "text/plain": [
       "(1, 5)"
      ]
     },
     "execution_count": 3,
     "metadata": {},
     "output_type": "execute_result"
    }
   ],
   "source": [
    "a.shape"
   ]
  },
  {
   "cell_type": "code",
   "execution_count": 4,
   "metadata": {},
   "outputs": [],
   "source": [
    "# training data\n",
    "num_trains = 10\n",
    "num_tests = 200\n",
    "input_dim = 1\n",
    "output_dim = 1\n",
    "x_train = jnp.linspace(-jnp.pi, jnp.pi, num_trains).reshape(num_trains, input_dim)\n",
    "y_train = jnp.sin(x_train)\n",
    "x_test = jnp.linspace(-jnp.pi, jnp.pi, num_tests).reshape(num_tests, input_dim)"
   ]
  },
  {
   "cell_type": "code",
   "execution_count": 5,
   "metadata": {},
   "outputs": [],
   "source": [
    "feature_dim = 2\n",
    "num_features = 50\n",
    "num_bins = 5"
   ]
  },
  {
   "cell_type": "code",
   "execution_count": 6,
   "metadata": {},
   "outputs": [],
   "source": [
    "std = 1 / jnp.sqrt(input_dim)\n",
    "rng = jax.random.PRNGKey(42)\n",
    "_rng, rng = jax.random.split(rng)\n",
    "projection_matrix = std * jax.random.truncated_normal(\n",
    "    key=_rng, lower=-2, upper=2, shape=(num_features, input_dim, feature_dim)\n",
    ")"
   ]
  },
  {
   "cell_type": "code",
   "execution_count": 7,
   "metadata": {},
   "outputs": [],
   "source": [
    "x = x_train[0 : 1]\n",
    "y = y_train[0 : 1]"
   ]
  },
  {
   "cell_type": "code",
   "execution_count": 8,
   "metadata": {},
   "outputs": [
    {
     "data": {
      "text/plain": [
       "(Array([[[4.882359  , 0.7142538 ]],\n",
       " \n",
       "        [[1.0420057 , 4.8252716 ]],\n",
       " \n",
       "        [[0.31945843, 2.4596522 ]],\n",
       " \n",
       "        [[4.091795  , 3.9456549 ]],\n",
       " \n",
       "        [[1.0098107 , 1.9127394 ]],\n",
       " \n",
       "        [[4.9750767 , 0.31888887]],\n",
       " \n",
       "        [[0.7162783 , 0.42991114]],\n",
       " \n",
       "        [[3.960459  , 0.09502675]],\n",
       " \n",
       "        [[2.24647   , 4.1822186 ]],\n",
       " \n",
       "        [[0.05617506, 0.25240266]],\n",
       " \n",
       "        [[0.4121259 , 1.90544   ]],\n",
       " \n",
       "        [[4.7805457 , 0.7636429 ]],\n",
       " \n",
       "        [[2.0518212 , 4.7193713 ]],\n",
       " \n",
       "        [[0.04069029, 4.8028646 ]],\n",
       " \n",
       "        [[1.0596509 , 1.2458144 ]],\n",
       " \n",
       "        [[4.6338477 , 1.3567331 ]],\n",
       " \n",
       "        [[4.866855  , 3.9298487 ]],\n",
       " \n",
       "        [[1.1417775 , 0.3799395 ]],\n",
       " \n",
       "        [[0.17134286, 3.4881709 ]],\n",
       " \n",
       "        [[0.23484844, 4.8579545 ]],\n",
       " \n",
       "        [[4.867742  , 1.9413234 ]],\n",
       " \n",
       "        [[3.222763  , 4.3263783 ]],\n",
       " \n",
       "        [[4.0213447 , 0.04547948]],\n",
       " \n",
       "        [[4.0328035 , 1.5068208 ]],\n",
       " \n",
       "        [[3.961658  , 4.818966  ]],\n",
       " \n",
       "        [[0.05374113, 0.21159226]],\n",
       " \n",
       "        [[4.9744453 , 1.1594839 ]],\n",
       " \n",
       "        [[4.8050323 , 0.77565914]],\n",
       " \n",
       "        [[3.5559983 , 3.3046498 ]],\n",
       " \n",
       "        [[1.4334466 , 1.3475623 ]],\n",
       " \n",
       "        [[3.8324025 , 4.6958447 ]],\n",
       " \n",
       "        [[0.63250035, 4.9586368 ]],\n",
       " \n",
       "        [[4.968534  , 2.0608804 ]],\n",
       " \n",
       "        [[4.8911695 , 4.466769  ]],\n",
       " \n",
       "        [[0.55468047, 4.8726273 ]],\n",
       " \n",
       "        [[0.0097879 , 4.658933  ]],\n",
       " \n",
       "        [[0.07117476, 0.5167897 ]],\n",
       " \n",
       "        [[4.8485365 , 0.8405635 ]],\n",
       " \n",
       "        [[2.5355315 , 1.0522665 ]],\n",
       " \n",
       "        [[3.3612418 , 0.22010498]],\n",
       " \n",
       "        [[1.6327738 , 4.217884  ]],\n",
       " \n",
       "        [[4.724502  , 4.9025254 ]],\n",
       " \n",
       "        [[3.8993049 , 3.4906192 ]],\n",
       " \n",
       "        [[4.9657936 , 0.31913581]],\n",
       " \n",
       "        [[0.0819113 , 4.6904116 ]],\n",
       " \n",
       "        [[0.09864891, 3.0518482 ]],\n",
       " \n",
       "        [[0.31803948, 0.11921747]],\n",
       " \n",
       "        [[1.5021747 , 3.9465308 ]],\n",
       " \n",
       "        [[4.966614  , 3.4909081 ]],\n",
       " \n",
       "        [[4.4937096 , 2.6510224 ]]], dtype=float32),\n",
       " (50, 1, 2))"
      ]
     },
     "execution_count": 8,
     "metadata": {},
     "output_type": "execute_result"
    }
   ],
   "source": [
    "latent_vectors = jax.vmap(jnp.matmul, in_axes=[None, 0], out_axes=0)(x, projection_matrix)\n",
    "latent_vectors = jax.nn.sigmoid(latent_vectors)\n",
    "latent_vectors = latent_vectors * num_bins\n",
    "latent_vectors, latent_vectors.shape"
   ]
  },
  {
   "cell_type": "code",
   "execution_count": 154,
   "metadata": {},
   "outputs": [],
   "source": [
    "# latent_vector = x@projection_matrix[:, :, 0]\n",
    "# latent_vector = jax.nn.sigmoid(latent_vector)\n",
    "# latent_vector = latent_vector * num_bins\n",
    "# latent_vector"
   ]
  },
  {
   "cell_type": "code",
   "execution_count": 9,
   "metadata": {},
   "outputs": [
    {
     "data": {
      "text/plain": [
       "(Array([[[0.882359  , 0.7142538 ],\n",
       "         [0.11764097, 0.28574622]],\n",
       " \n",
       "        [[0.04200566, 0.8252716 ],\n",
       "         [0.95799434, 0.1747284 ]],\n",
       " \n",
       "        [[0.31945843, 0.4596522 ],\n",
       "         [0.6805416 , 0.5403478 ]],\n",
       " \n",
       "        [[0.09179497, 0.94565487],\n",
       "         [0.90820503, 0.05434513]],\n",
       " \n",
       "        [[0.00981069, 0.9127394 ],\n",
       "         [0.9901893 , 0.0872606 ]],\n",
       " \n",
       "        [[0.9750767 , 0.31888887],\n",
       "         [0.02492332, 0.6811111 ]],\n",
       " \n",
       "        [[0.7162783 , 0.42991114],\n",
       "         [0.2837217 , 0.57008886]],\n",
       " \n",
       "        [[0.960459  , 0.09502675],\n",
       "         [0.03954101, 0.90497327]],\n",
       " \n",
       "        [[0.24646997, 0.18221855],\n",
       "         [0.75353   , 0.81778145]],\n",
       " \n",
       "        [[0.05617506, 0.25240266],\n",
       "         [0.94382495, 0.74759734]],\n",
       " \n",
       "        [[0.4121259 , 0.90544   ],\n",
       "         [0.5878741 , 0.09456003]],\n",
       " \n",
       "        [[0.7805457 , 0.7636429 ],\n",
       "         [0.21945429, 0.2363571 ]],\n",
       " \n",
       "        [[0.05182123, 0.7193713 ],\n",
       "         [0.94817877, 0.28062868]],\n",
       " \n",
       "        [[0.04069029, 0.80286455],\n",
       "         [0.9593097 , 0.19713545]],\n",
       " \n",
       "        [[0.0596509 , 0.24581444],\n",
       "         [0.9403491 , 0.75418556]],\n",
       " \n",
       "        [[0.6338477 , 0.35673308],\n",
       "         [0.3661523 , 0.6432669 ]],\n",
       " \n",
       "        [[0.86685514, 0.9298487 ],\n",
       "         [0.13314486, 0.07015133]],\n",
       " \n",
       "        [[0.14177752, 0.3799395 ],\n",
       "         [0.8582225 , 0.6200605 ]],\n",
       " \n",
       "        [[0.17134286, 0.48817086],\n",
       "         [0.82865715, 0.51182914]],\n",
       " \n",
       "        [[0.23484844, 0.8579545 ],\n",
       "         [0.76515156, 0.1420455 ]],\n",
       " \n",
       "        [[0.86774206, 0.9413234 ],\n",
       "         [0.13225794, 0.0586766 ]],\n",
       " \n",
       "        [[0.22276306, 0.32637835],\n",
       "         [0.77723694, 0.67362165]],\n",
       " \n",
       "        [[0.02134466, 0.04547948],\n",
       "         [0.97865534, 0.9545205 ]],\n",
       " \n",
       "        [[0.03280354, 0.5068208 ],\n",
       "         [0.96719646, 0.4931792 ]],\n",
       " \n",
       "        [[0.961658  , 0.8189659 ],\n",
       "         [0.038342  , 0.18103409]],\n",
       " \n",
       "        [[0.05374113, 0.21159226],\n",
       "         [0.9462589 , 0.78840774]],\n",
       " \n",
       "        [[0.97444534, 0.15948391],\n",
       "         [0.02555466, 0.8405161 ]],\n",
       " \n",
       "        [[0.80503225, 0.77565914],\n",
       "         [0.19496775, 0.22434086]],\n",
       " \n",
       "        [[0.5559983 , 0.30464983],\n",
       "         [0.44400167, 0.69535017]],\n",
       " \n",
       "        [[0.43344665, 0.3475623 ],\n",
       "         [0.56655335, 0.6524377 ]],\n",
       " \n",
       "        [[0.83240247, 0.69584465],\n",
       "         [0.16759753, 0.30415535]],\n",
       " \n",
       "        [[0.63250035, 0.95863676],\n",
       "         [0.36749965, 0.04136324]],\n",
       " \n",
       "        [[0.968534  , 0.06088042],\n",
       "         [0.03146601, 0.9391196 ]],\n",
       " \n",
       "        [[0.89116955, 0.46676922],\n",
       "         [0.10883045, 0.5332308 ]],\n",
       " \n",
       "        [[0.55468047, 0.87262726],\n",
       "         [0.44531953, 0.12737274]],\n",
       " \n",
       "        [[0.0097879 , 0.65893316],\n",
       "         [0.9902121 , 0.34106684]],\n",
       " \n",
       "        [[0.07117476, 0.5167897 ],\n",
       "         [0.92882526, 0.48321033]],\n",
       " \n",
       "        [[0.8485365 , 0.8405635 ],\n",
       "         [0.15146351, 0.15943652]],\n",
       " \n",
       "        [[0.5355315 , 0.05226648],\n",
       "         [0.46446848, 0.9477335 ]],\n",
       " \n",
       "        [[0.36124182, 0.22010498],\n",
       "         [0.6387582 , 0.779895  ]],\n",
       " \n",
       "        [[0.63277376, 0.21788406],\n",
       "         [0.36722624, 0.78211594]],\n",
       " \n",
       "        [[0.7245021 , 0.9025254 ],\n",
       "         [0.2754979 , 0.09747458]],\n",
       " \n",
       "        [[0.89930487, 0.49061918],\n",
       "         [0.10069513, 0.5093808 ]],\n",
       " \n",
       "        [[0.9657936 , 0.31913581],\n",
       "         [0.03420639, 0.6808642 ]],\n",
       " \n",
       "        [[0.0819113 , 0.69041157],\n",
       "         [0.9180887 , 0.30958843]],\n",
       " \n",
       "        [[0.09864891, 0.05184817],\n",
       "         [0.9013511 , 0.9481518 ]],\n",
       " \n",
       "        [[0.31803948, 0.11921747],\n",
       "         [0.6819605 , 0.88078254]],\n",
       " \n",
       "        [[0.50217474, 0.9465308 ],\n",
       "         [0.49782526, 0.05346918]],\n",
       " \n",
       "        [[0.96661377, 0.49090815],\n",
       "         [0.03338623, 0.50909185]],\n",
       " \n",
       "        [[0.49370956, 0.65102243],\n",
       "         [0.50629044, 0.34897757]]], dtype=float32),\n",
       " (50, 2, 2),\n",
       " Array([[[4., 0.],\n",
       "         [5., 1.]],\n",
       " \n",
       "        [[1., 4.],\n",
       "         [2., 5.]],\n",
       " \n",
       "        [[0., 2.],\n",
       "         [1., 3.]],\n",
       " \n",
       "        [[4., 3.],\n",
       "         [5., 4.]],\n",
       " \n",
       "        [[1., 1.],\n",
       "         [2., 2.]],\n",
       " \n",
       "        [[4., 0.],\n",
       "         [5., 1.]],\n",
       " \n",
       "        [[0., 0.],\n",
       "         [1., 1.]],\n",
       " \n",
       "        [[3., 0.],\n",
       "         [4., 1.]],\n",
       " \n",
       "        [[2., 4.],\n",
       "         [3., 5.]],\n",
       " \n",
       "        [[0., 0.],\n",
       "         [1., 1.]],\n",
       " \n",
       "        [[0., 1.],\n",
       "         [1., 2.]],\n",
       " \n",
       "        [[4., 0.],\n",
       "         [5., 1.]],\n",
       " \n",
       "        [[2., 4.],\n",
       "         [3., 5.]],\n",
       " \n",
       "        [[0., 4.],\n",
       "         [1., 5.]],\n",
       " \n",
       "        [[1., 1.],\n",
       "         [2., 2.]],\n",
       " \n",
       "        [[4., 1.],\n",
       "         [5., 2.]],\n",
       " \n",
       "        [[4., 3.],\n",
       "         [5., 4.]],\n",
       " \n",
       "        [[1., 0.],\n",
       "         [2., 1.]],\n",
       " \n",
       "        [[0., 3.],\n",
       "         [1., 4.]],\n",
       " \n",
       "        [[0., 4.],\n",
       "         [1., 5.]],\n",
       " \n",
       "        [[4., 1.],\n",
       "         [5., 2.]],\n",
       " \n",
       "        [[3., 4.],\n",
       "         [4., 5.]],\n",
       " \n",
       "        [[4., 0.],\n",
       "         [5., 1.]],\n",
       " \n",
       "        [[4., 1.],\n",
       "         [5., 2.]],\n",
       " \n",
       "        [[3., 4.],\n",
       "         [4., 5.]],\n",
       " \n",
       "        [[0., 0.],\n",
       "         [1., 1.]],\n",
       " \n",
       "        [[4., 1.],\n",
       "         [5., 2.]],\n",
       " \n",
       "        [[4., 0.],\n",
       "         [5., 1.]],\n",
       " \n",
       "        [[3., 3.],\n",
       "         [4., 4.]],\n",
       " \n",
       "        [[1., 1.],\n",
       "         [2., 2.]],\n",
       " \n",
       "        [[3., 4.],\n",
       "         [4., 5.]],\n",
       " \n",
       "        [[0., 4.],\n",
       "         [1., 5.]],\n",
       " \n",
       "        [[4., 2.],\n",
       "         [5., 3.]],\n",
       " \n",
       "        [[4., 4.],\n",
       "         [5., 5.]],\n",
       " \n",
       "        [[0., 4.],\n",
       "         [1., 5.]],\n",
       " \n",
       "        [[0., 4.],\n",
       "         [1., 5.]],\n",
       " \n",
       "        [[0., 0.],\n",
       "         [1., 1.]],\n",
       " \n",
       "        [[4., 0.],\n",
       "         [5., 1.]],\n",
       " \n",
       "        [[2., 1.],\n",
       "         [3., 2.]],\n",
       " \n",
       "        [[3., 0.],\n",
       "         [4., 1.]],\n",
       " \n",
       "        [[1., 4.],\n",
       "         [2., 5.]],\n",
       " \n",
       "        [[4., 4.],\n",
       "         [5., 5.]],\n",
       " \n",
       "        [[3., 3.],\n",
       "         [4., 4.]],\n",
       " \n",
       "        [[4., 0.],\n",
       "         [5., 1.]],\n",
       " \n",
       "        [[0., 4.],\n",
       "         [1., 5.]],\n",
       " \n",
       "        [[0., 3.],\n",
       "         [1., 4.]],\n",
       " \n",
       "        [[0., 0.],\n",
       "         [1., 1.]],\n",
       " \n",
       "        [[1., 3.],\n",
       "         [2., 4.]],\n",
       " \n",
       "        [[4., 3.],\n",
       "         [5., 4.]],\n",
       " \n",
       "        [[4., 2.],\n",
       "         [5., 3.]]], dtype=float32),\n",
       " (50, 2, 2))"
      ]
     },
     "execution_count": 9,
     "metadata": {},
     "output_type": "execute_result"
    }
   ],
   "source": [
    "indices = jnp.floor(latent_vectors)\n",
    "offsets = latent_vectors - indices\n",
    "indices = jnp.concatenate([indices, indices+1], axis=1)  # 每个feature单独处理，第0维代表第几个feature，concate发生在feature内部，所以是第1维\n",
    "offsets = jnp.concatenate([offsets, 1-offsets], axis=1)\n",
    "offsets, offsets.shape, indices, indices.shape"
   ]
  },
  {
   "cell_type": "code",
   "execution_count": 10,
   "metadata": {},
   "outputs": [
    {
     "name": "stdout",
     "output_type": "stream",
     "text": [
      "[[0.6302283 ]\n",
      " [0.25213075]\n",
      " [0.08402551]\n",
      " [0.03361546]] (4, 1) [[24.]\n",
      " [25.]\n",
      " [30.]\n",
      " [31.]] (4, 1)\n",
      "[[0.03466608]\n",
      " [0.00733958]\n",
      " [0.79060555]\n",
      " [0.16738881]] (4, 1) [[10.]\n",
      " [11.]\n",
      " [16.]\n",
      " [17.]] (4, 1)\n",
      "[[0.14683977]\n",
      " [0.17261866]\n",
      " [0.31281242]\n",
      " [0.36772916]] (4, 1) [[2.]\n",
      " [3.]\n",
      " [8.]\n",
      " [9.]] (4, 1)\n",
      "[[0.08680636]\n",
      " [0.00498861]\n",
      " [0.8588485 ]\n",
      " [0.04935652]] (4, 1) [[27.]\n",
      " [28.]\n",
      " [33.]\n",
      " [34.]] (4, 1)\n",
      "[[8.9545995e-03]\n",
      " [8.5608638e-04]\n",
      " [9.0378481e-01]\n",
      " [8.6404517e-02]] (4, 1) [[ 7.]\n",
      " [ 8.]\n",
      " [13.]\n",
      " [14.]] (4, 1)\n",
      "[[0.3109411 ]\n",
      " [0.6641355 ]\n",
      " [0.00794777]\n",
      " [0.01697555]] (4, 1) [[24.]\n",
      " [25.]\n",
      " [30.]\n",
      " [31.]] (4, 1)\n",
      "[[0.307936  ]\n",
      " [0.4083423 ]\n",
      " [0.12197511]\n",
      " [0.16174658]] (4, 1) [[0.]\n",
      " [1.]\n",
      " [6.]\n",
      " [7.]] (4, 1)\n",
      "[[0.09126929]\n",
      " [0.86918974]\n",
      " [0.00375745]\n",
      " [0.03578356]] (4, 1) [[18.]\n",
      " [19.]\n",
      " [24.]\n",
      " [25.]] (4, 1)\n",
      "[[0.0449114 ]\n",
      " [0.20155858]\n",
      " [0.13730715]\n",
      " [0.61622286]] (4, 1) [[16.]\n",
      " [17.]\n",
      " [22.]\n",
      " [23.]] (4, 1)\n",
      "[[0.01417874]\n",
      " [0.04199633]\n",
      " [0.23822393]\n",
      " [0.70560104]] (4, 1) [[0.]\n",
      " [1.]\n",
      " [6.]\n",
      " [7.]] (4, 1)\n",
      "[[0.37315524]\n",
      " [0.03897063]\n",
      " [0.53228474]\n",
      " [0.05558939]] (4, 1) [[1.]\n",
      " [2.]\n",
      " [7.]\n",
      " [8.]] (4, 1)\n",
      "[[0.5960582 ]\n",
      " [0.18448752]\n",
      " [0.16758472]\n",
      " [0.05186958]] (4, 1) [[24.]\n",
      " [25.]\n",
      " [30.]\n",
      " [31.]] (4, 1)\n",
      "[[0.03727871]\n",
      " [0.01454252]\n",
      " [0.6820926 ]\n",
      " [0.26608616]] (4, 1) [[16.]\n",
      " [17.]\n",
      " [22.]\n",
      " [23.]] (4, 1)\n",
      "[[0.03266879]\n",
      " [0.0080215 ]\n",
      " [0.7701957 ]\n",
      " [0.18911394]] (4, 1) [[ 4.]\n",
      " [ 5.]\n",
      " [10.]\n",
      " [11.]] (4, 1)\n",
      "[[0.01466305]\n",
      " [0.04498785]\n",
      " [0.23115139]\n",
      " [0.7091977 ]] (4, 1) [[ 7.]\n",
      " [ 8.]\n",
      " [13.]\n",
      " [14.]] (4, 1)\n",
      "[[0.22611445]\n",
      " [0.40773326]\n",
      " [0.13061863]\n",
      " [0.23553365]] (4, 1) [[25.]\n",
      " [26.]\n",
      " [31.]\n",
      " [32.]] (4, 1)\n",
      "[[0.8060441 ]\n",
      " [0.06081104]\n",
      " [0.12380457]\n",
      " [0.00934029]] (4, 1) [[27.]\n",
      " [28.]\n",
      " [33.]\n",
      " [34.]] (4, 1)\n",
      "[[0.05386688]\n",
      " [0.08791064]\n",
      " [0.32607263]\n",
      " [0.53214985]] (4, 1) [[ 6.]\n",
      " [ 7.]\n",
      " [12.]\n",
      " [13.]] (4, 1)\n",
      "[[0.08364459]\n",
      " [0.08769827]\n",
      " [0.40452626]\n",
      " [0.4241309 ]] (4, 1) [[ 3.]\n",
      " [ 4.]\n",
      " [ 9.]\n",
      " [10.]] (4, 1)\n",
      "[[0.20148927]\n",
      " [0.03335916]\n",
      " [0.65646523]\n",
      " [0.10868634]] (4, 1) [[ 4.]\n",
      " [ 5.]\n",
      " [10.]\n",
      " [11.]] (4, 1)\n",
      "[[0.8168259 ]\n",
      " [0.05091615]\n",
      " [0.1244975 ]\n",
      " [0.00776045]] (4, 1) [[25.]\n",
      " [26.]\n",
      " [31.]\n",
      " [32.]] (4, 1)\n",
      "[[0.07270504]\n",
      " [0.15005802]\n",
      " [0.25367332]\n",
      " [0.5235636 ]] (4, 1) [[22.]\n",
      " [23.]\n",
      " [28.]\n",
      " [29.]] (4, 1)\n",
      "[[0.00097074]\n",
      " [0.02037392]\n",
      " [0.04450874]\n",
      " [0.9341466 ]] (4, 1) [[24.]\n",
      " [25.]\n",
      " [30.]\n",
      " [31.]] (4, 1)\n",
      "[[0.01662551]\n",
      " [0.01617802]\n",
      " [0.49019527]\n",
      " [0.4770012 ]] (4, 1) [[25.]\n",
      " [26.]\n",
      " [31.]\n",
      " [32.]] (4, 1)\n",
      "[[0.7875651 ]\n",
      " [0.17409287]\n",
      " [0.03140079]\n",
      " [0.00694121]] (4, 1) [[22.]\n",
      " [23.]\n",
      " [28.]\n",
      " [29.]] (4, 1)\n",
      "[[0.01137121]\n",
      " [0.04236992]\n",
      " [0.20022106]\n",
      " [0.74603784]] (4, 1) [[0.]\n",
      " [1.]\n",
      " [6.]\n",
      " [7.]] (4, 1)\n",
      "[[0.15540835]\n",
      " [0.81903696]\n",
      " [0.00407556]\n",
      " [0.0214791 ]] (4, 1) [[25.]\n",
      " [26.]\n",
      " [31.]\n",
      " [32.]] (4, 1)\n",
      "[[0.62443066]\n",
      " [0.18060163]\n",
      " [0.15122852]\n",
      " [0.04373923]] (4, 1) [[24.]\n",
      " [25.]\n",
      " [30.]\n",
      " [31.]] (4, 1)\n",
      "[[0.16938479]\n",
      " [0.38661352]\n",
      " [0.13526504]\n",
      " [0.30873665]] (4, 1) [[21.]\n",
      " [22.]\n",
      " [27.]\n",
      " [28.]] (4, 1)\n",
      "[[0.15064971]\n",
      " [0.28279692]\n",
      " [0.1969126 ]\n",
      " [0.36964077]] (4, 1) [[ 7.]\n",
      " [ 8.]\n",
      " [13.]\n",
      " [14.]] (4, 1)\n",
      "[[0.5792228 ]\n",
      " [0.25317967]\n",
      " [0.11662184]\n",
      " [0.05097569]] (4, 1) [[22.]\n",
      " [23.]\n",
      " [28.]\n",
      " [29.]] (4, 1)\n",
      "[[0.6063381 ]\n",
      " [0.02616226]\n",
      " [0.35229868]\n",
      " [0.01520098]] (4, 1) [[ 4.]\n",
      " [ 5.]\n",
      " [10.]\n",
      " [11.]] (4, 1)\n",
      "[[0.05896476]\n",
      " [0.90956926]\n",
      " [0.00191566]\n",
      " [0.02955034]] (4, 1) [[26.]\n",
      " [27.]\n",
      " [32.]\n",
      " [33.]] (4, 1)\n",
      "[[0.4159705 ]\n",
      " [0.47519904]\n",
      " [0.05079871]\n",
      " [0.05803175]] (4, 1) [[28.]\n",
      " [29.]\n",
      " [34.]\n",
      " [35.]] (4, 1)\n",
      "[[0.4840293 ]\n",
      " [0.07065117]\n",
      " [0.38859797]\n",
      " [0.05672157]] (4, 1) [[ 4.]\n",
      " [ 5.]\n",
      " [10.]\n",
      " [11.]] (4, 1)\n",
      "[[0.00644957]\n",
      " [0.00333833]\n",
      " [0.6524836 ]\n",
      " [0.3377285 ]] (4, 1) [[ 4.]\n",
      " [ 5.]\n",
      " [10.]\n",
      " [11.]] (4, 1)\n",
      "[[0.03678238]\n",
      " [0.03439238]\n",
      " [0.4800073 ]\n",
      " [0.44881797]] (4, 1) [[0.]\n",
      " [1.]\n",
      " [6.]\n",
      " [7.]] (4, 1)\n",
      "[[0.7132488 ]\n",
      " [0.1352877 ]\n",
      " [0.12731469]\n",
      " [0.02414882]] (4, 1) [[24.]\n",
      " [25.]\n",
      " [30.]\n",
      " [31.]] (4, 1)\n",
      "[[0.02799035]\n",
      " [0.5075412 ]\n",
      " [0.02427613]\n",
      " [0.44019234]] (4, 1) [[13.]\n",
      " [14.]\n",
      " [19.]\n",
      " [20.]] (4, 1)\n",
      "[[0.07951112]\n",
      " [0.28173068]\n",
      " [0.14059386]\n",
      " [0.49816433]] (4, 1) [[18.]\n",
      " [19.]\n",
      " [24.]\n",
      " [25.]] (4, 1)\n",
      "[[0.13787133]\n",
      " [0.49490243]\n",
      " [0.08001275]\n",
      " [0.2872135 ]] (4, 1) [[10.]\n",
      " [11.]\n",
      " [16.]\n",
      " [17.]] (4, 1)\n",
      "[[0.65388155]\n",
      " [0.07062053]\n",
      " [0.24864388]\n",
      " [0.02685404]] (4, 1) [[28.]\n",
      " [29.]\n",
      " [34.]\n",
      " [35.]] (4, 1)\n",
      "[[0.44121623]\n",
      " [0.45808864]\n",
      " [0.04940296]\n",
      " [0.05129217]] (4, 1) [[21.]\n",
      " [22.]\n",
      " [27.]\n",
      " [28.]] (4, 1)\n",
      "[[0.30821934]\n",
      " [0.6575743 ]\n",
      " [0.01091648]\n",
      " [0.02328991]] (4, 1) [[24.]\n",
      " [25.]\n",
      " [30.]\n",
      " [31.]] (4, 1)\n",
      "[[0.05655251]\n",
      " [0.02535879]\n",
      " [0.63385904]\n",
      " [0.28422964]] (4, 1) [[ 4.]\n",
      " [ 5.]\n",
      " [10.]\n",
      " [11.]] (4, 1)\n",
      "[[0.00511477]\n",
      " [0.09353414]\n",
      " [0.04673341]\n",
      " [0.8546177 ]] (4, 1) [[ 3.]\n",
      " [ 4.]\n",
      " [ 9.]\n",
      " [10.]] (4, 1)\n",
      "[[0.03791586]\n",
      " [0.28012362]\n",
      " [0.08130161]\n",
      " [0.60065895]] (4, 1) [[0.]\n",
      " [1.]\n",
      " [6.]\n",
      " [7.]] (4, 1)\n",
      "[[0.47532386]\n",
      " [0.02685087]\n",
      " [0.47120696]\n",
      " [0.02661831]] (4, 1) [[ 9.]\n",
      " [10.]\n",
      " [15.]\n",
      " [16.]] (4, 1)\n",
      "[[0.47451857]\n",
      " [0.4920952 ]\n",
      " [0.01638957]\n",
      " [0.01699666]] (4, 1) [[27.]\n",
      " [28.]\n",
      " [33.]\n",
      " [34.]] (4, 1)\n",
      "[[0.321416  ]\n",
      " [0.17229356]\n",
      " [0.32960644]\n",
      " [0.176684  ]] (4, 1) [[26.]\n",
      " [27.]\n",
      " [32.]\n",
      " [33.]] (4, 1)\n"
     ]
    }
   ],
   "source": [
    "all_values = jnp.zeros(shape=(2**feature_dim*num_features), dtype=jnp.float32)\n",
    "all_indices = jnp.zeros_like(all_values, dtype=jnp.int32)  \n",
    "for j, (indice, offset) in enumerate(zip(indices, offsets)):\n",
    "    values = offset[:, 0:1]\n",
    "    index = indice[:, 0:1]\n",
    "    # multiplier = jnp.power(num_bins, jnp.arange(feature_dim-1, -1,-1))\n",
    "    if feature_dim > 1:\n",
    "        for i in range(1, feature_dim):\n",
    "            values = values@offset[:, i:i+1].T\n",
    "            values = values.reshape(-1, 1)\n",
    "            index = index*(num_bins+1) + indice[:, i]\n",
    "            index = index.reshape(-1, 1)\n",
    "    all_values = all_values.at[j * 2**feature_dim:(j+1) * 2**feature_dim].add(values.flatten())\n",
    "    all_indices = all_indices.at[j * 2**feature_dim:(j+1) * 2**feature_dim].add((index + j * num_bins**feature_dim).astype(jnp.int32).flatten())\n",
    "    print(values, values.shape, index, index.shape)"
   ]
  },
  {
   "cell_type": "code",
   "execution_count": null,
   "metadata": {},
   "outputs": [],
   "source": [
    "def _to_1d_index(indices, offsets, n_feat, bin_dim, n_bins):\n",
    "    \"\"\"Compute the flattened index into the weight matrix.\"\"\"\n",
    "    n_grids_per_lsh = (n_bins + 1) ** bin_dim\n",
    "    indices = jnp.reshape(indices, (-1, bin_dim, n_feat))\n",
    "    offsets = jnp.reshape(offsets, (-1, bin_dim, n_feat))\n",
    "    indices = jnp.stack([indices, indices + 1], axis=-1)  # [-1, bin_dim, n_feat, 2]\n",
    "    values = jnp.stack([1.0 - offsets, offsets], axis=-1)  # [-1, bin_dim, n_feat, 2]\n",
    "    multiplier = jnp.power(n_bins + 1, jnp.arange(bin_dim - 1, -1, -1))\n",
    "    indices *= multiplier[:, None, None]\n",
    "    # shape = (-1, n_feat, ) + (2,) * bin_dim\n",
    "    shape_suffix = [tuple(*p) for p in np.split(np.eye(bin_dim, dtype=np.int32) + 1, bin_dim)]\n",
    "    indices = sum(jnp.reshape(indices[:, i], (-1, n_feat, *suffix)) for i, suffix in enumerate(shape_suffix))\n",
    "    values = math.prod(jnp.reshape(values[:, i], (-1, n_feat, *suffix)) for i, suffix in enumerate(shape_suffix))\n",
    "    # both indices and values has the shape (-1, n_feat, *(2,)*bin_dim) now.\n",
    "    indices += jnp.expand_dims(\n",
    "        n_grids_per_lsh * jnp.arange(n_feat), axis=tuple(range(-bin_dim, 1, 1))\n",
    "    )  # expand 1 dim in the front and bin_dim in the back.\n",
    "    indices = jnp.reshape(indices, (-1, n_feat * 2**bin_dim))\n",
    "    values = jnp.reshape(values, (-1, n_feat * 2**bin_dim))\n",
    "    return indices, values"
   ]
  },
  {
   "cell_type": "code",
   "execution_count": 22,
   "metadata": {},
   "outputs": [
    {
     "data": {
      "text/plain": [
       "Array([[22., 23.],\n",
       "       [27., 28.]], dtype=float32)"
      ]
     },
     "execution_count": 22,
     "metadata": {},
     "output_type": "execute_result"
    }
   ],
   "source": [
    "index = indice[:, 0:1]\n",
    "index = index*(num_bins) + indice[:, i]\n",
    "index"
   ]
  },
  {
   "cell_type": "code",
   "execution_count": 18,
   "metadata": {},
   "outputs": [
    {
     "data": {
      "text/plain": [
       "1225"
      ]
     },
     "execution_count": 18,
     "metadata": {},
     "output_type": "execute_result"
    }
   ],
   "source": [
    "49*25"
   ]
  },
  {
   "cell_type": "code",
   "execution_count": 14,
   "metadata": {},
   "outputs": [
    {
     "data": {
      "text/plain": [
       "1250"
      ]
     },
     "execution_count": 14,
     "metadata": {},
     "output_type": "execute_result"
    }
   ],
   "source": [
    "5**2*50"
   ]
  },
  {
   "cell_type": "code",
   "execution_count": 137,
   "metadata": {},
   "outputs": [
    {
     "data": {
      "text/plain": [
       "Array([[38.],\n",
       "       [39.],\n",
       "       [43.],\n",
       "       [44.]], dtype=float32)"
      ]
     },
     "execution_count": 137,
     "metadata": {},
     "output_type": "execute_result"
    }
   ],
   "source": [
    "index + int(j * num_bins**feature_dim)"
   ]
  },
  {
   "cell_type": "code",
   "execution_count": 132,
   "metadata": {},
   "outputs": [
    {
     "data": {
      "text/plain": [
       "_IndexUpdateRef(Array([0., 0., 0., 0., 0., 0., 0., 0., 0., 0., 0., 0., 0., 0., 0., 0., 0.,\n",
       "       0., 0., 0., 0., 0., 0., 0., 0., 0., 0., 0., 0., 0., 0., 0., 0., 0.,\n",
       "       0., 0., 0., 0., 0., 0., 0., 0., 0., 0., 0., 0., 0., 0.],      dtype=float32), slice(0, 16, None))"
      ]
     },
     "execution_count": 132,
     "metadata": {},
     "output_type": "execute_result"
    }
   ],
   "source": [
    "all_values.at[j * num_bins**feature_dim:(j+1) * num_bins**feature_dim]"
   ]
  },
  {
   "cell_type": "code",
   "execution_count": 133,
   "metadata": {},
   "outputs": [
    {
     "data": {
      "text/plain": [
       "Array([0.1178593 , 0.01706885, 0.75563747, 0.10943438], dtype=float32)"
      ]
     },
     "execution_count": 133,
     "metadata": {},
     "output_type": "execute_result"
    }
   ],
   "source": [
    "values.flatten()"
   ]
  },
  {
   "cell_type": "code",
   "execution_count": 126,
   "metadata": {},
   "outputs": [
    {
     "data": {
      "text/plain": [
       "Array([1., 1., 1.], dtype=float32)"
      ]
     },
     "execution_count": 126,
     "metadata": {},
     "output_type": "execute_result"
    }
   ],
   "source": [
    "a = jnp.ones(3)\n",
    "a"
   ]
  },
  {
   "cell_type": "code",
   "execution_count": 128,
   "metadata": {},
   "outputs": [
    {
     "data": {
      "text/plain": [
       "Array([1., 6., 1.], dtype=float32)"
      ]
     },
     "execution_count": 128,
     "metadata": {},
     "output_type": "execute_result"
    }
   ],
   "source": [
    "a.at[1].multiply(5).at[1].add(1)"
   ]
  },
  {
   "cell_type": "code",
   "execution_count": 124,
   "metadata": {},
   "outputs": [
    {
     "data": {
      "text/plain": [
       "Array([0., 0., 0.], dtype=float32)"
      ]
     },
     "execution_count": 124,
     "metadata": {},
     "output_type": "execute_result"
    }
   ],
   "source": [
    "a"
   ]
  },
  {
   "cell_type": "code",
   "execution_count": 67,
   "metadata": {},
   "outputs": [
    {
     "data": {
      "text/plain": [
       "Array([[20., 21.],\n",
       "       [25., 26.]], dtype=float32)"
      ]
     },
     "execution_count": 67,
     "metadata": {},
     "output_type": "execute_result"
    }
   ],
   "source": [
    "indices[:, 0:1] * 5 + indices[:, 1]"
   ]
  },
  {
   "cell_type": "code",
   "execution_count": 16,
   "metadata": {},
   "outputs": [
    {
     "data": {
      "text/plain": [
       "(1, 2, 50)"
      ]
     },
     "execution_count": 16,
     "metadata": {},
     "output_type": "execute_result"
    }
   ],
   "source": [
    "projection_matrix.shape"
   ]
  },
  {
   "cell_type": "code",
   "execution_count": 21,
   "metadata": {},
   "outputs": [
    {
     "data": {
      "text/plain": [
       "(1, 2)"
      ]
     },
     "execution_count": 21,
     "metadata": {},
     "output_type": "execute_result"
    }
   ],
   "source": [
    "(x@projection_matrix[:, :, 0]).shape"
   ]
  },
  {
   "cell_type": "code",
   "execution_count": 17,
   "metadata": {},
   "outputs": [
    {
     "data": {
      "text/plain": [
       "((1, 2, 50), (1, 2, 50), (1, 2, 50))"
      ]
     },
     "execution_count": 17,
     "metadata": {},
     "output_type": "execute_result"
    }
   ],
   "source": [
    "h = jax.vmap(jnp.matmul, in_axes=[None, -1], out_axes=-1)(x, projection_matrix)\n",
    "h = jax.nn.sigmoid(h)\n",
    "h = h * num_bins\n",
    "indices = jnp.floor(h).astype(jnp.int32)\n",
    "offsets = h - indices\n",
    "h.shape, indices.shape, offsets.shape  # [1, feature_dim, num_features]"
   ]
  },
  {
   "cell_type": "code",
   "execution_count": 18,
   "metadata": {},
   "outputs": [],
   "source": [
    "indices = jnp.stack([indices, indices + 1], axis=-1)  # [1, bin_dim, n_feat, 2]\n",
    "values = jnp.stack([1.0 - offsets, offsets], axis=-1)  # [1, bin_dim, n_feat, 2]"
   ]
  },
  {
   "cell_type": "code",
   "execution_count": 19,
   "metadata": {},
   "outputs": [
    {
     "ename": "NameError",
     "evalue": "name 'np' is not defined",
     "output_type": "error",
     "traceback": [
      "\u001b[0;31m---------------------------------------------------------------------------\u001b[0m",
      "\u001b[0;31mNameError\u001b[0m                                 Traceback (most recent call last)",
      "Cell \u001b[0;32mIn[19], line 4\u001b[0m\n\u001b[1;32m      2\u001b[0m indices \u001b[38;5;241m*\u001b[39m\u001b[38;5;241m=\u001b[39m multiplier[:, \u001b[38;5;28;01mNone\u001b[39;00m, \u001b[38;5;28;01mNone\u001b[39;00m]\n\u001b[1;32m      3\u001b[0m \u001b[38;5;66;03m# shape = (-1, n_feat, ) + (2,) * bin_dim\u001b[39;00m\n\u001b[0;32m----> 4\u001b[0m shape_suffix \u001b[38;5;241m=\u001b[39m [\u001b[38;5;28mtuple\u001b[39m(\u001b[38;5;241m*\u001b[39mp) \u001b[38;5;28;01mfor\u001b[39;00m p \u001b[38;5;129;01min\u001b[39;00m \u001b[43mnp\u001b[49m\u001b[38;5;241m.\u001b[39msplit(np\u001b[38;5;241m.\u001b[39meye(bin_dim, dtype\u001b[38;5;241m=\u001b[39mnp\u001b[38;5;241m.\u001b[39mint32) \u001b[38;5;241m+\u001b[39m \u001b[38;5;241m1\u001b[39m, bin_dim)]\n\u001b[1;32m      5\u001b[0m indices \u001b[38;5;241m=\u001b[39m \u001b[38;5;28msum\u001b[39m(jnp\u001b[38;5;241m.\u001b[39mreshape(indices[:, i], (\u001b[38;5;241m-\u001b[39m\u001b[38;5;241m1\u001b[39m, n_feat, \u001b[38;5;241m*\u001b[39msuffix)) \u001b[38;5;28;01mfor\u001b[39;00m i, suffix \u001b[38;5;129;01min\u001b[39;00m \u001b[38;5;28menumerate\u001b[39m(shape_suffix))\n\u001b[1;32m      6\u001b[0m values \u001b[38;5;241m=\u001b[39m math\u001b[38;5;241m.\u001b[39mprod(jnp\u001b[38;5;241m.\u001b[39mreshape(values[:, i], (\u001b[38;5;241m-\u001b[39m\u001b[38;5;241m1\u001b[39m, n_feat, \u001b[38;5;241m*\u001b[39msuffix)) \u001b[38;5;28;01mfor\u001b[39;00m i, suffix \u001b[38;5;129;01min\u001b[39;00m \u001b[38;5;28menumerate\u001b[39m(shape_suffix))\n",
      "\u001b[0;31mNameError\u001b[0m: name 'np' is not defined"
     ]
    }
   ],
   "source": [
    "multiplier = jnp.power(num_bins + 1, jnp.arange(feature_dim - 1, -1, -1))\n",
    "indices *= multiplier[:, None, None]\n",
    "# shape = (-1, n_feat, ) + (2,) * bin_dim\n",
    "shape_suffix = [tuple(*p) for p in np.split(np.eye(bin_dim, dtype=np.int32) + 1, bin_dim)]\n",
    "indices = sum(jnp.reshape(indices[:, i], (-1, n_feat, *suffix)) for i, suffix in enumerate(shape_suffix))\n",
    "values = math.prod(jnp.reshape(values[:, i], (-1, n_feat, *suffix)) for i, suffix in enumerate(shape_suffix))\n",
    "# both indices and values has the shape (-1, n_feat, *(2,)*bin_dim) now.\n",
    "indices += jnp.expand_dims(\n",
    "    n_grids_per_lsh * jnp.arange(n_feat), axis=tuple(range(-bin_dim, 1, 1))\n",
    ")  # expand 1 dim in the front and bin_dim in the back.\n",
    "indices = jnp.reshape(indices, (-1, n_feat * 2**bin_dim))\n",
    "values = jnp.reshape(values, (-1, n_feat * 2**bin_dim))"
   ]
  },
  {
   "cell_type": "code",
   "execution_count": null,
   "metadata": {},
   "outputs": [
    {
     "data": {
      "text/plain": [
       "Array([[ 0.64917064, -0.6725234 ]], dtype=float32)"
      ]
     },
     "execution_count": 23,
     "metadata": {},
     "output_type": "execute_result"
    }
   ],
   "source": [
    "num_grids_per_feature = (num_bins + 1) ** feature_dim"
   ]
  },
  {
   "cell_type": "code",
   "execution_count": null,
   "metadata": {},
   "outputs": [
    {
     "data": {
      "text/plain": [
       "Array([[[1., 1., 1., 1.],\n",
       "        [1., 1., 1., 1.],\n",
       "        [1., 1., 1., 1.]],\n",
       "\n",
       "       [[1., 1., 1., 1.],\n",
       "        [1., 1., 1., 1.],\n",
       "        [1., 1., 1., 1.]]], dtype=float32)"
      ]
     },
     "execution_count": 24,
     "metadata": {},
     "output_type": "execute_result"
    }
   ],
   "source": [
    "proj_matrix = jnp.ones(shape=(2, 3, 4))\n",
    "proj_matrix"
   ]
  },
  {
   "cell_type": "code",
   "execution_count": null,
   "metadata": {},
   "outputs": [
    {
     "data": {
      "text/plain": [
       "Array([[[-0.02335274, -0.02335274, -0.02335274, -0.02335274],\n",
       "        [-0.02335274, -0.02335274, -0.02335274, -0.02335274],\n",
       "        [-0.02335274, -0.02335274, -0.02335274, -0.02335274]]],      dtype=float32)"
      ]
     },
     "execution_count": 33,
     "metadata": {},
     "output_type": "execute_result"
    }
   ],
   "source": [
    "jax.vmap(jnp.matmul, in_axes=[None, -1], out_axes=-1)(x, proj_matrix)"
   ]
  },
  {
   "cell_type": "code",
   "execution_count": null,
   "metadata": {},
   "outputs": [],
   "source": []
  }
 ],
 "metadata": {
  "kernelspec": {
   "display_name": ".venv",
   "language": "python",
   "name": "python3"
  },
  "language_info": {
   "codemirror_mode": {
    "name": "ipython",
    "version": 3
   },
   "file_extension": ".py",
   "mimetype": "text/x-python",
   "name": "python",
   "nbconvert_exporter": "python",
   "pygments_lexer": "ipython3",
   "version": "3.10.15"
  }
 },
 "nbformat": 4,
 "nbformat_minor": 2
}
