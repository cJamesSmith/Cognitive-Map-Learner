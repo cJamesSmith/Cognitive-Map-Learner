{
 "cells": [
  {
   "cell_type": "markdown",
   "metadata": {},
   "source": [
    "# old code"
   ]
  },
  {
   "cell_type": "code",
   "execution_count": null,
   "metadata": {},
   "outputs": [],
   "source": [
    "import jax\n",
    "import jax.numpy as jnp\n",
    "import math\n",
    "import numpy as np"
   ]
  },
  {
   "cell_type": "code",
   "execution_count": 3,
   "metadata": {},
   "outputs": [],
   "source": [
    "# training data\n",
    "num_trains = 10\n",
    "num_tests = 200\n",
    "input_dim = 1\n",
    "output_dim = 1\n",
    "x_train = jnp.linspace(-jnp.pi, jnp.pi, num_trains).reshape(num_trains, input_dim)\n",
    "y_train = jnp.sin(x_train)\n",
    "x_test = jnp.linspace(-jnp.pi, jnp.pi, num_tests).reshape(num_tests, input_dim)"
   ]
  },
  {
   "cell_type": "code",
   "execution_count": 57,
   "metadata": {},
   "outputs": [],
   "source": [
    "feature_dim = 2\n",
    "num_features = 1\n",
    "num_bins = 3\n",
    "std = 1 / jnp.sqrt(input_dim)\n",
    "rng = jax.random.PRNGKey(42)"
   ]
  },
  {
   "cell_type": "code",
   "execution_count": 58,
   "metadata": {},
   "outputs": [],
   "source": [
    "_rng, rng = jax.random.split(rng)\n",
    "projection_matrix = std * jax.random.truncated_normal(\n",
    "    key=_rng, lower=-2, upper=2, shape=(input_dim, feature_dim, num_features)\n",
    ")"
   ]
  },
  {
   "cell_type": "code",
   "execution_count": 59,
   "metadata": {},
   "outputs": [
    {
     "data": {
      "text/plain": [
       "(Array([[[0.3790654],\n",
       "         [2.6430423]]], dtype=float32),\n",
       " (1, 2, 1))"
      ]
     },
     "execution_count": 59,
     "metadata": {},
     "output_type": "execute_result"
    }
   ],
   "source": [
    "x = x_train[0:1]\n",
    "y = y_train[0:1]\n",
    "latent_vectors = jax.vmap(jnp.matmul, in_axes=[None, -1], out_axes=-1)(\n",
    "    x, projection_matrix\n",
    ")\n",
    "latent_vectors = jax.nn.sigmoid(latent_vectors)\n",
    "latent_vectors = latent_vectors * num_bins\n",
    "latent_vectors, latent_vectors.shape"
   ]
  },
  {
   "cell_type": "code",
   "execution_count": null,
   "metadata": {},
   "outputs": [
    {
     "data": {
      "text/plain": [
       "(Array([[[[0.3790654 , 0.6209346 ]],\n",
       " \n",
       "         [[0.6430423 , 0.35695767]]]], dtype=float32),\n",
       " (1, 2, 1, 2),\n",
       " Array([[[[0, 1]],\n",
       " \n",
       "         [[2, 3]]]], dtype=int32),\n",
       " (1, 2, 1, 2))"
      ]
     },
     "execution_count": 62,
     "metadata": {},
     "output_type": "execute_result"
    }
   ],
   "source": [
    "indices = jnp.floor(latent_vectors).astype(jnp.int32)\n",
    "offsets = latent_vectors - indices\n",
    "indices = jnp.stack([indices, indices + 1], axis=-1)\n",
    "# offsets = jnp.stack([1 - offsets, offsets], axis=-1)\n",
    "offsets = jnp.stack([offsets, 1 - offsets], axis=-1)\n",
    "offsets, offsets.shape, indices, indices.shape  # # [-1, feature_dim, num_features, 2]"
   ]
  },
  {
   "cell_type": "code",
   "execution_count": null,
   "metadata": {},
   "outputs": [],
   "source": [
    "def _to_1d_index(indices, offsets, num_features, feature_dim, num_bins):\n",
    "    \"\"\"Compute the flattened index into the weight matrix.\"\"\"\n",
    "    n_grids_per_lsh = (num_bins + 1) ** feature_dim\n",
    "    multiplier = jnp.power(num_bins + 1, jnp.arange(feature_dim - 1, -1, -1))\n",
    "    indices *= multiplier[:, None, None]\n",
    "    # shape = (-1, n_feat, ) + (2,) * bin_dim\n",
    "    shape_suffix = [\n",
    "        tuple(*p)\n",
    "        for p in np.split(np.eye(feature_dim, dtype=np.int32) + 1, feature_dim)\n",
    "    ]\n",
    "    indices = sum(\n",
    "        jnp.reshape(indices[:, i], (-1, num_features, *suffix))\n",
    "        for i, suffix in enumerate(shape_suffix)\n",
    "    )\n",
    "    offsets = math.prod(\n",
    "        jnp.reshape(offsets[:, i], (-1, num_features, *suffix))\n",
    "        for i, suffix in enumerate(shape_suffix)\n",
    "    )\n",
    "    # both indices and offsets has the shape (-1, n_feat, *(2,)*bin_dim) now.\n",
    "    indices += jnp.expand_dims(\n",
    "        n_grids_per_lsh * jnp.arange(num_features),\n",
    "        axis=tuple(range(-feature_dim, 1, 1)),\n",
    "    )  # expand 1 dim in the front and bin_dim in the back.\n",
    "    indices = jnp.reshape(indices, (-1, num_features * 2**feature_dim))\n",
    "    offsets = jnp.reshape(offsets, (-1, num_features * 2**feature_dim))\n",
    "    return indices, offsets"
   ]
  },
  {
   "cell_type": "code",
   "execution_count": 63,
   "metadata": {},
   "outputs": [
    {
     "data": {
      "text/plain": [
       "(Array([[2, 3, 6, 7]], dtype=int32),\n",
       " Array([[0.24375509, 0.1353103 , 0.39928722, 0.22164737]], dtype=float32))"
      ]
     },
     "execution_count": 63,
     "metadata": {},
     "output_type": "execute_result"
    }
   ],
   "source": [
    "_to_1d_index(indices, offsets, num_features, feature_dim, num_bins)"
   ]
  },
  {
   "cell_type": "code",
   "execution_count": null,
   "metadata": {},
   "outputs": [
    {
     "ename": "ValueError",
     "evalue": "Incompatible shapes for broadcasting: (2,) and requested shape (4,)",
     "output_type": "error",
     "traceback": [
      "\u001b[0;31m---------------------------------------------------------------------------\u001b[0m",
      "\u001b[0;31mValueError\u001b[0m                                Traceback (most recent call last)",
      "Cell \u001b[0;32mIn[50], line 14\u001b[0m\n\u001b[1;32m     12\u001b[0m         index \u001b[38;5;241m=\u001b[39m index \u001b[38;5;241m*\u001b[39m (num_bins \u001b[38;5;241m+\u001b[39m \u001b[38;5;241m1\u001b[39m) \u001b[38;5;241m+\u001b[39m indices[:, i, :, j]\n\u001b[1;32m     13\u001b[0m         index \u001b[38;5;241m=\u001b[39m index\u001b[38;5;241m.\u001b[39mreshape(\u001b[38;5;241m-\u001b[39m\u001b[38;5;241m1\u001b[39m, \u001b[38;5;241m1\u001b[39m)\n\u001b[0;32m---> 14\u001b[0m all_values \u001b[38;5;241m=\u001b[39m \u001b[43mall_values\u001b[49m\u001b[38;5;241;43m.\u001b[39;49m\u001b[43mat\u001b[49m\u001b[43m[\u001b[49m\u001b[43mj\u001b[49m\u001b[43m \u001b[49m\u001b[38;5;241;43m*\u001b[39;49m\u001b[43m \u001b[49m\u001b[38;5;241;43m2\u001b[39;49m\u001b[38;5;241;43m*\u001b[39;49m\u001b[38;5;241;43m*\u001b[39;49m\u001b[43mfeature_dim\u001b[49m\u001b[43m \u001b[49m\u001b[43m:\u001b[49m\u001b[43m \u001b[49m\u001b[43m(\u001b[49m\u001b[43mj\u001b[49m\u001b[43m \u001b[49m\u001b[38;5;241;43m+\u001b[39;49m\u001b[43m \u001b[49m\u001b[38;5;241;43m1\u001b[39;49m\u001b[43m)\u001b[49m\u001b[43m \u001b[49m\u001b[38;5;241;43m*\u001b[39;49m\u001b[43m \u001b[49m\u001b[38;5;241;43m2\u001b[39;49m\u001b[38;5;241;43m*\u001b[39;49m\u001b[38;5;241;43m*\u001b[39;49m\u001b[43mfeature_dim\u001b[49m\u001b[43m]\u001b[49m\u001b[38;5;241;43m.\u001b[39;49m\u001b[43madd\u001b[49m\u001b[43m(\u001b[49m\n\u001b[1;32m     15\u001b[0m \u001b[43m    \u001b[49m\u001b[43mvalues\u001b[49m\u001b[38;5;241;43m.\u001b[39;49m\u001b[43mflatten\u001b[49m\u001b[43m(\u001b[49m\u001b[43m)\u001b[49m\n\u001b[1;32m     16\u001b[0m \u001b[43m\u001b[49m\u001b[43m)\u001b[49m\n\u001b[1;32m     17\u001b[0m all_indices \u001b[38;5;241m=\u001b[39m all_indices\u001b[38;5;241m.\u001b[39mat[j \u001b[38;5;241m*\u001b[39m \u001b[38;5;241m2\u001b[39m\u001b[38;5;241m*\u001b[39m\u001b[38;5;241m*\u001b[39mfeature_dim : (j \u001b[38;5;241m+\u001b[39m \u001b[38;5;241m1\u001b[39m) \u001b[38;5;241m*\u001b[39m \u001b[38;5;241m2\u001b[39m\u001b[38;5;241m*\u001b[39m\u001b[38;5;241m*\u001b[39mfeature_dim]\u001b[38;5;241m.\u001b[39madd(\n\u001b[1;32m     18\u001b[0m     (index \u001b[38;5;241m+\u001b[39m j \u001b[38;5;241m*\u001b[39m num_bins\u001b[38;5;241m*\u001b[39m\u001b[38;5;241m*\u001b[39mfeature_dim)\u001b[38;5;241m.\u001b[39mastype(jnp\u001b[38;5;241m.\u001b[39mint32)\u001b[38;5;241m.\u001b[39mflatten()\n\u001b[1;32m     19\u001b[0m )\n\u001b[1;32m     20\u001b[0m \u001b[38;5;66;03m# print(values, values.shape, index, index.shape)\u001b[39;00m\n",
      "File \u001b[0;32m~/cml/.venv/lib/python3.10/site-packages/jax/_src/numpy/array_methods.py:824\u001b[0m, in \u001b[0;36m_IndexUpdateRef.add\u001b[0;34m(self, values, indices_are_sorted, unique_indices, mode)\u001b[0m\n\u001b[1;32m    815\u001b[0m \u001b[38;5;28;01mdef\u001b[39;00m \u001b[38;5;21madd\u001b[39m(\u001b[38;5;28mself\u001b[39m, values, \u001b[38;5;241m*\u001b[39m, indices_are_sorted\u001b[38;5;241m=\u001b[39m\u001b[38;5;28;01mFalse\u001b[39;00m, unique_indices\u001b[38;5;241m=\u001b[39m\u001b[38;5;28;01mFalse\u001b[39;00m,\n\u001b[1;32m    816\u001b[0m         mode\u001b[38;5;241m=\u001b[39m\u001b[38;5;28;01mNone\u001b[39;00m):\n\u001b[1;32m    817\u001b[0m \u001b[38;5;250m  \u001b[39m\u001b[38;5;124;03m\"\"\"Pure equivalent of ``x[idx] += y``.\u001b[39;00m\n\u001b[1;32m    818\u001b[0m \n\u001b[1;32m    819\u001b[0m \u001b[38;5;124;03m  Returns the value of ``x`` that would result from the NumPy-style\u001b[39;00m\n\u001b[0;32m   (...)\u001b[0m\n\u001b[1;32m    822\u001b[0m \u001b[38;5;124;03m  See :mod:`jax.ops` for details.\u001b[39;00m\n\u001b[1;32m    823\u001b[0m \u001b[38;5;124;03m  \"\"\"\u001b[39;00m\n\u001b[0;32m--> 824\u001b[0m   \u001b[38;5;28;01mreturn\u001b[39;00m \u001b[43mscatter\u001b[49m\u001b[38;5;241;43m.\u001b[39;49m\u001b[43m_scatter_update\u001b[49m\u001b[43m(\u001b[49m\u001b[38;5;28;43mself\u001b[39;49m\u001b[38;5;241;43m.\u001b[39;49m\u001b[43marray\u001b[49m\u001b[43m,\u001b[49m\u001b[43m \u001b[49m\u001b[38;5;28;43mself\u001b[39;49m\u001b[38;5;241;43m.\u001b[39;49m\u001b[43mindex\u001b[49m\u001b[43m,\u001b[49m\u001b[43m \u001b[49m\u001b[43mvalues\u001b[49m\u001b[43m,\u001b[49m\n\u001b[1;32m    825\u001b[0m \u001b[43m                                 \u001b[49m\u001b[43mlax\u001b[49m\u001b[38;5;241;43m.\u001b[39;49m\u001b[43mscatter_add\u001b[49m\u001b[43m,\u001b[49m\n\u001b[1;32m    826\u001b[0m \u001b[43m                                 \u001b[49m\u001b[43mindices_are_sorted\u001b[49m\u001b[38;5;241;43m=\u001b[39;49m\u001b[43mindices_are_sorted\u001b[49m\u001b[43m,\u001b[49m\n\u001b[1;32m    827\u001b[0m \u001b[43m                                 \u001b[49m\u001b[43munique_indices\u001b[49m\u001b[38;5;241;43m=\u001b[39;49m\u001b[43munique_indices\u001b[49m\u001b[43m,\u001b[49m\u001b[43m \u001b[49m\u001b[43mmode\u001b[49m\u001b[38;5;241;43m=\u001b[39;49m\u001b[43mmode\u001b[49m\u001b[43m)\u001b[49m\n",
      "File \u001b[0;32m~/cml/.venv/lib/python3.10/site-packages/jax/_src/ops/scatter.py:76\u001b[0m, in \u001b[0;36m_scatter_update\u001b[0;34m(x, idx, y, scatter_op, indices_are_sorted, unique_indices, mode, normalize_indices)\u001b[0m\n\u001b[1;32m     73\u001b[0m \u001b[38;5;66;03m# XLA gathers and scatters are very similar in structure; the scatter logic\u001b[39;00m\n\u001b[1;32m     74\u001b[0m \u001b[38;5;66;03m# is more or less a transpose of the gather equivalent.\u001b[39;00m\n\u001b[1;32m     75\u001b[0m treedef, static_idx, dynamic_idx \u001b[38;5;241m=\u001b[39m jnp\u001b[38;5;241m.\u001b[39m_split_index_for_jit(idx, x\u001b[38;5;241m.\u001b[39mshape)\n\u001b[0;32m---> 76\u001b[0m \u001b[38;5;28;01mreturn\u001b[39;00m \u001b[43m_scatter_impl\u001b[49m\u001b[43m(\u001b[49m\u001b[43mx\u001b[49m\u001b[43m,\u001b[49m\u001b[43m \u001b[49m\u001b[43my\u001b[49m\u001b[43m,\u001b[49m\u001b[43m \u001b[49m\u001b[43mscatter_op\u001b[49m\u001b[43m,\u001b[49m\u001b[43m \u001b[49m\u001b[43mtreedef\u001b[49m\u001b[43m,\u001b[49m\u001b[43m \u001b[49m\u001b[43mstatic_idx\u001b[49m\u001b[43m,\u001b[49m\u001b[43m \u001b[49m\u001b[43mdynamic_idx\u001b[49m\u001b[43m,\u001b[49m\n\u001b[1;32m     77\u001b[0m \u001b[43m                     \u001b[49m\u001b[43mindices_are_sorted\u001b[49m\u001b[43m,\u001b[49m\u001b[43m \u001b[49m\u001b[43munique_indices\u001b[49m\u001b[43m,\u001b[49m\u001b[43m \u001b[49m\u001b[43mmode\u001b[49m\u001b[43m,\u001b[49m\n\u001b[1;32m     78\u001b[0m \u001b[43m                     \u001b[49m\u001b[43mnormalize_indices\u001b[49m\u001b[43m)\u001b[49m\n",
      "File \u001b[0;32m~/cml/.venv/lib/python3.10/site-packages/jax/_src/ops/scatter.py:111\u001b[0m, in \u001b[0;36m_scatter_impl\u001b[0;34m(x, y, scatter_op, treedef, static_idx, dynamic_idx, indices_are_sorted, unique_indices, mode, normalize_indices)\u001b[0m\n\u001b[1;32m    108\u001b[0m x, y \u001b[38;5;241m=\u001b[39m promote_dtypes(x, y)\n\u001b[1;32m    110\u001b[0m \u001b[38;5;66;03m# Broadcast `y` to the slice output shape.\u001b[39;00m\n\u001b[0;32m--> 111\u001b[0m y \u001b[38;5;241m=\u001b[39m \u001b[43mjnp\u001b[49m\u001b[38;5;241;43m.\u001b[39;49m\u001b[43mbroadcast_to\u001b[49m\u001b[43m(\u001b[49m\u001b[43my\u001b[49m\u001b[43m,\u001b[49m\u001b[43m \u001b[49m\u001b[38;5;28;43mtuple\u001b[39;49m\u001b[43m(\u001b[49m\u001b[43mindexer\u001b[49m\u001b[38;5;241;43m.\u001b[39;49m\u001b[43mslice_shape\u001b[49m\u001b[43m)\u001b[49m\u001b[43m)\u001b[49m\n\u001b[1;32m    112\u001b[0m \u001b[38;5;66;03m# Collapse any `None`/`jnp.newaxis` dimensions.\u001b[39;00m\n\u001b[1;32m    113\u001b[0m y \u001b[38;5;241m=\u001b[39m jnp\u001b[38;5;241m.\u001b[39msqueeze(y, axis\u001b[38;5;241m=\u001b[39mindexer\u001b[38;5;241m.\u001b[39mnewaxis_dims)\n",
      "File \u001b[0;32m~/cml/.venv/lib/python3.10/site-packages/jax/_src/numpy/lax_numpy.py:3207\u001b[0m, in \u001b[0;36mbroadcast_to\u001b[0;34m(array, shape)\u001b[0m\n\u001b[1;32m   3173\u001b[0m \u001b[38;5;28;01mdef\u001b[39;00m \u001b[38;5;21mbroadcast_to\u001b[39m(array: ArrayLike, shape: DimSize \u001b[38;5;241m|\u001b[39m Shape) \u001b[38;5;241m-\u001b[39m\u001b[38;5;241m>\u001b[39m Array:\n\u001b[1;32m   3174\u001b[0m \u001b[38;5;250m  \u001b[39m\u001b[38;5;124;03m\"\"\"Broadcast an array to a specified shape.\u001b[39;00m\n\u001b[1;32m   3175\u001b[0m \n\u001b[1;32m   3176\u001b[0m \u001b[38;5;124;03m  JAX implementation of :func:`numpy.broadcast_to`. JAX uses NumPy-style\u001b[39;00m\n\u001b[0;32m   (...)\u001b[0m\n\u001b[1;32m   3205\u001b[0m \u001b[38;5;124;03m  .. _NumPy broadcasting: https://numpy.org/doc/stable/user/basics.broadcasting.html\u001b[39;00m\n\u001b[1;32m   3206\u001b[0m \u001b[38;5;124;03m  \"\"\"\u001b[39;00m\n\u001b[0;32m-> 3207\u001b[0m   \u001b[38;5;28;01mreturn\u001b[39;00m \u001b[43mutil\u001b[49m\u001b[38;5;241;43m.\u001b[39;49m\u001b[43m_broadcast_to\u001b[49m\u001b[43m(\u001b[49m\u001b[43marray\u001b[49m\u001b[43m,\u001b[49m\u001b[43m \u001b[49m\u001b[43mshape\u001b[49m\u001b[43m)\u001b[49m\n",
      "File \u001b[0;32m~/cml/.venv/lib/python3.10/site-packages/jax/_src/numpy/util.py:411\u001b[0m, in \u001b[0;36m_broadcast_to\u001b[0;34m(arr, shape)\u001b[0m\n\u001b[1;32m    409\u001b[0m \u001b[38;5;28;01mif\u001b[39;00m nlead \u001b[38;5;241m<\u001b[39m \u001b[38;5;241m0\u001b[39m \u001b[38;5;129;01mor\u001b[39;00m \u001b[38;5;129;01mnot\u001b[39;00m compatible:\n\u001b[1;32m    410\u001b[0m   msg \u001b[38;5;241m=\u001b[39m \u001b[38;5;124m\"\u001b[39m\u001b[38;5;124mIncompatible shapes for broadcasting: \u001b[39m\u001b[38;5;132;01m{}\u001b[39;00m\u001b[38;5;124m and requested shape \u001b[39m\u001b[38;5;132;01m{}\u001b[39;00m\u001b[38;5;124m\"\u001b[39m\n\u001b[0;32m--> 411\u001b[0m   \u001b[38;5;28;01mraise\u001b[39;00m \u001b[38;5;167;01mValueError\u001b[39;00m(msg\u001b[38;5;241m.\u001b[39mformat(arr_shape, shape))\n\u001b[1;32m    412\u001b[0m \u001b[38;5;28;01mreturn\u001b[39;00m lax\u001b[38;5;241m.\u001b[39mbroadcast_in_dim(arr, shape, \u001b[38;5;28mtuple\u001b[39m(\u001b[38;5;28mrange\u001b[39m(nlead, \u001b[38;5;28mlen\u001b[39m(shape))))\n",
      "\u001b[0;31mValueError\u001b[0m: Incompatible shapes for broadcasting: (2,) and requested shape (4,)"
     ]
    }
   ],
   "source": [
    "def _my_to_1d_index(indices, offsets, num_features, feature_dim, num_bins):\n",
    "    all_values = jnp.zeros(shape=(2**feature_dim * num_features), dtype=jnp.float32)\n",
    "    all_indices = jnp.zeros_like(all_values, dtype=jnp.int32)\n",
    "    for j in range(num_features):\n",
    "        values = offsets[:, :, j, :]\n",
    "        index = indices[:, :, j, :]\n",
    "        # multiplier = jnp.power(num_bins, jnp.arange(feature_dim-1, -1,-1))\n",
    "        if feature_dim > 1:\n",
    "            for i in range(1, feature_dim):\n",
    "                values = values @ offsets[:, i : i + 1, :, j].T\n",
    "                values = values.reshape(-1, 1)\n",
    "                index = index * (num_bins + 1) + indices[:, i, :, j]\n",
    "                index = index.reshape(-1, 1)\n",
    "        all_values = all_values.at[j * 2**feature_dim : (j + 1) * 2**feature_dim].add(\n",
    "            values.flatten()\n",
    "        )\n",
    "        all_indices = all_indices.at[j * 2**feature_dim : (j + 1) * 2**feature_dim].add(\n",
    "            (index + j * num_bins**feature_dim).astype(jnp.int32).flatten()\n",
    "        )\n",
    "        # print(values, values.shape, index, index.shape)"
   ]
  },
  {
   "cell_type": "markdown",
   "metadata": {},
   "source": [
    "# new code"
   ]
  },
  {
   "cell_type": "code",
   "execution_count": 146,
   "metadata": {},
   "outputs": [],
   "source": [
    "import jax.numpy as jnp\n",
    "import numpy as np\n",
    "import matplotlib.pyplot as plt"
   ]
  },
  {
   "cell_type": "code",
   "execution_count": 153,
   "metadata": {},
   "outputs": [],
   "source": [
    "# training data\n",
    "num_trains = 10\n",
    "num_tests = 200\n",
    "input_dim = 1\n",
    "output_dim = 1\n",
    "x_train = np.linspace(-np.pi, np.pi, num_trains).reshape(num_trains, input_dim)\n",
    "y_train = np.sin(x_train)\n",
    "x_test = np.linspace(-np.pi, np.pi, num_tests).reshape(num_tests, input_dim)\n",
    "feature_dim = 2\n",
    "num_features = 50\n",
    "num_bins = 5\n",
    "embedding_dim = (num_bins+1) ** feature_dim * num_features\n",
    "std = 1 / np.sqrt(input_dim)\n",
    "projection_matrix = std * np.random.normal(\n",
    "    loc=0, scale=std, size=(num_features, input_dim, feature_dim)\n",
    ")\n",
    "# x = x_train[0]\n",
    "# y = y_train[0]"
   ]
  },
  {
   "cell_type": "code",
   "execution_count": 154,
   "metadata": {},
   "outputs": [],
   "source": [
    "def np_sigmoid(x: np.ndarray):\n",
    "    return 1 / (1 + np.exp(-x))"
   ]
  },
  {
   "cell_type": "code",
   "execution_count": 155,
   "metadata": {},
   "outputs": [
    {
     "data": {
      "text/plain": [
       "((1,), (50, 1, 2))"
      ]
     },
     "execution_count": 155,
     "metadata": {},
     "output_type": "execute_result"
    }
   ],
   "source": [
    "x.shape, projection_matrix.shape"
   ]
  },
  {
   "cell_type": "code",
   "execution_count": 156,
   "metadata": {},
   "outputs": [],
   "source": [
    "def latent_to_soft_one_hot(x: np.array, num_bins: int, feature_dim: int=2) -> np.ndarray:\n",
    "    \"\"\"\n",
    "    Assuming feature_dim = 2\n",
    "    Convert a latent vector to a soft one-hot encoding.\n",
    "    x: element-wise in (0, 1)\n",
    "    soft_one_hots_flatten: shape: (1, (num_bins + 1) ** num_features)\n",
    "    \"\"\"\n",
    "    x = x * num_bins\n",
    "    indices = np.floor(x).astype(np.int32)\n",
    "    offsets = x - indices\n",
    "    # indices = np.stack([indices, indices + 1], axis=-1)\n",
    "    # offsets = np.stack([offsets, 1 - offsets], axis=-1)\n",
    "    soft_one_hots = np.zeros((feature_dim, num_bins + 1))\n",
    "    for index, offset, soh in zip(indices, offsets, soft_one_hots):\n",
    "        soh[index] = offset\n",
    "        soh[index + 1] = 1 - offset\n",
    "    soft_one_hots_flatten = soft_one_hots[0:1]\n",
    "    for i in range(1, feature_dim):\n",
    "        soft_one_hots_flatten = soft_one_hots_flatten.T@soft_one_hots[i:i+1]\n",
    "        soft_one_hots_flatten = soft_one_hots_flatten.reshape((1, -1))\n",
    "    return indices, offsets, soft_one_hots, soft_one_hots_flatten"
   ]
  },
  {
   "cell_type": "code",
   "execution_count": 157,
   "metadata": {},
   "outputs": [],
   "source": [
    "def calc_soft_one_hot(x: np.ndarray, projection_matrix: np.ndarray) -> np.ndarray:\n",
    "    \"\"\"_summary_\n",
    "\n",
    "    Args:\n",
    "        x (np.ndarray): _description_\n",
    "        projection_matrix (np.ndarray): _description_\n",
    "\n",
    "    Returns:\n",
    "        np.ndarray: shape: [1, embedding_dim = num_bins ** feature_dim * num_features]\n",
    "    \"\"\"\n",
    "    soft_one_hots_flattens = []\n",
    "    for proj in projection_matrix:\n",
    "        latent = x@proj\n",
    "        latent = np_sigmoid(latent)\n",
    "        _, _, _, soft_one_hots_flatten = latent_to_soft_one_hot(latent, num_bins, feature_dim)\n",
    "        soft_one_hots_flattens.append(soft_one_hots_flatten)\n",
    "    soft_one_hots_flattens = np.concatenate(soft_one_hots_flattens, axis=1)\n",
    "    return soft_one_hots_flattens"
   ]
  },
  {
   "cell_type": "code",
   "execution_count": 158,
   "metadata": {},
   "outputs": [],
   "source": [
    "matrix_A = np.zeros((embedding_dim, embedding_dim))\n",
    "matrix_B = np.zeros((embedding_dim, output_dim))\n",
    "matrix_W = np.zeros((embedding_dim, output_dim))"
   ]
  },
  {
   "cell_type": "code",
   "execution_count": 159,
   "metadata": {},
   "outputs": [],
   "source": [
    "for x, y in zip(x_train, y_train):\n",
    "    phi_x = calc_soft_one_hot(x, projection_matrix)\n",
    "    matrix_A += phi_x.T@phi_x\n",
    "    matrix_A += np.eye(embedding_dim) * 1e-6\n",
    "    matrix_B += phi_x.T*y # TODO\n",
    "    matrix_W += np.linalg.inv(matrix_A)@matrix_B"
   ]
  },
  {
   "cell_type": "code",
   "execution_count": 160,
   "metadata": {},
   "outputs": [],
   "source": [
    "def predict(x: np.array, matrix_W: np.array):\n",
    "    return calc_soft_one_hot(x, projection_matrix)@matrix_W"
   ]
  },
  {
   "cell_type": "code",
   "execution_count": 161,
   "metadata": {},
   "outputs": [],
   "source": [
    "y_pred = []\n",
    "for x in x_test:\n",
    "    y_pred.append(predict(x, matrix_W)[0])"
   ]
  },
  {
   "cell_type": "code",
   "execution_count": 162,
   "metadata": {},
   "outputs": [
    {
     "data": {
      "text/plain": [
       "array([-1.97359449e-06])"
      ]
     },
     "execution_count": 162,
     "metadata": {},
     "output_type": "execute_result"
    }
   ],
   "source": [
    "y_pred[0]"
   ]
  },
  {
   "cell_type": "code",
   "execution_count": 165,
   "metadata": {},
   "outputs": [
    {
     "data": {
      "text/plain": [
       "[<matplotlib.lines.Line2D at 0x7fb2432bc370>]"
      ]
     },
     "execution_count": 165,
     "metadata": {},
     "output_type": "execute_result"
    },
    {
     "data": {
      "image/png": "[encoded data removed]",
      "text/plain": [
       "<Figure size 640x480 with 1 Axes>"
      ]
     },
     "metadata": {},
     "output_type": "display_data"
    }
   ],
   "source": [
    "plt.plot(x_test, np.cumsum(y_pred))\n",
    "plt.plot(x_test, np.sin(x_test))"
   ]
  },
  {
   "cell_type": "code",
   "execution_count": 145,
   "metadata": {},
   "outputs": [
    {
     "data": {
      "text/plain": [
       "(array([1, 0], dtype=int32),\n",
       " (2,),\n",
       " array([0.73259427, 0.16846155]),\n",
       " array([[0.        , 0.73259427, 0.26740573, 0.        ],\n",
       "        [0.16846155, 0.83153845, 0.        , 0.        ]]),\n",
       " array([[0.        , 0.        , 0.        , 0.        , 0.12341397,\n",
       "         0.6091803 , 0.        , 0.        , 0.04504758, 0.22235815,\n",
       "         0.        , 0.        , 0.        , 0.        , 0.        ,\n",
       "         0.        ]]))"
      ]
     },
     "execution_count": 145,
     "metadata": {},
     "output_type": "execute_result"
    }
   ],
   "source": [
    "indices, offsets, soft_one_hots, soft_one_hots_flatten = latent_to_soft_one_hot(latent, num_bins, feature_dim)\n",
    "indices, indices.shape, offsets, soft_one_hots, soft_one_hots_flatten"
   ]
  },
  {
   "cell_type": "code",
   "execution_count": null,
   "metadata": {},
   "outputs": [],
   "source": []
  }
 ],
 "metadata": {
  "kernelspec": {
   "display_name": ".venv",
   "language": "python",
   "name": "python3"
  },
  "language_info": {
   "codemirror_mode": {
    "name": "ipython",
    "version": 3
   },
   "file_extension": ".py",
   "mimetype": "text/x-python",
   "name": "python",
   "nbconvert_exporter": "python",
   "pygments_lexer": "ipython3",
   "version": "3.10.15"
  }
 },
 "nbformat": 4,
 "nbformat_minor": 2
}
