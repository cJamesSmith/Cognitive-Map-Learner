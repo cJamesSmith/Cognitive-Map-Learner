{
 "cells": [
  {
   "cell_type": "markdown",
   "metadata": {},
   "source": [
    "# Compact"
   ]
  },
  {
   "cell_type": "code",
   "execution_count": 1,
   "metadata": {},
   "outputs": [],
   "source": [
    "import networkx as nx\n",
    "import numpy as np\n",
    "import matplotlib.pyplot as plt\n",
    "import torch\n",
    "from torch.utils.data import DataLoader, Dataset\n",
    "from torch import nn\n",
    "from torch.utils.tensorboard import SummaryWriter\n",
    "import time"
   ]
  },
  {
   "cell_type": "code",
   "execution_count": 10,
   "metadata": {},
   "outputs": [],
   "source": [
    "device = 'cpu'"
   ]
  },
  {
   "cell_type": "code",
   "execution_count": 11,
   "metadata": {},
   "outputs": [],
   "source": [
    "class MyGraph:\n",
    "    def __init__(self, width: int = 5, height: int = 5, max_edge: int = 5):\n",
    "        self.width = width  # y-axis\n",
    "        self.height = height  # x-axis\n",
    "        # adj = np.eye(3)\n",
    "        # adj = np.roll(adj, 1, axis=1)\n",
    "        # adj = adj.T+adj\n",
    "        # self.G = nx.generators.lattice.grid_2d_graph(\n",
    "        #     self.height, self.width, create_using=nx.DiGraph\n",
    "        # )\n",
    "        # self.G = nx.DiGraph(nx.dense_gnm_random_graph(width, int(width*2)))\n",
    "        self.G = nx.from_numpy_array(\n",
    "            self.construct_random_subgraph(width, max_edges=max_edge),\n",
    "            # adj,\n",
    "            create_using=nx.DiGraph(),\n",
    "        )\n",
    "        self.adj_matrix = nx.adjacency_matrix(self.G).toarray()\n",
    "        self.nodes_list = list(self.G.nodes.keys())\n",
    "        self.edge_indices = self.calc_node_action_pairs()\n",
    "        self.action_dim = None\n",
    "        self.state_dim = None\n",
    "        self.action_method = None\n",
    "        self.state_method = None\n",
    "\n",
    "    def construct_random_subgraph(self, num_nodes, min_edges=2, max_edges=5):\n",
    "        min_edges -= 1\n",
    "        max_edges -= 1\n",
    "        connections = np.random.uniform(size=(num_nodes, num_nodes))\n",
    "        connections += np.roll(\n",
    "            np.eye(num_nodes), 1, 1\n",
    "        )  # make sure every node is connected\n",
    "        connections -= np.eye(num_nodes)  # make sure no self-connections\n",
    "        # set strongest connections\n",
    "        sorted_connections = np.sort(connections)[:, ::-1]\n",
    "        min_edges = min_edges\n",
    "        max_edges = max_edges + 1\n",
    "        min_edges = int(min_edges / 2 + 0.5)  # used to be min_edges // 2\n",
    "        max_edges = int(max_edges / 2 + 0.5)\n",
    "        indices = np.stack(\n",
    "            [np.arange(num_nodes), np.random.randint(min_edges, max_edges, num_nodes)]\n",
    "        )\n",
    "        thresholds = sorted_connections[indices[0], indices[1]]\n",
    "        connections = np.where(connections > thresholds[:, None], 1.0, 0.0).astype(\n",
    "            np.float32\n",
    "        )\n",
    "        connections = np.clip(connections + connections.T, 0, 1)\n",
    "        return connections\n",
    "\n",
    "    def calc_node_action_pairs(self) -> dict[(int, int) : int]:\n",
    "        edge_indices = {}\n",
    "        for edge_idx, edge in enumerate(self.G.edges()):\n",
    "            # from_node, to_node = edge\n",
    "            # from_node_idx = self.nodes_list.index(from_node)\n",
    "            # to_node_idx = self.nodes_list.index(to_node)\n",
    "            edge_indices[edge] = edge_idx\n",
    "        return edge_indices\n",
    "\n",
    "    def calc_action_between_cur_and_next_node(\n",
    "        self, curr_node: int, next_node: int\n",
    "    ) -> int:\n",
    "        \"\"\"\n",
    "        each node has 4 actions: [S, N, W, E]\n",
    "        \"\"\"\n",
    "        curr_x, curr_y = self.nodes_list[curr_node]\n",
    "        next_x, next_y = self.nodes_list[next_node]\n",
    "        origin_neighbors = [\n",
    "            (curr_x + 1, curr_y),\n",
    "            (curr_x - 1, curr_y),\n",
    "            (curr_x, curr_y - 1),\n",
    "            (curr_x, curr_y + 1),\n",
    "        ]\n",
    "        action = origin_neighbors.index((next_x, next_y))\n",
    "        return action\n",
    "\n",
    "    def random_walk(\n",
    "        self, num_walks, walk_length, action_method: int = 0, state_method: int = 0\n",
    "    ):\n",
    "        \"\"\"\n",
    "        action_method:\n",
    "            0: state-dependent action\n",
    "            1: state-independent action (4 action)\n",
    "        state_method:\n",
    "            0: coordinate-independent state\n",
    "            1: coordinate-dependent state (x, y)\n",
    "        \"\"\"\n",
    "        self.action_method = action_method\n",
    "        self.state_method = state_method\n",
    "        if action_method == 0:  # state-dependent action\n",
    "            self.action_dim = len(self.edge_indices)\n",
    "        elif action_method == 1:  # state-independent action (4 action)\n",
    "            self.action_dim = 4\n",
    "        else:\n",
    "            raise AttributeError\n",
    "        if state_method == 0:  # coordinate-independent state\n",
    "            self.state_dim = len(self.nodes_list)\n",
    "        elif state_method == 1:  # coordinate-dependent state (x, y)\n",
    "            self.state_dim = 2\n",
    "        else:\n",
    "            raise AttributeError\n",
    "        dataset = []\n",
    "        for _ in range(num_walks):\n",
    "            curr_node = np.random.choice(len(self.nodes_list))\n",
    "            for _ in range(walk_length):\n",
    "                next_node = np.random.choice(\n",
    "                    np.where(self.adj_matrix[curr_node] != 0)[0]\n",
    "                ).item()\n",
    "                action = self.action_node_to_emb(curr_node, next_node)\n",
    "                curr_node_emb = self.state_int_to_emb(curr_node)\n",
    "                next_node_emb = self.state_int_to_emb(next_node)\n",
    "                dataset.append(np.concatenate([curr_node_emb, [action], next_node_emb]))\n",
    "                curr_node = next_node\n",
    "        return np.array(dataset)\n",
    "\n",
    "    def state_int_to_emb(self, state: int) -> np.array:\n",
    "        if self.state_method == 0:  # coordinate-independent state\n",
    "            state_emb = np.zeros(self.state_dim)\n",
    "            state_emb[state] = 1\n",
    "        elif self.state_method == 1:  # coordinate-dependent state (x, y)\n",
    "            state_emb = np.array(self.nodes_list[state])\n",
    "        else:\n",
    "            raise AttributeError\n",
    "        return state_emb.astype(np.float32)\n",
    "\n",
    "    def action_node_to_emb(self, curr_node: int, next_node: int) -> int:\n",
    "        if self.action_method == 0:  # state-dependent action\n",
    "            action = self.edge_indices[\n",
    "                (self.nodes_list[curr_node], self.nodes_list[next_node])\n",
    "            ]\n",
    "        elif self.action_method == 1:  # state-independent action (4 action)\n",
    "            action = self.calc_action_between_cur_and_next_node(curr_node, next_node)\n",
    "        else:\n",
    "            raise AttributeError\n",
    "        return action"
   ]
  },
  {
   "cell_type": "code",
   "execution_count": 12,
   "metadata": {},
   "outputs": [],
   "source": [
    "class GraphDataset(Dataset):\n",
    "    def __init__(self, dataset, n_obs):\n",
    "        self.from_node = (\n",
    "            torch.from_numpy(dataset[:, :n_obs]).type(torch.float32).to(device)\n",
    "        )\n",
    "        self.to_node = (\n",
    "            torch.from_numpy(dataset[:, n_obs + 1 :]).type(torch.float32).to(device)\n",
    "        )\n",
    "        self.action = torch.from_numpy(dataset[:, n_obs]).type(torch.int).to(device)\n",
    "\n",
    "    def __getitem__(self, index):\n",
    "        return self.from_node[index], self.action[index], self.to_node[index]\n",
    "\n",
    "    def __len__(self):\n",
    "        return len(self.from_node)"
   ]
  },
  {
   "cell_type": "code",
   "execution_count": 106,
   "metadata": {},
   "outputs": [],
   "source": [
    "def CML_planner(graph: MyGraph, Q, V, start, goal, model):\n",
    "    node_record = []\n",
    "    curr = int(start)\n",
    "    goal_node_emb = graph.state_int_to_emb(goal)\n",
    "    for i in range(len(graph.nodes_list)):\n",
    "        node_record.append(curr)\n",
    "        if curr == goal:\n",
    "            return i, node_record\n",
    "        curr_node_emb = graph.state_int_to_emb(curr)\n",
    "        delta = (\n",
    "            Q @ goal_node_emb - Q @ curr_node_emb\n",
    "        )  # TODO: start and goal are one-hot vector\n",
    "        avail_nodes = np.where(graph.adj_matrix[curr] != 0)[0]  # int64\n",
    "        # avail_actions = [\n",
    "        #     graph.action_node_to_emb(curr, next_node) for next_node in avail_nodes\n",
    "        # ]\n",
    "        # if not model.use_nn:\n",
    "        #     utility = delta.T @ V[:, avail_actions]\n",
    "        # else:\n",
    "        #     actions = torch.zeros((model.n_act, len(avail_actions)))\n",
    "        #     for idx, edge in enumerate(avail_actions):\n",
    "        #         actions[edge, idx] = 1\n",
    "        #     utility = delta.T @ V(actions.T).numpy().T\n",
    "        # eligibility = utility / graph.adj_matrix[curr][avail_nodes]\n",
    "        # dtype = [(\"id\", int), (\"value\", float)]\n",
    "        # values = [(idx, value) for idx, value in enumerate(eligibility)]\n",
    "        # a = np.array(values, dtype=dtype)\n",
    "        # sorted_arr = np.sort(a, order=\"value\")\n",
    "        # sorted_arr = sorted_arr[::-1]  # reverse\n",
    "        # for best_id, _ in sorted_arr:\n",
    "        #     curr = int(avail_nodes[best_id])\n",
    "        #     if curr not in node_record:\n",
    "        #         break\n",
    "        temp_max = -np.inf\n",
    "        idx_max = -1\n",
    "        for next_node in avail_nodes:\n",
    "            if next_node not in node_record:\n",
    "                action = graph.action_node_to_emb(curr, next_node)\n",
    "                utility = delta.T @ V[:, action] / np.linalg.norm(V[:, action])\n",
    "                if utility > temp_max:\n",
    "                    temp_max = utility\n",
    "                    idx_max = next_node\n",
    "        if idx_max == -1:\n",
    "            print(\"planning failed\")\n",
    "            raise ValueError\n",
    "        curr = idx_max\n",
    "    return i, node_record"
   ]
  },
  {
   "cell_type": "code",
   "execution_count": 14,
   "metadata": {},
   "outputs": [],
   "source": [
    "class MyNNCML(nn.Module):\n",
    "    def __init__(\n",
    "        self,\n",
    "        emb_dim,\n",
    "        n_obs,\n",
    "        n_act,\n",
    "        Q_init_stddev,\n",
    "        V_init_stddev,\n",
    "        W_init_stddev,\n",
    "        use_nn: bool = False,\n",
    "        hidden=128,\n",
    "    ):\n",
    "        super().__init__()\n",
    "        self.use_nn = use_nn\n",
    "        self.n_act = n_act\n",
    "        self.n_obs = n_obs\n",
    "        self.Q = nn.Parameter(\n",
    "            torch.randn(size=(emb_dim, n_obs)) * Q_init_stddev, requires_grad=True\n",
    "        )\n",
    "\n",
    "        if not self.use_nn:\n",
    "            self.V = nn.Parameter(\n",
    "                torch.randn(size=(emb_dim, n_act)) * V_init_stddev, requires_grad=True\n",
    "            )\n",
    "        else:\n",
    "            self.V = nn.Sequential(\n",
    "                nn.Linear(n_act, hidden, bias=False),\n",
    "                # nn.BatchNorm1d(emb_dim, affine=False),\n",
    "                nn.ReLU(),\n",
    "                nn.Linear(hidden, emb_dim, bias=False),\n",
    "                # nn.BatchNorm1d(emb_dim),\n",
    "                # nn.Tanh(),\n",
    "            )\n",
    "        self.W = nn.Parameter(\n",
    "            torch.randn(size=(n_act, emb_dim)) * W_init_stddev, requires_grad=True\n",
    "        )\n",
    "\n",
    "    def forward(self, data):\n",
    "        nodes, action, next_nodes = data\n",
    "        actions = torch.zeros((self.n_act, len(action))).to(device)\n",
    "        for idx, edge in enumerate(action):\n",
    "            actions[edge, idx] = 1\n",
    "        if not self.use_nn:\n",
    "            output = self.Q @ next_nodes.T - self.Q @ nodes.T - self.V @ actions\n",
    "        else:\n",
    "            action_emb = self.V(actions.T).T\n",
    "            # output = self.Q @ (next_nodes - nodes).T - action_emb / torch.linalg.norm(action_emb, axis=1, keepdim=True)\n",
    "            output = self.Q @ (next_nodes - nodes).T - action_emb\n",
    "        # print(output.shape)\n",
    "        return output"
   ]
  },
  {
   "cell_type": "code",
   "execution_count": 15,
   "metadata": {},
   "outputs": [
    {
     "name": "stdout",
     "output_type": "stream",
     "text": [
      "5 12\n"
     ]
    },
    {
     "data": {
      "text/plain": [
       "array([0., 0., 1., 0., 0., 6., 0., 0., 0., 1., 0.])"
      ]
     },
     "execution_count": 15,
     "metadata": {},
     "output_type": "execute_result"
    }
   ],
   "source": [
    "map_size = 5\n",
    "my_graph = MyGraph(map_size, map_size, max_edge=5)\n",
    "num_walks = 10\n",
    "walk_length = map_size\n",
    "dataset = my_graph.random_walk(num_walks, walk_length, 0, 0)\n",
    "n_obs = my_graph.state_dim\n",
    "n_act = my_graph.action_dim\n",
    "print(n_obs, n_act)\n",
    "dataset[0]"
   ]
  },
  {
   "cell_type": "code",
   "execution_count": 79,
   "metadata": {},
   "outputs": [
    {
     "data": {
      "image/png": "[encoded data removed]",
      "text/plain": [
       "<Figure size 640x480 with 1 Axes>"
      ]
     },
     "metadata": {},
     "output_type": "display_data"
    }
   ],
   "source": [
    "nx.draw(my_graph.G, with_labels=True)"
   ]
  },
  {
   "cell_type": "markdown",
   "metadata": {},
   "source": [
    "# Con"
   ]
  },
  {
   "cell_type": "code",
   "execution_count": null,
   "metadata": {},
   "outputs": [],
   "source": [
    "hiddens = reversed([512])\n",
    "emb_dims = reversed([100])\n",
    "bs = [50]\n",
    "\n",
    "use_nn = False\n",
    "Q_init_stddev = 0.1\n",
    "V_init_stddev = 0.01\n",
    "W_init_stddev = 0.01\n",
    "eta_q = 0.1\n",
    "eta_v = 0.01\n",
    "eta_w = 0.01\n",
    "num_epochs = 600\n",
    "lr = 1e-4\n",
    "\n",
    "dataset_torch = GraphDataset(dataset, n_obs)\n",
    "graph = nx.from_numpy_array(\n",
    "    my_graph.adj_matrix, create_using=nx.DiGraph()\n",
    ")  # node_id is int, or else dijkstra will fail\n",
    "\n",
    "for hidden in hiddens:\n",
    "    for emb_dim in emb_dims:\n",
    "        for batch_size in bs:\n",
    "            loader = DataLoader(dataset_torch, shuffle=True, batch_size=batch_size)\n",
    "            model = MyNNCML(\n",
    "                emb_dim,\n",
    "                n_obs,\n",
    "                n_act,\n",
    "                Q_init_stddev,\n",
    "                V_init_stddev,\n",
    "                W_init_stddev,\n",
    "                use_nn=use_nn,\n",
    "                hidden=hidden,\n",
    "            )\n",
    "            loss = nn.MSELoss()\n",
    "            if not model.use_nn:\n",
    "                optim = torch.optim.Adam(\n",
    "                    params=[\n",
    "                        {\"params\": model.Q, \"lr\": lr * 10},\n",
    "                        {\"params\": model.V, \"lr\": lr},\n",
    "                        {\"params\": model.W, \"lr\": lr},\n",
    "                    ],\n",
    "                    lr=0.01,\n",
    "                )\n",
    "            else:\n",
    "                optim = torch.optim.AdamW(\n",
    "                    params=[\n",
    "                        {\"params\": model.Q, \"lr\": lr * 10},\n",
    "                        {\"params\": model.V.parameters(), \"lr\": lr},\n",
    "                        {\"params\": model.W, \"lr\": lr},\n",
    "                    ],\n",
    "                    lr=lr,\n",
    "                    # weight_decay=1e-6\n",
    "                )\n",
    "            writer = SummaryWriter(\n",
    "                f\"\"\"state_only/{time.time()}-{\"nnCML\" if use_nn else \"CML\"}-{str(map_size)}-{str(hidden) if use_nn else \"0\"}-{str(emb_dim)}-{str(batch_size)}-{lr}-Qnorm\"\"\"\n",
    "            )\n",
    "            global_step = 0\n",
    "\n",
    "            model.to(device)\n",
    "            for epoch in range(num_epochs):\n",
    "                for i, data in enumerate(loader):\n",
    "                    # print(i)\n",
    "                    optim.zero_grad()\n",
    "                    output = model(data)\n",
    "                    l = loss(output, torch.zeros_like(output))\n",
    "                    # l += (\n",
    "                    #     torch.linalg.matrix_norm(\n",
    "                    #         model.Q.T @ model.Q - torch.eye(model.n_obs).to(device)\n",
    "                    #     )\n",
    "                    #     * 0.005\n",
    "                    # )\n",
    "                    l.backward()\n",
    "                    optim.step()\n",
    "                    global_step += 1\n",
    "                    with torch.no_grad():\n",
    "                        #     # if not model.use_nn:\n",
    "                        model.Q /= torch.linalg.norm(model.Q, axis=0)\n",
    "                    writer.add_scalar(\"train loss\", l.detach().item(), global_step)\n",
    "\n",
    "            model.cpu()\n",
    "            model.eval()\n",
    "            if not model.use_nn:\n",
    "                Q, V = model.Q.detach().numpy(), model.V.detach().numpy()\n",
    "            else:\n",
    "                Q = model.Q.detach().numpy()\n",
    "                V = model.V.cpu()\n",
    "\n",
    "            with torch.no_grad():\n",
    "                N_goal = 1\n",
    "                cml_distance = []\n",
    "                cml_succ = 0\n",
    "                dijkstra_distance = []\n",
    "                for process in range(N_goal):\n",
    "                    print(process)\n",
    "                    start = np.random.randint(low=0, high=my_graph.adj_matrix.shape[0])\n",
    "                    goal = np.random.randint(low=0, high=my_graph.adj_matrix.shape[0])\n",
    "                    print(start, goal)\n",
    "\n",
    "                    steps, o_record = CML_planner(my_graph, Q, V, start, goal, model)\n",
    "                    print(\"CML done\")\n",
    "                    dijkstra_path = nx.shortest_path(\n",
    "                        graph, source=start, target=goal, weight=\"weight\"\n",
    "                    )\n",
    "                    print(\"Dji Done\")\n",
    "                    dijkstra_steps = len(dijkstra_path) - 1\n",
    "\n",
    "                    dijkstra_distance.append(dijkstra_steps)\n",
    "                    if o_record[-1] == goal:\n",
    "                        cml_distance.append(steps)\n",
    "                        cml_succ += 1\n",
    "                    writer.add_scalar(\"CML AL\", steps)\n",
    "                    writer.add_scalar(\"dijkstra AL\", dijkstra_steps)\n",
    "\n",
    "            print(np.mean(cml_distance), np.mean(dijkstra_distance), cml_succ / N_goal)\n",
    "            writer.add_text(\n",
    "                \"result\",\n",
    "                f\"\"\"{\"nnCML\" if use_nn else \"CML\"}, \\n map_size: {str(map_size)}, n_obs: {n_obs}, n_act: {n_act}, \\n hidden: {str(hidden) if use_nn else \"0\"}, embed: {str(emb_dim)}, BS: {str(batch_size)}, \\n CML_AL: {np.mean(cml_distance)}, dj_AL: {np.mean(dijkstra_distance)}, SR: {cml_succ / N_goal}\"\"\",\n",
    "            )"
   ]
  },
  {
   "cell_type": "markdown",
   "metadata": {},
   "source": [
    "# Dis"
   ]
  },
  {
   "cell_type": "code",
   "execution_count": 126,
   "metadata": {},
   "outputs": [
    {
     "data": {
      "text/plain": [
       "(5, 12)"
      ]
     },
     "execution_count": 126,
     "metadata": {},
     "output_type": "execute_result"
    }
   ],
   "source": [
    "n_obs = my_graph.state_dim\n",
    "n_act = my_graph.action_dim\n",
    "emb_dim = 1000\n",
    "hidden = 10\n",
    "use_nn = False\n",
    "Q_init_stddev = 0.1\n",
    "V_init_stddev = 0.01\n",
    "W_init_stddev = 0.01\n",
    "eta_q = 0.01\n",
    "num_epochs = 10\n",
    "batch_size = 50\n",
    "dataset_torch = GraphDataset(dataset, n_obs)\n",
    "n_obs, n_act"
   ]
  },
  {
   "cell_type": "code",
   "execution_count": 127,
   "metadata": {},
   "outputs": [],
   "source": [
    "loader = DataLoader(dataset_torch, shuffle=True, batch_size=batch_size)\n",
    "model = MyNNCML(\n",
    "    emb_dim,\n",
    "    n_obs,\n",
    "    n_act,\n",
    "    Q_init_stddev,\n",
    "    V_init_stddev,\n",
    "    W_init_stddev,\n",
    "    use_nn=use_nn,\n",
    "    hidden=hidden,\n",
    ")\n",
    "loss = nn.MSELoss()\n",
    "if not model.use_nn:\n",
    "    optim = torch.optim.Adam(\n",
    "        params=[\n",
    "            {\"params\": model.Q, \"lr\": eta_q},\n",
    "            {\"params\": model.V, \"lr\": eta_q / 10},\n",
    "            {\"params\": model.W, \"lr\": eta_q / 10},\n",
    "        ],\n",
    "        lr=0.01,\n",
    "    )\n",
    "else:\n",
    "    optim = torch.optim.Adam(\n",
    "        params=[\n",
    "            {\"params\": model.Q, \"lr\": eta_q / batch_size},\n",
    "            {\"params\": model.V.parameters(), \"lr\": eta_v / batch_size},\n",
    "            {\"params\": model.W, \"lr\": eta_w / batch_size},\n",
    "        ],\n",
    "        lr=0.01,\n",
    "    )\n",
    "mses1 = []\n",
    "writer = SummaryWriter(\n",
    "    f\"\"\"state_only/{\"nnCML\" if use_nn else \"CML\"}-{str(map_size)}-{str(hidden) if use_nn else \"0\"}-{str(emb_dim)}-{str(batch_size)}-{int(time.time())}\"\"\"\n",
    ")\n",
    "global_step = 0"
   ]
  },
  {
   "cell_type": "code",
   "execution_count": 130,
   "metadata": {},
   "outputs": [],
   "source": [
    "model.to(device)\n",
    "for epoch in range(500):\n",
    "    for i, data in enumerate(loader):\n",
    "        # print(i)\n",
    "        optim.zero_grad()\n",
    "        output = model(data)\n",
    "        l = loss(output, torch.zeros_like(output))\n",
    "        # l += (\n",
    "        #     torch.linalg.matrix_norm(\n",
    "        #         model.Q.T @ model.Q - torch.eye(model.n_obs).to(device)\n",
    "        #     )\n",
    "        #     * 0.005\n",
    "        # )\n",
    "        l.backward()\n",
    "        optim.step()\n",
    "        global_step += 1\n",
    "        with torch.no_grad():\n",
    "                # if not model.use_nn:\n",
    "            model.V /= torch.linalg.norm(model.V, axis=0)\n",
    "        # mses1.append(l.detach().mean().item())\n",
    "        writer.add_scalar(\"train loss\", l.detach().item(), global_step)"
   ]
  },
  {
   "cell_type": "code",
   "execution_count": 131,
   "metadata": {},
   "outputs": [],
   "source": [
    "model.cpu()\n",
    "if not model.use_nn:\n",
    "    Q, V = model.Q.detach().numpy(), model.V.detach().numpy()\n",
    "else:\n",
    "    model.eval()\n",
    "    Q = model.Q.detach().numpy()\n",
    "    V = model.V.cpu()"
   ]
  },
  {
   "cell_type": "code",
   "execution_count": 132,
   "metadata": {},
   "outputs": [
    {
     "name": "stdout",
     "output_type": "stream",
     "text": [
      "1.12 1.12 25\n"
     ]
    }
   ],
   "source": [
    "with torch.no_grad():\n",
    "    N_goal = 2000\n",
    "    cml_distance = []\n",
    "    cml_succ = 0\n",
    "    dijkstra_distance = []\n",
    "    graph = nx.from_numpy_array(\n",
    "        my_graph.adj_matrix, create_using=nx.DiGraph()\n",
    "    )  # node_id is int, or else dijkstra will fail\n",
    "    # for process in range(N_goal):\n",
    "    for start in range(my_graph.adj_matrix.shape[0]):\n",
    "        for goal in range(my_graph.adj_matrix.shape[0]):\n",
    "            # print(process)\n",
    "            # start = np.random.randint(low=0, high=my_graph.adj_matrix.shape[0])\n",
    "            # goal = np.random.randint(low=0, high=my_graph.adj_matrix.shape[0])\n",
    "            # print(start, goal)\n",
    "\n",
    "            steps, o_record = CML_planner(my_graph, Q, V, start, goal, model)\n",
    "\n",
    "            dijkstra_path = nx.shortest_path(\n",
    "                graph, source=start, target=goal, weight=\"weight\"\n",
    "            )\n",
    "            dijkstra_steps = len(dijkstra_path) - 1\n",
    "\n",
    "            dijkstra_distance.append(dijkstra_steps)\n",
    "            if o_record[-1] == goal:\n",
    "                cml_distance.append(steps)\n",
    "                cml_succ += 1\n",
    "            if dijkstra_steps < steps:\n",
    "                print(o_record, dijkstra_path)\n",
    "            # print(steps, dijkstra_steps)\n",
    "        # print(np.mean(cml_distance))\n",
    "\n",
    "    print(np.mean(cml_distance), np.mean(dijkstra_distance), cml_succ)"
   ]
  },
  {
   "cell_type": "code",
   "execution_count": 23,
   "metadata": {},
   "outputs": [
    {
     "name": "stdout",
     "output_type": "stream",
     "text": [
      "3.1655 2.98 1.0\n"
     ]
    }
   ],
   "source": [
    "print(np.mean(cml_distance), np.mean(dijkstra_distance), cml_succ / N_goal)\n",
    "writer.add_text(\n",
    "    \"result\",\n",
    "    f\"\"\"{\"nnCML\" if use_nn else \"CML\"}, \\n map_size: {str(map_size)}, n_obs: {n_obs}, n_act: {n_act}, \\n hidden: {str(hidden) if use_nn else \"0\"}, embed: {str(emb_dim)}, BS: {str(batch_size)}, \\n **CML_AL**: {np.mean(cml_distance)}, **dj_AL**: {np.mean(dijkstra_distance)}, **SR**: {cml_succ / N_goal}\"\"\",\n",
    ")"
   ]
  },
  {
   "cell_type": "code",
   "execution_count": 26,
   "metadata": {},
   "outputs": [],
   "source": [
    "edges = []\n",
    "for src, tgt in my_graph.edge_indices:\n",
    "    if tgt > src:\n",
    "        temp = np.zeros(n_obs)\n",
    "        temp[src] = -1\n",
    "        temp[tgt] = 1\n",
    "        edges.append(temp.copy())\n",
    "edges = np.array(edges)\n",
    "edge_emb_norm = Q @ edges.T / np.linalg.norm(Q @ edges.T, axis=0, keepdims=True)"
   ]
  },
  {
   "cell_type": "code",
   "execution_count": 71,
   "metadata": {},
   "outputs": [
    {
     "data": {
      "text/plain": [
       "np.float64(0.10651566754487267)"
      ]
     },
     "execution_count": 71,
     "metadata": {},
     "output_type": "execute_result"
    }
   ],
   "source": [
    "gram_matrix = edge_emb_norm.T @ edge_emb_norm\n",
    "iden_matrix = np.eye(gram_matrix.shape[0])\n",
    "loss = (\n",
    "    np.linalg.norm(gram_matrix - iden_matrix, ord=\"fro\") ** 2\n",
    "    / gram_matrix.shape[0]\n",
    "    / (gram_matrix.shape[0] - 1)\n",
    ")\n",
    "loss"
   ]
  },
  {
   "cell_type": "code",
   "execution_count": 22,
   "metadata": {},
   "outputs": [
    {
     "data": {
      "text/plain": [
       "np.float32(6.7875714)"
      ]
     },
     "execution_count": 22,
     "metadata": {},
     "output_type": "execute_result"
    }
   ],
   "source": [
    "np.linalg.matrix_norm(Q)"
   ]
  },
  {
   "cell_type": "code",
   "execution_count": 28,
   "metadata": {},
   "outputs": [
    {
     "data": {
      "text/plain": [
       "(2, [0, np.int64(1), np.int64(2)])"
      ]
     },
     "execution_count": 28,
     "metadata": {},
     "output_type": "execute_result"
    }
   ],
   "source": [
    "steps, o_record = CML_planner(my_graph, Q, V, 0, 2, model)\n",
    "steps, o_record"
   ]
  },
  {
   "cell_type": "code",
   "execution_count": 30,
   "metadata": {},
   "outputs": [],
   "source": [
    "np.set_printoptions(precision=2, linewidth=200)"
   ]
  },
  {
   "cell_type": "code",
   "execution_count": 110,
   "metadata": {},
   "outputs": [],
   "source": [
    "V = V / np.linalg.norm(V, axis=0)"
   ]
  },
  {
   "cell_type": "code",
   "execution_count": 134,
   "metadata": {},
   "outputs": [
    {
     "data": {
      "text/plain": [
       "array([[ 1.  ,  0.5 , -1.  , -0.15, -0.5 ,  0.15, -0.18,  0.18, -0.17, -0.5 ,  0.5 ,  0.17],\n",
       "       [ 0.5 ,  1.  , -0.5 ,  0.15,  0.5 , -0.15,  0.14, -0.14,  0.21, -1.  , -0.5 , -0.21],\n",
       "       [-1.  , -0.5 ,  1.  ,  0.15,  0.5 , -0.15,  0.18, -0.18,  0.17,  0.5 , -0.5 , -0.17],\n",
       "       [-0.15,  0.15,  0.15,  1.  ,  0.3 , -1.  , -0.38,  0.38, -0.32, -0.15, -0.3 ,  0.32],\n",
       "       [-0.5 ,  0.5 ,  0.5 ,  0.3 ,  1.  , -0.3 ,  0.32, -0.32,  0.38, -0.5 , -1.  , -0.38],\n",
       "       [ 0.15, -0.15, -0.15, -1.  , -0.3 ,  1.  ,  0.38, -0.38,  0.32,  0.15,  0.3 , -0.32],\n",
       "       [-0.18,  0.14,  0.18, -0.38,  0.32,  0.38,  1.  , -1.  , -0.3 , -0.14, -0.32,  0.3 ],\n",
       "       [ 0.18, -0.14, -0.18,  0.38, -0.32, -0.38, -1.  ,  1.  ,  0.3 ,  0.14,  0.32, -0.3 ],\n",
       "       [-0.17,  0.21,  0.17, -0.32,  0.38,  0.32, -0.3 ,  0.3 ,  1.  , -0.21, -0.38, -1.  ],\n",
       "       [-0.5 , -1.  ,  0.5 , -0.15, -0.5 ,  0.15, -0.14,  0.14, -0.21,  1.  ,  0.5 ,  0.21],\n",
       "       [ 0.5 , -0.5 , -0.5 , -0.3 , -1.  ,  0.3 , -0.32,  0.32, -0.38,  0.5 ,  1.  ,  0.38],\n",
       "       [ 0.17, -0.21, -0.17,  0.32, -0.38, -0.32,  0.3 , -0.3 , -1.  ,  0.21,  0.38,  1.  ]], dtype=float32)"
      ]
     },
     "execution_count": 134,
     "metadata": {},
     "output_type": "execute_result"
    }
   ],
   "source": [
    "(V.T@V)"
   ]
  },
  {
   "cell_type": "code",
   "execution_count": 135,
   "metadata": {},
   "outputs": [
    {
     "data": {
      "text/plain": [
       "<Axes: >"
      ]
     },
     "execution_count": 135,
     "metadata": {},
     "output_type": "execute_result"
    },
    {
     "data": {
      "image/png": "[encoded data removed]",
      "text/plain": [
       "<Figure size 640x480 with 2 Axes>"
      ]
     },
     "metadata": {},
     "output_type": "display_data"
    }
   ],
   "source": [
    "import seaborn as sns\n",
    "sns.heatmap(V.T@V)\n"
   ]
  },
  {
   "cell_type": "code",
   "execution_count": 125,
   "metadata": {},
   "outputs": [
    {
     "data": {
      "text/plain": [
       "OutEdgeView([(0, 1), (0, 4), (1, 0), (1, 2), (1, 4), (2, 1), (2, 3), (3, 2), (3, 4), (4, 0), (4, 1), (4, 3)])"
      ]
     },
     "execution_count": 125,
     "metadata": {},
     "output_type": "execute_result"
    }
   ],
   "source": [
    "my_graph.G.edges\n"
   ]
  },
  {
   "cell_type": "code",
   "execution_count": 112,
   "metadata": {},
   "outputs": [
    {
     "data": {
      "text/plain": [
       "np.float32(0.03977567)"
      ]
     },
     "execution_count": 112,
     "metadata": {},
     "output_type": "execute_result"
    }
   ],
   "source": [
    "(Q @ my_graph.state_int_to_emb(4) - Q @ my_graph.state_int_to_emb(1)).T @ V[:, my_graph.action_node_to_emb(1, 4)]"
   ]
  },
  {
   "cell_type": "code",
   "execution_count": 113,
   "metadata": {},
   "outputs": [
    {
     "data": {
      "text/plain": [
       "np.float32(-0.0041587716)"
      ]
     },
     "execution_count": 113,
     "metadata": {},
     "output_type": "execute_result"
    }
   ],
   "source": [
    "(Q @ my_graph.state_int_to_emb(4) - Q @ my_graph.state_int_to_emb(0)).T @ V[:, my_graph.action_node_to_emb(1, 0)]"
   ]
  },
  {
   "cell_type": "code",
   "execution_count": 114,
   "metadata": {},
   "outputs": [
    {
     "data": {
      "text/plain": [
       "np.float32(-0.007728895)"
      ]
     },
     "execution_count": 114,
     "metadata": {},
     "output_type": "execute_result"
    }
   ],
   "source": [
    "(Q @ my_graph.state_int_to_emb(4) - Q @ my_graph.state_int_to_emb(2)).T @ V[:, my_graph.action_node_to_emb(1, 2)]"
   ]
  },
  {
   "cell_type": "code",
   "execution_count": 115,
   "metadata": {},
   "outputs": [
    {
     "data": {
      "text/plain": [
       "np.float32(0.020814767)"
      ]
     },
     "execution_count": 115,
     "metadata": {},
     "output_type": "execute_result"
    }
   ],
   "source": [
    "(Q @ my_graph.state_int_to_emb(1) - Q @ my_graph.state_int_to_emb(2)).T @ V[:, my_graph.action_node_to_emb(4, 1)]"
   ]
  },
  {
   "cell_type": "code",
   "execution_count": 36,
   "metadata": {},
   "outputs": [
    {
     "data": {
      "text/plain": [
       "array([[-1., -1.,  1.,  0.,  0.,  0.,  0.,  0.,  0.,  1.,  0.,  0.],\n",
       "       [ 1.,  0., -1., -1., -1.,  1.,  0.,  0.,  0.,  0.,  1.,  0.],\n",
       "       [ 0.,  0.,  0.,  1.,  0., -1., -1.,  1.,  0.,  0.,  0.,  0.],\n",
       "       [ 0.,  0.,  0.,  0.,  0.,  0.,  1., -1., -1.,  0.,  0.,  1.],\n",
       "       [ 0.,  1.,  0.,  0.,  1.,  0.,  0.,  0.,  1., -1., -1., -1.]])"
      ]
     },
     "execution_count": 36,
     "metadata": {},
     "output_type": "execute_result"
    }
   ],
   "source": [
    "trans_matri = np.zeros((n_obs, n_act))\n",
    "edge_list = list(my_graph.G.edges.data())\n",
    "for i in range(n_act):\n",
    "    trans_matri[edge_list[i][0], i] = -1\n",
    "    trans_matri[edge_list[i][1], i] = 1\n",
    "trans_matri"
   ]
  },
  {
   "cell_type": "code",
   "execution_count": 37,
   "metadata": {},
   "outputs": [
    {
     "data": {
      "text/plain": [
       "np.float64(0.0019096165710126543)"
      ]
     },
     "execution_count": 37,
     "metadata": {},
     "output_type": "execute_result"
    }
   ],
   "source": [
    "np.linalg.norm(Q@trans_matri - V)"
   ]
  },
  {
   "cell_type": "code",
   "execution_count": 54,
   "metadata": {},
   "outputs": [
    {
     "data": {
      "text/plain": [
       "EigResult(eigenvalues=array([11.814,  0.5  ,  0.5  ], dtype=float32), eigenvectors=array([[ 0.576,  0.73 ,  0.369],\n",
       "       [ 0.581, -0.048, -0.813],\n",
       "       [ 0.576, -0.682,  0.451]], dtype=float32))"
      ]
     },
     "execution_count": 54,
     "metadata": {},
     "output_type": "execute_result"
    }
   ],
   "source": [
    "np.linalg.eig(Q.T@Q)"
   ]
  }
 ],
 "metadata": {
  "kernelspec": {
   "display_name": ".venv",
   "language": "python",
   "name": "python3"
  },
  "language_info": {
   "codemirror_mode": {
    "name": "ipython",
    "version": 3
   },
   "file_extension": ".py",
   "mimetype": "text/x-python",
   "name": "python",
   "nbconvert_exporter": "python",
   "pygments_lexer": "ipython3",
   "version": "3.10.15"
  }
 },
 "nbformat": 4,
 "nbformat_minor": 2
}
