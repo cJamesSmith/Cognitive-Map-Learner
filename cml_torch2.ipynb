{
 "cells": [
  {
   "cell_type": "markdown",
   "metadata": {},
   "source": [
    "# Compact"
   ]
  },
  {
   "cell_type": "code",
   "execution_count": 2,
   "metadata": {},
   "outputs": [],
   "source": [
    "import networkx as nx\n",
    "import numpy as np\n",
    "import matplotlib.pyplot as plt\n",
    "import torch\n",
    "from torch.utils.data import DataLoader, Dataset\n",
    "from torch import nn"
   ]
  },
  {
   "cell_type": "code",
   "execution_count": 3,
   "metadata": {},
   "outputs": [],
   "source": [
    "G = nx.generators.lattice.grid_2d_graph(3, 3, create_using=nx.DiGraph)"
   ]
  },
  {
   "cell_type": "code",
   "execution_count": 4,
   "metadata": {},
   "outputs": [
    {
     "data": {
      "text/plain": [
       "{}"
      ]
     },
     "execution_count": 4,
     "metadata": {},
     "output_type": "execute_result"
    }
   ],
   "source": [
    "G.edges[((0, 0), (0, 1))]"
   ]
  },
  {
   "cell_type": "code",
   "execution_count": 5,
   "metadata": {},
   "outputs": [],
   "source": [
    "class MyGraph:\n",
    "    def __init__(self, width: int = 5, height: int = 5):\n",
    "        self.width = width  # y-axis\n",
    "        self.height = height  # x-axis\n",
    "        self.G = nx.generators.lattice.grid_2d_graph(self.height, self.width, create_using=nx.DiGraph)\n",
    "        self.adj_matrix = nx.adjacency_matrix(self.G).toarray()\n",
    "        self.nodes_list = list(self.G.nodes.keys())\n",
    "        self.edge_indices = self.calc_node_action_pairs()\n",
    "        self.action_dim = None\n",
    "        self.state_dim = None\n",
    "        self.action_method = None\n",
    "        self.state_method = None\n",
    "\n",
    "    def calc_node_action_pairs(self) -> dict[(int, int) : int]:\n",
    "        edge_indices = {}\n",
    "        for edge_idx, edge in enumerate(self.G.edges()):\n",
    "            # from_node, to_node = edge\n",
    "            # from_node_idx = self.nodes_list.index(from_node)\n",
    "            # to_node_idx = self.nodes_list.index(to_node)\n",
    "            edge_indices[edge] = edge_idx\n",
    "        return edge_indices\n",
    "\n",
    "    def calc_action_between_cur_and_next_node(\n",
    "        self, curr_node: int, next_node: int\n",
    "    ) -> int:\n",
    "        \"\"\"\n",
    "        each node has 4 actions: [S, N, W, E]\n",
    "        \"\"\"\n",
    "        curr_x, curr_y = self.nodes_list[curr_node]\n",
    "        next_x, next_y = self.nodes_list[next_node]\n",
    "        origin_neighbors = [\n",
    "            (curr_x + 1, curr_y),\n",
    "            (curr_x - 1, curr_y),\n",
    "            (curr_x, curr_y - 1),\n",
    "            (curr_x, curr_y + 1),\n",
    "        ]\n",
    "        action = origin_neighbors.index((next_x, next_y))\n",
    "        return action\n",
    "\n",
    "    def random_walk(\n",
    "        self, num_walks, walk_length, action_method: int = 0, state_method: int = 0\n",
    "    ):\n",
    "        \"\"\"\n",
    "        action_method:\n",
    "            0: state-dependent action\n",
    "            1: state-independent action (4 action)\n",
    "        state_method:\n",
    "            0: coordinate-independent state\n",
    "            1: coordinate-dependent state (x, y)\n",
    "        \"\"\"\n",
    "        self.action_method = action_method\n",
    "        self.state_method = state_method\n",
    "        if action_method == 0:  # state-dependent action\n",
    "            self.action_dim = len(self.edge_indices)\n",
    "        elif action_method == 1:  # state-independent action (4 action)\n",
    "            self.action_dim = 4\n",
    "        else:\n",
    "            raise AttributeError\n",
    "        if state_method == 0:  # coordinate-independent state\n",
    "            self.state_dim = len(self.nodes_list)\n",
    "        elif state_method == 1:  # coordinate-dependent state (x, y)\n",
    "            self.state_dim = 2\n",
    "        else:\n",
    "            raise AttributeError\n",
    "        dataset = []\n",
    "        for _ in range(num_walks):\n",
    "            curr_node = np.random.choice(len(self.nodes_list))\n",
    "            for _ in range(walk_length):\n",
    "                next_node = np.random.choice(\n",
    "                    np.where(self.adj_matrix[curr_node] != 0)[0]\n",
    "                ).item()\n",
    "                action = self.action_node_to_emb(curr_node, next_node)\n",
    "                curr_node_emb = self.state_int_to_emb(curr_node)\n",
    "                next_node_emb = self.state_int_to_emb(next_node)\n",
    "                dataset.append(np.concatenate([curr_node_emb, [action], next_node_emb]))\n",
    "                curr_node = next_node\n",
    "        return np.array(dataset)\n",
    "\n",
    "    def state_int_to_emb(self, state: int) -> np.array:\n",
    "        if self.state_method == 0:  # coordinate-independent state\n",
    "            state_emb = np.zeros(self.state_dim)\n",
    "            state_emb[state] = 1\n",
    "        elif self.state_method == 1:  # coordinate-dependent state (x, y)\n",
    "            state_emb = np.array(self.nodes_list[state])\n",
    "        else:\n",
    "            raise AttributeError\n",
    "        return state_emb.astype(np.float32)\n",
    "\n",
    "    def action_node_to_emb(self, curr_node: int, next_node: int) -> int:\n",
    "        if self.action_method == 0:  # state-dependent action\n",
    "            action = self.edge_indices[(self.nodes_list[curr_node], self.nodes_list[next_node])]\n",
    "        elif self.action_method == 1:  # state-independent action (4 action)\n",
    "            action = self.calc_action_between_cur_and_next_node(curr_node, next_node)\n",
    "        else:\n",
    "            raise AttributeError\n",
    "        return action"
   ]
  },
  {
   "cell_type": "code",
   "execution_count": null,
   "metadata": {},
   "outputs": [
    {
     "ename": "MemoryError",
     "evalue": "Unable to allocate 466. GiB for an array with shape (250000, 250000) and data type int64",
     "output_type": "error",
     "traceback": [
      "\u001b[0;31m---------------------------------------------------------------------------\u001b[0m",
      "\u001b[0;31mMemoryError\u001b[0m                               Traceback (most recent call last)",
      "Cell \u001b[0;32mIn[21], line 1\u001b[0m\n\u001b[0;32m----> 1\u001b[0m my_graph \u001b[38;5;241m=\u001b[39m \u001b[43mMyGraph\u001b[49m\u001b[43m(\u001b[49m\u001b[38;5;241;43m500\u001b[39;49m\u001b[43m,\u001b[49m\u001b[43m \u001b[49m\u001b[38;5;241;43m500\u001b[39;49m\u001b[43m)\u001b[49m\n\u001b[1;32m      2\u001b[0m num_walks \u001b[38;5;241m=\u001b[39m \u001b[38;5;241m200\u001b[39m\n\u001b[1;32m      3\u001b[0m walk_length \u001b[38;5;241m=\u001b[39m \u001b[38;5;241m32\u001b[39m\n",
      "Cell \u001b[0;32mIn[5], line 6\u001b[0m, in \u001b[0;36mMyGraph.__init__\u001b[0;34m(self, width, height)\u001b[0m\n\u001b[1;32m      4\u001b[0m \u001b[38;5;28mself\u001b[39m\u001b[38;5;241m.\u001b[39mheight \u001b[38;5;241m=\u001b[39m height  \u001b[38;5;66;03m# x-axis\u001b[39;00m\n\u001b[1;32m      5\u001b[0m \u001b[38;5;28mself\u001b[39m\u001b[38;5;241m.\u001b[39mG \u001b[38;5;241m=\u001b[39m nx\u001b[38;5;241m.\u001b[39mgenerators\u001b[38;5;241m.\u001b[39mlattice\u001b[38;5;241m.\u001b[39mgrid_2d_graph(\u001b[38;5;28mself\u001b[39m\u001b[38;5;241m.\u001b[39mheight, \u001b[38;5;28mself\u001b[39m\u001b[38;5;241m.\u001b[39mwidth, create_using\u001b[38;5;241m=\u001b[39mnx\u001b[38;5;241m.\u001b[39mDiGraph)\n\u001b[0;32m----> 6\u001b[0m \u001b[38;5;28mself\u001b[39m\u001b[38;5;241m.\u001b[39madj_matrix \u001b[38;5;241m=\u001b[39m \u001b[43mnx\u001b[49m\u001b[38;5;241;43m.\u001b[39;49m\u001b[43madjacency_matrix\u001b[49m\u001b[43m(\u001b[49m\u001b[38;5;28;43mself\u001b[39;49m\u001b[38;5;241;43m.\u001b[39;49m\u001b[43mG\u001b[49m\u001b[43m)\u001b[49m\u001b[38;5;241;43m.\u001b[39;49m\u001b[43mtoarray\u001b[49m\u001b[43m(\u001b[49m\u001b[43m)\u001b[49m\n\u001b[1;32m      7\u001b[0m \u001b[38;5;28mself\u001b[39m\u001b[38;5;241m.\u001b[39mnodes_list \u001b[38;5;241m=\u001b[39m \u001b[38;5;28mlist\u001b[39m(\u001b[38;5;28mself\u001b[39m\u001b[38;5;241m.\u001b[39mG\u001b[38;5;241m.\u001b[39mnodes\u001b[38;5;241m.\u001b[39mkeys())\n\u001b[1;32m      8\u001b[0m \u001b[38;5;28mself\u001b[39m\u001b[38;5;241m.\u001b[39medge_indices \u001b[38;5;241m=\u001b[39m \u001b[38;5;28mself\u001b[39m\u001b[38;5;241m.\u001b[39mcalc_node_action_pairs()\n",
      "File \u001b[0;32m~/cml/.venv/lib/python3.10/site-packages/scipy/sparse/_compressed.py:1181\u001b[0m, in \u001b[0;36m_cs_matrix.toarray\u001b[0;34m(self, order, out)\u001b[0m\n\u001b[1;32m   1179\u001b[0m \u001b[38;5;28;01mif\u001b[39;00m out \u001b[38;5;129;01mis\u001b[39;00m \u001b[38;5;28;01mNone\u001b[39;00m \u001b[38;5;129;01mand\u001b[39;00m order \u001b[38;5;129;01mis\u001b[39;00m \u001b[38;5;28;01mNone\u001b[39;00m:\n\u001b[1;32m   1180\u001b[0m     order \u001b[38;5;241m=\u001b[39m \u001b[38;5;28mself\u001b[39m\u001b[38;5;241m.\u001b[39m_swap(\u001b[38;5;124m'\u001b[39m\u001b[38;5;124mcf\u001b[39m\u001b[38;5;124m'\u001b[39m)[\u001b[38;5;241m0\u001b[39m]\n\u001b[0;32m-> 1181\u001b[0m out \u001b[38;5;241m=\u001b[39m \u001b[38;5;28;43mself\u001b[39;49m\u001b[38;5;241;43m.\u001b[39;49m\u001b[43m_process_toarray_args\u001b[49m\u001b[43m(\u001b[49m\u001b[43morder\u001b[49m\u001b[43m,\u001b[49m\u001b[43m \u001b[49m\u001b[43mout\u001b[49m\u001b[43m)\u001b[49m\n\u001b[1;32m   1182\u001b[0m \u001b[38;5;28;01mif\u001b[39;00m \u001b[38;5;129;01mnot\u001b[39;00m (out\u001b[38;5;241m.\u001b[39mflags\u001b[38;5;241m.\u001b[39mc_contiguous \u001b[38;5;129;01mor\u001b[39;00m out\u001b[38;5;241m.\u001b[39mflags\u001b[38;5;241m.\u001b[39mf_contiguous):\n\u001b[1;32m   1183\u001b[0m     \u001b[38;5;28;01mraise\u001b[39;00m \u001b[38;5;167;01mValueError\u001b[39;00m(\u001b[38;5;124m'\u001b[39m\u001b[38;5;124mOutput array must be C or F contiguous\u001b[39m\u001b[38;5;124m'\u001b[39m)\n",
      "File \u001b[0;32m~/cml/.venv/lib/python3.10/site-packages/scipy/sparse/_base.py:1301\u001b[0m, in \u001b[0;36m_spbase._process_toarray_args\u001b[0;34m(self, order, out)\u001b[0m\n\u001b[1;32m   1299\u001b[0m     \u001b[38;5;28;01mreturn\u001b[39;00m out\n\u001b[1;32m   1300\u001b[0m \u001b[38;5;28;01melse\u001b[39;00m:\n\u001b[0;32m-> 1301\u001b[0m     \u001b[38;5;28;01mreturn\u001b[39;00m \u001b[43mnp\u001b[49m\u001b[38;5;241;43m.\u001b[39;49m\u001b[43mzeros\u001b[49m\u001b[43m(\u001b[49m\u001b[38;5;28;43mself\u001b[39;49m\u001b[38;5;241;43m.\u001b[39;49m\u001b[43mshape\u001b[49m\u001b[43m,\u001b[49m\u001b[43m \u001b[49m\u001b[43mdtype\u001b[49m\u001b[38;5;241;43m=\u001b[39;49m\u001b[38;5;28;43mself\u001b[39;49m\u001b[38;5;241;43m.\u001b[39;49m\u001b[43mdtype\u001b[49m\u001b[43m,\u001b[49m\u001b[43m \u001b[49m\u001b[43morder\u001b[49m\u001b[38;5;241;43m=\u001b[39;49m\u001b[43morder\u001b[49m\u001b[43m)\u001b[49m\n",
      "\u001b[0;31mMemoryError\u001b[0m: Unable to allocate 466. GiB for an array with shape (250000, 250000) and data type int64"
     ]
    }
   ],
   "source": [
    "my_graph = MyGraph(200, 200)\n",
    "num_walks = 200\n",
    "walk_length = 32\n",
    "dataset = my_graph.random_walk(num_walks, walk_length, 1, 1)\n",
    "dataset[0]"
   ]
  },
  {
   "cell_type": "code",
   "execution_count": 7,
   "metadata": {},
   "outputs": [],
   "source": [
    "class GraphDataset(Dataset):\n",
    "    def __init__(self, dataset, n_obs):\n",
    "        self.from_node = (\n",
    "            torch.from_numpy(dataset[:, :n_obs]).type(torch.float32).to(\"cuda\")\n",
    "        )\n",
    "        self.to_node = (\n",
    "            torch.from_numpy(dataset[:, n_obs + 1 :]).type(torch.float32).to(\"cuda\")\n",
    "        )\n",
    "        self.action = torch.from_numpy(dataset[:, n_obs]).type(torch.int).to(\"cuda\")\n",
    "\n",
    "    def __getitem__(self, index):\n",
    "        return self.from_node[index], self.action[index], self.to_node[index]\n",
    "\n",
    "    def __len__(self):\n",
    "        return len(self.from_node)"
   ]
  },
  {
   "cell_type": "code",
   "execution_count": 8,
   "metadata": {},
   "outputs": [
    {
     "data": {
      "text/plain": [
       "(2, 4)"
      ]
     },
     "execution_count": 8,
     "metadata": {},
     "output_type": "execute_result"
    }
   ],
   "source": [
    "n_obs = my_graph.state_dim\n",
    "n_act = my_graph.action_dim\n",
    "emb_dim = 4000\n",
    "Q_init_stddev = 0.1\n",
    "V_init_stddev = 0.01\n",
    "W_init_stddev = 0.01\n",
    "eta_q = 0.1\n",
    "eta_v = 0.01\n",
    "eta_w = 0.01\n",
    "num_epochs = 10\n",
    "batch_size = 32\n",
    "dataset_torch = GraphDataset(dataset, n_obs)\n",
    "n_obs, n_act"
   ]
  },
  {
   "cell_type": "code",
   "execution_count": 9,
   "metadata": {},
   "outputs": [],
   "source": [
    "loader = DataLoader(dataset_torch, shuffle=True, batch_size=batch_size)"
   ]
  },
  {
   "cell_type": "code",
   "execution_count": 10,
   "metadata": {},
   "outputs": [],
   "source": [
    "class MyNNCML(nn.Module):\n",
    "    def __init__(\n",
    "        self, emb_dim, n_obs, n_act, Q_init_stddev, V_init_stddev, W_init_stddev\n",
    "    ):\n",
    "        super().__init__()\n",
    "        self.Q = nn.Parameter(\n",
    "            torch.randn(size=(emb_dim, n_obs)) * Q_init_stddev, requires_grad=True\n",
    "        )\n",
    "        self.V = nn.Parameter(\n",
    "            torch.randn(size=(emb_dim, n_act)) * V_init_stddev, requires_grad=True\n",
    "        )\n",
    "        self.W = nn.Parameter(\n",
    "            torch.randn(size=(n_act, emb_dim)) * W_init_stddev, requires_grad=True\n",
    "        )\n",
    "\n",
    "    def forward(self, data):\n",
    "        nodes, action, next_nodes = data\n",
    "        actions = torch.zeros((self.V.shape[1], len(action))).to(\"cuda\")\n",
    "        for idx, edge in enumerate(action):\n",
    "            actions[edge, idx] = 1\n",
    "        return self.Q @ next_nodes.T - self.Q @ nodes.T - self.V @ actions"
   ]
  },
  {
   "cell_type": "code",
   "execution_count": 11,
   "metadata": {},
   "outputs": [],
   "source": [
    "model = MyNNCML(emb_dim, n_obs, n_act, Q_init_stddev, V_init_stddev, W_init_stddev).to(\n",
    "    \"cuda\"\n",
    ")\n",
    "loss = nn.MSELoss()\n",
    "optim = torch.optim.Adam(\n",
    "    params=[\n",
    "        {\"params\": model.Q, \"lr\": eta_q / batch_size},\n",
    "        {\"params\": model.V, \"lr\": eta_v / batch_size},\n",
    "        {\"params\": model.W, \"lr\": eta_w / batch_size},\n",
    "    ],\n",
    "    lr=0.01,\n",
    ")\n",
    "mses1 = []"
   ]
  },
  {
   "cell_type": "code",
   "execution_count": 12,
   "metadata": {},
   "outputs": [],
   "source": [
    "for epoch in range(10):\n",
    "    for i, data in enumerate(loader):\n",
    "        # print(i)\n",
    "        optim.zero_grad()\n",
    "        output = model(data)\n",
    "        l = loss(output, torch.zeros_like(output))\n",
    "        l.requires_grad_(True)\n",
    "        l.backward()\n",
    "        optim.step()\n",
    "        with torch.no_grad():\n",
    "            model.V /= torch.linalg.norm(model.V, axis=0)\n",
    "        mses1.append(l.mean().detach().item())"
   ]
  },
  {
   "cell_type": "code",
   "execution_count": 13,
   "metadata": {},
   "outputs": [
    {
     "data": {
      "image/png": "[encoded data removed]",
      "text/plain": [
       "<Figure size 640x480 with 1 Axes>"
      ]
     },
     "metadata": {},
     "output_type": "display_data"
    }
   ],
   "source": [
    "fig, ax = plt.subplots()\n",
    "ax.plot(mses1, label=\"mses1\")\n",
    "ax.set_title(\"Prediction errors during training\")\n",
    "ax.set_yscale(\"log\")\n",
    "plt.legend()\n",
    "plt.show()\n",
    "plt.close(fig)"
   ]
  },
  {
   "cell_type": "code",
   "execution_count": 14,
   "metadata": {},
   "outputs": [],
   "source": [
    "model.cpu()\n",
    "\n",
    "def CML_planner(graph: MyGraph, Q, V, start, goal):\n",
    "    \n",
    "    node_record = []\n",
    "    curr = int(start)\n",
    "    goal_node_emb = graph.state_int_to_emb(goal)\n",
    "    for i in range(len(my_graph.nodes_list)):\n",
    "        node_record.append(curr)\n",
    "        if curr == goal:\n",
    "            return i, node_record\n",
    "        curr_node_emb = graph.state_int_to_emb(curr)\n",
    "        delta = Q @ goal_node_emb - Q @ curr_node_emb  # TODO: start and goal are one-hot vector\n",
    "        avail_nodes = np.where(graph.adj_matrix[curr] != 0)[0]  # int64\n",
    "        avail_actions = [\n",
    "            graph.action_node_to_emb(curr, next_node) for next_node in avail_nodes\n",
    "        ]\n",
    "        utility = delta.T @ V[:, avail_actions]\n",
    "        eligibility = utility / graph.adj_matrix[curr][avail_nodes]\n",
    "        dtype = [(\"id\", int), (\"value\", float)]\n",
    "        values = [(idx, value) for idx, value in enumerate(eligibility)]\n",
    "        a = np.array(values, dtype=dtype)\n",
    "        sorted_arr = np.sort(a, order=\"value\")\n",
    "        sorted_arr = sorted_arr[::-1]  # reverse\n",
    "        for best_id, _ in sorted_arr:\n",
    "            curr = int(avail_nodes[best_id])\n",
    "            if curr not in node_record:\n",
    "                break\n",
    "    return i, node_record"
   ]
  },
  {
   "cell_type": "code",
   "execution_count": null,
   "metadata": {},
   "outputs": [
    {
     "name": "stdout",
     "output_type": "stream",
     "text": [
      "[0, 200, 201, 401, 402, 602, 603, 803, 804] [0, 1, 2, 3, 4, 204, 404, 604, 804]\n"
     ]
    },
    {
     "name": "stderr",
     "output_type": "stream",
     "text": [
      "/tmp/ipykernel_104439/2342595400.py:22: DeprecationWarning: __array_wrap__ must accept context and return_scalar arguments (positionally) in the future. (Deprecated NumPy 2.0)\n",
      "  eligibility = utility / graph.adj_matrix[curr][avail_nodes]\n"
     ]
    }
   ],
   "source": [
    "with torch.no_grad():\n",
    "    cml_distance = []\n",
    "    dijkstra_distance = []\n",
    "    graph = nx.from_numpy_array(my_graph.adj_matrix, create_using=nx.DiGraph())\n",
    "    start = my_graph.nodes_list.index((0, 0))\n",
    "    goal = my_graph.nodes_list.index((4, 4))\n",
    "    steps, o_record = CML_planner(my_graph, model, start, goal)\n",
    "    dijkstra_path = nx.shortest_path(graph, source=start, target=goal, weight=\"weight\")\n",
    "    print(o_record, dijkstra_path)\n",
    "    dijkstra_steps = len(dijkstra_path) - 1\n",
    "    cml_distance.append(steps)\n",
    "    dijkstra_distance.append(dijkstra_steps)\n",
    "    # cml_distance, dijkstra_distance\n",
    "    np.mean(cml_distance), np.mean(dijkstra_distance)"
   ]
  },
  {
   "cell_type": "code",
   "execution_count": 19,
   "metadata": {},
   "outputs": [],
   "source": [
    "removed_node_list = np.random.choice(len(my_graph.nodes_list), 1000, replace=False)\n",
    "my_graph.G.remove_nodes_from(removed_node_list)"
   ]
  },
  {
   "cell_type": "code",
   "execution_count": 20,
   "metadata": {},
   "outputs": [
    {
     "name": "stdout",
     "output_type": "stream",
     "text": [
      "125.33\n",
      "132.795\n"
     ]
    }
   ],
   "source": [
    "Q, V = model.Q.detach().numpy(), model.V.detach().numpy()\n",
    "with torch.no_grad():\n",
    "    N_goal = 200\n",
    "    cml_distance = []\n",
    "    dijkstra_distance = []\n",
    "    graph = nx.from_numpy_array(\n",
    "        my_graph.adj_matrix, create_using=nx.DiGraph()\n",
    "    )  # node_id is int, or else dijkstra will fail\n",
    "    for _ in range(N_goal):\n",
    "        start = np.random.randint(low=0, high=my_graph.adj_matrix.shape[0])\n",
    "        goal = np.random.randint(low=0, high=my_graph.adj_matrix.shape[0])\n",
    "        steps, o_record = CML_planner(my_graph, Q, V, start, goal)\n",
    "        cml_distance.append(steps)\n",
    "    print(np.mean(cml_distance))\n",
    "    for _ in range(N_goal):\n",
    "        start = np.random.randint(low=0, high=my_graph.adj_matrix.shape[0])\n",
    "        goal = np.random.randint(low=0, high=my_graph.adj_matrix.shape[0])\n",
    "        dijkstra_path = nx.shortest_path(\n",
    "            graph, source=start, target=goal, weight=\"weight\"\n",
    "        )\n",
    "        dijkstra_steps = len(dijkstra_path) - 1\n",
    "        dijkstra_distance.append(dijkstra_steps)\n",
    "    # cml_distance, dijkstra_distance\n",
    "    print(np.mean(dijkstra_distance))"
   ]
  },
  {
   "cell_type": "code",
   "execution_count": null,
   "metadata": {},
   "outputs": [],
   "source": []
  }
 ],
 "metadata": {
  "kernelspec": {
   "display_name": ".venv",
   "language": "python",
   "name": "python3"
  },
  "language_info": {
   "codemirror_mode": {
    "name": "ipython",
    "version": 3
   },
   "file_extension": ".py",
   "mimetype": "text/x-python",
   "name": "python",
   "nbconvert_exporter": "python",
   "pygments_lexer": "ipython3",
   "version": "3.10.15"
  }
 },
 "nbformat": 4,
 "nbformat_minor": 2
}
