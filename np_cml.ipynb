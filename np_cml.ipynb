{
 "cells": [
  {
   "cell_type": "code",
   "execution_count": 141,
   "metadata": {},
   "outputs": [],
   "source": [
    "import numpy as np\n",
    "import matplotlib.pyplot as plt\n",
    "import networkx as nx"
   ]
  },
  {
   "cell_type": "code",
   "execution_count": 10,
   "metadata": {},
   "outputs": [],
   "source": [
    "def do_graph_random_walks(adj_matrix, edge_indices, num_walks, walk_length):\n",
    "    num_nodes = adj_matrix.shape[0]\n",
    "    nodes = np.arange(num_nodes)\n",
    "    trajectories = []\n",
    "    for i in range(num_walks):\n",
    "        trajectory = []\n",
    "        curr_node = np.random.choice(nodes).item()\n",
    "        for j in range(walk_length):\n",
    "            next_node = np.random.choice(np.where(adj_matrix[curr_node] == 1)[0]).item()\n",
    "            trajectory.append((curr_node, edge_indices[(curr_node, next_node)], next_node))\n",
    "            curr_node = next_node\n",
    "        trajectories.append(trajectory)\n",
    "    return np.array(trajectories)"
   ]
  },
  {
   "cell_type": "code",
   "execution_count": 11,
   "metadata": {},
   "outputs": [],
   "source": [
    "def gen_random_graph(n_nodes=32, min_degree=2, max_degree=5):\n",
    "    degrees = np.random.randint(min_degree, max_degree + 1, (n_nodes,))\n",
    "    if degrees.sum() % 2 != 0:\n",
    "        adjust_idx = np.random.randint(n_nodes)\n",
    "        if degrees[adjust_idx] == min_degree:\n",
    "            degrees[adjust_idx] += 1\n",
    "        elif degrees[adjust_idx] == max_degree:\n",
    "            degrees[adjust_idx] -= 1\n",
    "        else:\n",
    "            adj = np.random.choice(np.array([-1, 1]))\n",
    "            degrees[adjust_idx]=degrees[adjust_idx] + adj\n",
    "\n",
    "    rem_degrees = np.copy(degrees)\n",
    "\n",
    "    adj_matrix = np.zeros((n_nodes, n_nodes), dtype=np.uint8)\n",
    "    edges = []\n",
    "    edge_indices = {}\n",
    "    edge_idx = 0\n",
    "    while rem_degrees.sum() != 0:\n",
    "        i = np.argmax(rem_degrees).item()\n",
    "        rem_degrees_gz = rem_degrees > 0\n",
    "        rem_degrees_not_argmax = np.arange(rem_degrees.size) != i\n",
    "        pending_edges = np.where(rem_degrees_gz & rem_degrees_not_argmax)[0]\n",
    "        j = np.random.choice(pending_edges).item()\n",
    "\n",
    "        # find a better way to do this?\n",
    "        if (i, j) in edges:\n",
    "            continue\n",
    "\n",
    "        edges.append((i,j))\n",
    "        edge_indices[(i,j)] = edge_idx\n",
    "        edge_idx += 1\n",
    "        edges.append((j,i))\n",
    "        edge_indices[(j,i)] = edge_idx\n",
    "        edge_idx += 1\n",
    "        rem_degrees[i] -= 1\n",
    "        rem_degrees[j] -= 1\n",
    "\n",
    "    for i, j in edges:\n",
    "        adj_matrix[i, j] = 1\n",
    "\n",
    "    return adj_matrix, edge_indices"
   ]
  },
  {
   "cell_type": "code",
   "execution_count": 13,
   "metadata": {},
   "outputs": [],
   "source": [
    "adj_matrix, edge_indices = gen_random_graph()\n",
    "num_walks = 200\n",
    "walk_length = 32\n",
    "trajectories = do_graph_random_walks(adj_matrix, edge_indices, num_walks, walk_length)"
   ]
  },
  {
   "cell_type": "code",
   "execution_count": 215,
   "metadata": {},
   "outputs": [],
   "source": [
    "n_obs = adj_matrix.shape[0]\n",
    "n_act = len(edge_indices)\n",
    "emb_dim = 1000\n",
    "Q_init_stddev = 1.0\n",
    "V_init_stddev = 0.1\n",
    "W_init_stddev = 0.1\n",
    "eta_q = 0.1\n",
    "eta_v = 0.01\n",
    "eta_w = 0.01\n",
    "num_epochs = 10"
   ]
  },
  {
   "cell_type": "code",
   "execution_count": 273,
   "metadata": {},
   "outputs": [],
   "source": [
    "np.random.seed(0)\n",
    "Q = np.random.normal(size=(emb_dim, n_obs)) * Q_init_stddev\n",
    "V = np.random.normal(size=(emb_dim, n_act)) * V_init_stddev\n",
    "W = np.random.normal(size=(n_act, emb_dim)) * W_init_stddev"
   ]
  },
  {
   "cell_type": "code",
   "execution_count": 221,
   "metadata": {},
   "outputs": [
    {
     "name": "stdout",
     "output_type": "stream",
     "text": [
      "epoch 0\n",
      "epoch 1\n",
      "epoch 2\n",
      "epoch 3\n",
      "epoch 4\n",
      "epoch 5\n",
      "epoch 6\n",
      "epoch 7\n",
      "epoch 8\n",
      "epoch 9\n"
     ]
    }
   ],
   "source": [
    "num_trajectories = trajectories.shape[0]\n",
    "mses1 = []\n",
    "for epoch in range(num_epochs):\n",
    "    print(f\"epoch {epoch}\")\n",
    "    for traj_idx in range(num_trajectories):\n",
    "        nodes = trajectories[traj_idx, :, 0]\n",
    "        edges = trajectories[traj_idx, :, 1]\n",
    "        next_nodes = trajectories[traj_idx, :, 2]\n",
    "\n",
    "        s_curr_DxL = Q[:, nodes]\n",
    "        s_next_DxL = Q[:, next_nodes]\n",
    "\n",
    "        s_diff_DxL = s_next_DxL - s_curr_DxL\n",
    "        pred_err_DxL = s_diff_DxL - V[:, edges]\n",
    "\n",
    "        V[:, edges] += eta_v * pred_err_DxL\n",
    "        Q[:, next_nodes] += - eta_q * pred_err_DxL\n",
    "        W[edges, :] += eta_w * s_diff_DxL.T\n",
    "        mses1.append((pred_err_DxL ** 2).mean())"
   ]
  },
  {
   "cell_type": "code",
   "execution_count": 274,
   "metadata": {},
   "outputs": [
    {
     "name": "stdout",
     "output_type": "stream",
     "text": [
      "epoch 0\n",
      "epoch 1\n",
      "epoch 2\n",
      "epoch 3\n",
      "epoch 4\n",
      "epoch 5\n",
      "epoch 6\n",
      "epoch 7\n",
      "epoch 8\n",
      "epoch 9\n"
     ]
    }
   ],
   "source": [
    "num_trajectories = trajectories.shape[0]\n",
    "mses2 = []\n",
    "for epoch in range(num_epochs):\n",
    "    print(f\"epoch {epoch}\")\n",
    "    for traj_idx in range(num_trajectories):\n",
    "        nodes = trajectories[traj_idx, :, 0]\n",
    "        edges = trajectories[traj_idx, :, 1]\n",
    "        next_nodes = trajectories[traj_idx, :, 2]\n",
    "        \n",
    "        cur_obs = np.zeros((Q.shape[1], len(nodes)))\n",
    "        for idx, node in enumerate(nodes):\n",
    "            cur_obs[node, idx] = 1\n",
    "        next_obs = np.zeros((Q.shape[1], len(next_nodes)))\n",
    "        for idx, node in enumerate(next_nodes):\n",
    "            next_obs[node, idx] = 1\n",
    "        actions = np.zeros((V.shape[1], len(edges)))\n",
    "        for idx, edge in enumerate(edges):\n",
    "            actions[edge, idx] = 1\n",
    "\n",
    "        s_curr_DxL = Q@cur_obs\n",
    "        s_next_DxL = Q@next_obs\n",
    "\n",
    "        s_diff_DxL = s_next_DxL - s_curr_DxL\n",
    "        pred_err_DxL = s_diff_DxL - V@actions\n",
    "\n",
    "        V += eta_v * pred_err_DxL@actions.T\n",
    "        Q += eta_q * pred_err_DxL@(- next_obs).T\n",
    "        W += eta_w * actions@s_diff_DxL.T\n",
    "        mses2.append((pred_err_DxL ** 2).mean())"
   ]
  },
  {
   "cell_type": "code",
   "execution_count": 275,
   "metadata": {},
   "outputs": [
    {
     "data": {
      "image/png": "[encoded data removed]",
      "text/plain": [
       "<Figure size 640x480 with 1 Axes>"
      ]
     },
     "metadata": {},
     "output_type": "display_data"
    }
   ],
   "source": [
    "fig, ax = plt.subplots()\n",
    "ax.plot(mses1, label='mses1')\n",
    "ax.plot(mses2, label='mses2')\n",
    "ax.set_title('Prediction errors during training')\n",
    "ax.set_yscale('log')\n",
    "plt.legend()\n",
    "plt.show()\n",
    "plt.close(fig)"
   ]
  },
  {
   "cell_type": "code",
   "execution_count": 276,
   "metadata": {},
   "outputs": [],
   "source": [
    "def CML_planner(start, goal, obs_size):\n",
    "    a_record = []\n",
    "    o_record = []\n",
    "    loc = int(start)\n",
    "    for i in range(obs_size):\n",
    "        o_record.append(loc)\n",
    "        if loc==goal:\n",
    "            return i, o_record\n",
    "        delta = Q[:,goal] - Q[:,loc]  # TODO: start and goal are one-hot vector\n",
    "        avail_nodes = np.where(adj_matrix[loc] == 1)[0]  # int64\n",
    "        avail_actions = [edge_indices[(loc, int(next_node))] for next_node in avail_nodes]\n",
    "        utility = delta.T@V[:, avail_actions]\n",
    "        best_id = np.argmax(utility)\n",
    "        best_action = avail_actions[best_id]\n",
    "        loc = int(avail_nodes[best_id])\n",
    "        a_record.append(best_action)\n",
    "    return i, o_record"
   ]
  },
  {
   "cell_type": "code",
   "execution_count": 277,
   "metadata": {},
   "outputs": [
    {
     "name": "stdout",
     "output_type": "stream",
     "text": [
      "[10, 19, 7, 21, 2, 30] [10, 11, 9, 29, 30]\n"
     ]
    }
   ],
   "source": [
    "graph = nx.from_numpy_array(adj_matrix, create_using=nx.DiGraph())\n",
    "start_id = 10\n",
    "goal_id = 30\n",
    "steps, o_record = CML_planner(start_id, goal_id, n_obs)\n",
    "dijkstra_path = nx.shortest_path(graph, source=start_id, target=goal_id)\n",
    "print(o_record, dijkstra_path)\n",
    "dijkstra_steps = len(dijkstra_path) - 1"
   ]
  },
  {
   "cell_type": "code",
   "execution_count": 259,
   "metadata": {},
   "outputs": [],
   "source": [
    "delta = Q[:,goal_id] - Q[:,start_id]"
   ]
  },
  {
   "cell_type": "code",
   "execution_count": 270,
   "metadata": {},
   "outputs": [
    {
     "data": {
      "text/plain": [
       "np.int64(8)"
      ]
     },
     "execution_count": 270,
     "metadata": {},
     "output_type": "execute_result"
    }
   ],
   "source": [
    "avail_nodes = np.where(adj_matrix[start_id] == 1)[0]\n",
    "avail_nodes"
   ]
  },
  {
   "cell_type": "code",
   "execution_count": 264,
   "metadata": {},
   "outputs": [
    {
     "data": {
      "text/plain": [
       "[0, 35, 32, 10, 41]"
      ]
     },
     "execution_count": 264,
     "metadata": {},
     "output_type": "execute_result"
    }
   ],
   "source": [
    "avail_actions = [edge_indices[(start_id, int(next_node))] for next_node in avail_id]\n",
    "avail_actions"
   ]
  },
  {
   "cell_type": "code",
   "execution_count": 265,
   "metadata": {},
   "outputs": [
    {
     "data": {
      "text/plain": [
       "array([-0.1081222 ,  6.31474811, -0.04077369, 16.6063433 ,  4.42656941])"
      ]
     },
     "execution_count": 265,
     "metadata": {},
     "output_type": "execute_result"
    }
   ],
   "source": [
    "utility = delta.T@V[:, avail_actions]\n",
    "utility"
   ]
  },
  {
   "cell_type": "code",
   "execution_count": 267,
   "metadata": {},
   "outputs": [
    {
     "data": {
      "text/plain": [
       "10"
      ]
     },
     "execution_count": 267,
     "metadata": {},
     "output_type": "execute_result"
    }
   ],
   "source": [
    "best_action = avail_actions[np.argmax(utility)]\n",
    "best_action"
   ]
  },
  {
   "cell_type": "code",
   "execution_count": null,
   "metadata": {},
   "outputs": [],
   "source": [
    "edge_indices.values"
   ]
  },
  {
   "cell_type": "code",
   "execution_count": 250,
   "metadata": {},
   "outputs": [
    {
     "data": {
      "text/plain": [
       "np.int64(4)"
      ]
     },
     "execution_count": 250,
     "metadata": {},
     "output_type": "execute_result"
    }
   ],
   "source": [
    "id = np.argmax((delta.T@V)[avail_edge])\n",
    "id"
   ]
  },
  {
   "cell_type": "code",
   "execution_count": 247,
   "metadata": {},
   "outputs": [
    {
     "data": {
      "text/plain": [
       "np.int64(30)"
      ]
     },
     "execution_count": 247,
     "metadata": {},
     "output_type": "execute_result"
    }
   ],
   "source": [
    "avail_id[id]"
   ]
  },
  {
   "cell_type": "code",
   "execution_count": 280,
   "metadata": {},
   "outputs": [
    {
     "data": {
      "text/plain": [
       "(np.float64(3.595), np.float64(3.042))"
      ]
     },
     "execution_count": 280,
     "metadata": {},
     "output_type": "execute_result"
    }
   ],
   "source": [
    "N_goal = 1000\n",
    "cml_distance = []\n",
    "dijkstra_distance = []\n",
    "graph = nx.from_numpy_array(adj_matrix, create_using=nx.DiGraph())\n",
    "for _ in range(N_goal):\n",
    "    start_id = np.random.randint(0, n_obs)\n",
    "    goal_id = np.random.randint(0, n_obs)\n",
    "    steps, o_record = CML_planner(start_id, goal_id, n_obs)\n",
    "    dijkstra_path = nx.shortest_path(graph, source=start_id, target=goal_id)\n",
    "    # print(o_record, dijkstra_path)\n",
    "    dijkstra_steps = len(dijkstra_path) - 1\n",
    "    cml_distance.append(steps)\n",
    "    dijkstra_distance.append(dijkstra_steps)\n",
    "# cml_distance, dijkstra_distance\n",
    "np.mean(cml_distance), np.mean(dijkstra_distance)"
   ]
  },
  {
   "cell_type": "code",
   "execution_count": null,
   "metadata": {},
   "outputs": [],
   "source": [
    "\n",
    "def test_model(model, env, print_results=True):\n",
    "    N_nodes = model.o_size\n",
    "    dis = []\n",
    "    D_dis = []\n",
    "    N_goal = 1000\n",
    "    graph = nx.from_numpy_matrix(env.adj_matrix.cpu().numpy(), create_using=nx.DiGraph())\n",
    "    for i in range(N_goal):\n",
    "        start_idx = torch.randint(N_nodes, (1,))[0]\n",
    "        goal_idx = torch.randint(N_nodes, (1,))[0]\n",
    "        with torch.no_grad():\n",
    "            steps, o_record = model.plan(start_idx, goal_idx, env, False)\n",
    "        D_path = nx.shortest_path(graph, source=int(start_idx.cpu()), target=int(goal_idx.cpu()))\n",
    "        D_steps = len(D_path) - 1\n",
    "        dis.append(steps)\n",
    "        D_dis.append(D_steps)\n",
    "\n",
    "    # Convert lists to tensors and move them to GPU\n",
    "    dis = torch.tensor(dis).float()\n",
    "    D_dis = torch.tensor(D_dis).float()\n",
    "    mask = dis != (N_nodes-1)\n",
    "    mean_CML = torch.mean(dis).item()\n",
    "    std_CML = torch.std(dis).item()\n",
    "    mean_Dij = torch.mean(D_dis).item()\n",
    "    std_Dij = torch.std(D_dis).item()\n",
    "    if print_results:\n",
    "        print('CML steps:', str(mean_CML)[:6], ', Success Rate:', str((mask.sum() / N_goal * 100).item())[:6] + '%',\n",
    "          ', Dij steps:', str(mean_Dij)[:6], ', Percentage worse:', str((mean_CML / mean_Dij - 1) * 100)[:6] + '%')\n",
    "        print('CML std: ', str(std_CML)[:6], ' Dij std: ', str(std_Dij)[:6])\n",
    "    else:\n",
    "        return mean_CML"
   ]
  }
 ],
 "metadata": {
  "kernelspec": {
   "display_name": ".venv",
   "language": "python",
   "name": "python3"
  },
  "language_info": {
   "codemirror_mode": {
    "name": "ipython",
    "version": 3
   },
   "file_extension": ".py",
   "mimetype": "text/x-python",
   "name": "python",
   "nbconvert_exporter": "python",
   "pygments_lexer": "ipython3",
   "version": "3.10.15"
  }
 },
 "nbformat": 4,
 "nbformat_minor": 2
}
