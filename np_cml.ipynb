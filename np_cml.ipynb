{
 "cells": [
  {
   "cell_type": "code",
   "execution_count": 1,
   "metadata": {},
   "outputs": [],
   "source": [
    "import numpy as np\n",
    "import matplotlib.pyplot as plt\n",
    "import networkx as nx\n",
    "from IPython import display\n",
    "import gymnasium as gym\n",
    "from stable_baselines3 import PPO\n",
    "import random\n"
   ]
  },
  {
   "cell_type": "markdown",
   "metadata": {},
   "source": [
    "# CML"
   ]
  },
  {
   "cell_type": "code",
   "execution_count": 2,
   "metadata": {},
   "outputs": [],
   "source": [
    "def do_graph_random_walks(adj_matrix, edge_indices, num_walks, walk_length):\n",
    "    num_nodes = adj_matrix.shape[0]\n",
    "    nodes = np.arange(num_nodes)\n",
    "    trajectories = []\n",
    "    for i in range(num_walks):\n",
    "        trajectory = []\n",
    "        curr_node = np.random.choice(nodes).item()\n",
    "        for j in range(walk_length):\n",
    "            next_node = np.random.choice(np.where(adj_matrix[curr_node] == 1)[0]).item()\n",
    "            trajectory.append((curr_node, edge_indices[(curr_node, next_node)], next_node))\n",
    "            curr_node = next_node\n",
    "        trajectories.append(trajectory)\n",
    "    return np.array(trajectories)"
   ]
  },
  {
   "cell_type": "code",
   "execution_count": 3,
   "metadata": {},
   "outputs": [],
   "source": [
    "def gen_random_graph(n_nodes=32, min_degree=2, max_degree=5):\n",
    "    degrees = np.random.randint(min_degree, max_degree + 1, (n_nodes,))\n",
    "    if degrees.sum() % 2 != 0:\n",
    "        adjust_idx = np.random.randint(n_nodes)\n",
    "        if degrees[adjust_idx] == min_degree:\n",
    "            degrees[adjust_idx] += 1\n",
    "        elif degrees[adjust_idx] == max_degree:\n",
    "            degrees[adjust_idx] -= 1\n",
    "        else:\n",
    "            adj = np.random.choice(np.array([-1, 1]))\n",
    "            degrees[adjust_idx]=degrees[adjust_idx] + adj\n",
    "\n",
    "    rem_degrees = np.copy(degrees)\n",
    "\n",
    "    adj_matrix = np.zeros((n_nodes, n_nodes), dtype=np.uint8)\n",
    "    edges = []\n",
    "    edge_indices = {}\n",
    "    edge_idx = 0\n",
    "    while rem_degrees.sum() != 0:\n",
    "        i = np.argmax(rem_degrees).item()\n",
    "        rem_degrees_gz = rem_degrees > 0\n",
    "        rem_degrees_not_argmax = np.arange(rem_degrees.size) != i\n",
    "        pending_edges = np.where(rem_degrees_gz & rem_degrees_not_argmax)[0]\n",
    "        j = np.random.choice(pending_edges).item()\n",
    "\n",
    "        # find a better way to do this?\n",
    "        if (i, j) in edges:\n",
    "            continue\n",
    "\n",
    "        edges.append((i,j))\n",
    "        edge_indices[(i,j)] = edge_idx\n",
    "        edge_idx += 1\n",
    "        edges.append((j,i))\n",
    "        edge_indices[(j,i)] = edge_idx\n",
    "        edge_idx += 1\n",
    "        rem_degrees[i] -= 1\n",
    "        rem_degrees[j] -= 1\n",
    "\n",
    "    for i, j in edges:\n",
    "        adj_matrix[i, j] = 1\n",
    "\n",
    "    return adj_matrix, edge_indices"
   ]
  },
  {
   "cell_type": "code",
   "execution_count": 4,
   "metadata": {},
   "outputs": [],
   "source": [
    "adj_matrix, edge_indices = gen_random_graph(n_nodes=32, max_degree=10)\n",
    "num_walks = 200\n",
    "walk_length = 32\n",
    "trajectories = do_graph_random_walks(adj_matrix, edge_indices, num_walks, walk_length)"
   ]
  },
  {
   "cell_type": "code",
   "execution_count": 5,
   "metadata": {},
   "outputs": [
    {
     "data": {
      "text/plain": [
       "(32, 172)"
      ]
     },
     "execution_count": 5,
     "metadata": {},
     "output_type": "execute_result"
    }
   ],
   "source": [
    "n_obs = adj_matrix.shape[0]\n",
    "n_act = len(edge_indices)\n",
    "emb_dim = 1000\n",
    "Q_init_stddev = 1.0\n",
    "V_init_stddev = 0.1\n",
    "W_init_stddev = 0.1\n",
    "eta_q = 0.1\n",
    "eta_v = 0.01\n",
    "eta_w = 0.01\n",
    "num_epochs = 10\n",
    "n_obs, n_act"
   ]
  },
  {
   "cell_type": "code",
   "execution_count": 6,
   "metadata": {},
   "outputs": [],
   "source": [
    "np.random.seed(0)\n",
    "Q = np.random.normal(size=(emb_dim, n_obs)) * Q_init_stddev\n",
    "V = np.random.normal(size=(emb_dim, n_act)) * V_init_stddev\n",
    "W = np.random.normal(size=(n_act, emb_dim)) * W_init_stddev"
   ]
  },
  {
   "cell_type": "code",
   "execution_count": 7,
   "metadata": {},
   "outputs": [
    {
     "name": "stdout",
     "output_type": "stream",
     "text": [
      "epoch 0\n",
      "epoch 1\n",
      "epoch 2\n",
      "epoch 3\n",
      "epoch 4\n",
      "epoch 5\n",
      "epoch 6\n",
      "epoch 7\n",
      "epoch 8\n",
      "epoch 9\n"
     ]
    }
   ],
   "source": [
    "num_trajectories = trajectories.shape[0]\n",
    "mses1 = []\n",
    "for epoch in range(num_epochs):\n",
    "    print(f\"epoch {epoch}\")\n",
    "    for traj_idx in range(num_trajectories):\n",
    "        nodes = trajectories[traj_idx, :, 0]\n",
    "        edges = trajectories[traj_idx, :, 1]\n",
    "        next_nodes = trajectories[traj_idx, :, 2]\n",
    "\n",
    "        s_curr_DxL = Q[:, nodes]\n",
    "        s_next_DxL = Q[:, next_nodes]\n",
    "\n",
    "        s_diff_DxL = s_next_DxL - s_curr_DxL\n",
    "        pred_err_DxL = s_diff_DxL - V[:, edges]\n",
    "\n",
    "        V[:, edges] += eta_v * pred_err_DxL\n",
    "        Q[:, next_nodes] += - eta_q * pred_err_DxL\n",
    "        W[edges, :] += eta_w * s_diff_DxL.T\n",
    "        mses1.append((pred_err_DxL ** 2).mean())"
   ]
  },
  {
   "cell_type": "code",
   "execution_count": 8,
   "metadata": {},
   "outputs": [
    {
     "data": {
      "text/plain": [
       "(32,)"
      ]
     },
     "execution_count": 8,
     "metadata": {},
     "output_type": "execute_result"
    }
   ],
   "source": [
    "nodes.shape"
   ]
  },
  {
   "cell_type": "code",
   "execution_count": 9,
   "metadata": {},
   "outputs": [
    {
     "name": "stdout",
     "output_type": "stream",
     "text": [
      "epoch 0\n",
      "epoch 1\n",
      "epoch 2\n",
      "epoch 3\n",
      "epoch 4\n",
      "epoch 5\n",
      "epoch 6\n",
      "epoch 7\n",
      "epoch 8\n",
      "epoch 9\n"
     ]
    }
   ],
   "source": [
    "\n",
    "num_trajectories = trajectories.shape[0]\n",
    "mses2 = []\n",
    "for epoch in range(num_epochs):\n",
    "    print(f\"epoch {epoch}\")\n",
    "    for traj_idx in range(num_trajectories):\n",
    "        nodes = trajectories[traj_idx, :, 0]\n",
    "        edges = trajectories[traj_idx, :, 1]\n",
    "        next_nodes = trajectories[traj_idx, :, 2]\n",
    "        \n",
    "        cur_obs = np.zeros((Q.shape[1], len(nodes)))\n",
    "        for idx, node in enumerate(nodes):\n",
    "            cur_obs[node, idx] = 1\n",
    "        next_obs = np.zeros((Q.shape[1], len(next_nodes)))\n",
    "        for idx, node in enumerate(next_nodes):\n",
    "            next_obs[node, idx] = 1\n",
    "        actions = np.zeros((V.shape[1], len(edges)))\n",
    "        for idx, edge in enumerate(edges):\n",
    "            actions[edge, idx] = 1\n",
    "\n",
    "        s_curr_DxL = Q@cur_obs\n",
    "        s_next_DxL = Q@next_obs\n",
    "\n",
    "        s_diff_DxL = s_next_DxL - s_curr_DxL\n",
    "        pred_err_DxL = s_diff_DxL - V@actions\n",
    "\n",
    "        V += eta_v * pred_err_DxL@actions.T\n",
    "        Q += eta_q * pred_err_DxL@(- next_obs).T\n",
    "        W += eta_w * actions@s_diff_DxL.T\n",
    "        \n",
    "        V /= np.linalg.norm(V, axis=0)\n",
    "        \n",
    "        mses2.append((pred_err_DxL ** 2).mean())"
   ]
  },
  {
   "cell_type": "code",
   "execution_count": 10,
   "metadata": {},
   "outputs": [
    {
     "data": {
      "image/png": "[encoded data removed]",
      "text/plain": [
       "<Figure size 640x480 with 1 Axes>"
      ]
     },
     "metadata": {},
     "output_type": "display_data"
    }
   ],
   "source": [
    "fig, ax = plt.subplots()\n",
    "ax.plot(mses1, label='mses1')\n",
    "# ax.plot(mses2, label='mses2')\n",
    "ax.set_title('Prediction errors during training')\n",
    "ax.set_yscale('log')\n",
    "plt.legend()\n",
    "plt.show()\n",
    "plt.close(fig)"
   ]
  },
  {
   "cell_type": "code",
   "execution_count": 11,
   "metadata": {},
   "outputs": [],
   "source": [
    "def CML_planner(start, goal, obs_size):\n",
    "    a_record = []\n",
    "    o_record = []\n",
    "    loc = int(start)\n",
    "    for i in range(obs_size):\n",
    "        o_record.append(loc)\n",
    "        if loc==goal:\n",
    "            return i, o_record\n",
    "        cur_obs = np.zeros((Q.shape[1]))\n",
    "        cur_obs[loc] = 1\n",
    "        goal_obs = np.zeros((Q.shape[1]))\n",
    "        goal_obs[goal] = 1\n",
    "        delta = Q@goal_obs - Q@cur_obs  # TODO: start and goal are one-hot vector\n",
    "        avail_nodes = np.where(adj_matrix[loc] != 0)[0]  # int64\n",
    "        avail_actions = [edge_indices[(loc, int(next_node))] for next_node in avail_nodes]\n",
    "        utility = delta.T@V[:, avail_actions]\n",
    "        # utility = delta.T@(V@(1/adj_matrix[loc, :].T))\n",
    "        eligibility = utility / adj_matrix[loc][avail_nodes]\n",
    "        # best_id = np.argmax(utility)\n",
    "        best_id = np.argmax(eligibility)\n",
    "        best_action = avail_actions[best_id]\n",
    "        # best_action = edge_indices[(loc, best_id)]\n",
    "        loc = int(avail_nodes[best_id])\n",
    "        a_record.append(best_action)\n",
    "    return i, o_record"
   ]
  },
  {
   "cell_type": "code",
   "execution_count": 12,
   "metadata": {},
   "outputs": [
    {
     "name": "stdout",
     "output_type": "stream",
     "text": [
      "[11, 18, 30] [11, 18, 30]\n"
     ]
    }
   ],
   "source": [
    "graph = nx.from_numpy_array(adj_matrix, create_using=nx.DiGraph())\n",
    "start_id = 11\n",
    "goal_id = 30\n",
    "steps, o_record = CML_planner(start_id, goal_id, n_obs)\n",
    "dijkstra_path = nx.shortest_path(graph, source=start_id, target=goal_id)\n",
    "print(o_record, dijkstra_path)\n",
    "dijkstra_steps = len(dijkstra_path) - 1"
   ]
  },
  {
   "cell_type": "code",
   "execution_count": 18,
   "metadata": {},
   "outputs": [
    {
     "data": {
      "text/plain": [
       "(np.float64(2.1102), np.float64(2.076))"
      ]
     },
     "execution_count": 18,
     "metadata": {},
     "output_type": "execute_result"
    }
   ],
   "source": [
    "N_goal = 10000\n",
    "cml_distance = []\n",
    "dijkstra_distance = []\n",
    "graph = nx.from_numpy_array(adj_matrix, create_using=nx.DiGraph())\n",
    "for _ in range(N_goal):\n",
    "    start_id = np.random.randint(0, n_obs)\n",
    "    goal_id = np.random.randint(0, n_obs)\n",
    "    steps, o_record = CML_planner(start_id, goal_id, n_obs)\n",
    "    dijkstra_path = nx.shortest_path(graph, source=start_id, target=goal_id)\n",
    "    # print(o_record, dijkstra_path)\n",
    "    dijkstra_steps = len(dijkstra_path) - 1\n",
    "    cml_distance.append(steps)\n",
    "    dijkstra_distance.append(dijkstra_steps)\n",
    "# cml_distance, dijkstra_distance\n",
    "np.mean(cml_distance), np.mean(dijkstra_distance)"
   ]
  },
  {
   "cell_type": "markdown",
   "metadata": {},
   "source": [
    "## weighted graph"
   ]
  },
  {
   "cell_type": "code",
   "execution_count": 26,
   "metadata": {},
   "outputs": [],
   "source": [
    "weighted_matrix = np.random.randint(1, 10, adj_matrix.shape) * adj_matrix"
   ]
  },
  {
   "cell_type": "code",
   "execution_count": 27,
   "metadata": {},
   "outputs": [
    {
     "data": {
      "text/plain": [
       "array([[0, 0, 0, ..., 0, 8, 0],\n",
       "       [0, 0, 0, ..., 7, 0, 0],\n",
       "       [0, 0, 0, ..., 3, 0, 2],\n",
       "       ...,\n",
       "       [0, 1, 8, ..., 0, 0, 0],\n",
       "       [5, 0, 0, ..., 0, 0, 0],\n",
       "       [0, 0, 5, ..., 0, 0, 0]])"
      ]
     },
     "execution_count": 27,
     "metadata": {},
     "output_type": "execute_result"
    }
   ],
   "source": [
    "weighted_matrix"
   ]
  },
  {
   "cell_type": "code",
   "execution_count": 115,
   "metadata": {},
   "outputs": [],
   "source": [
    "def CML_planner(start, goal, obs_size):\n",
    "    a_record = []\n",
    "    o_record = []\n",
    "    loc = int(start)\n",
    "    for i in range(obs_size):\n",
    "        o_record.append(loc)\n",
    "        if loc==goal:\n",
    "            return i, o_record\n",
    "        cur_obs = np.zeros((Q.shape[1]))\n",
    "        cur_obs[loc] = 1\n",
    "        goal_obs = np.zeros((Q.shape[1]))\n",
    "        goal_obs[goal] = 1\n",
    "        delta = Q@goal_obs - Q@cur_obs  # TODO: start and goal are one-hot vector\n",
    "        avail_nodes = np.where(weighted_matrix[loc] != 0)[0]  # int64\n",
    "        avail_actions = [edge_indices[(loc, int(next_node))] for next_node in avail_nodes]\n",
    "        if goal in avail_nodes:\n",
    "            loc = goal\n",
    "            continue\n",
    "        utility = delta.T@V[:, avail_actions]\n",
    "        eligibility = utility / weighted_matrix[loc][avail_nodes]\n",
    "        dtype = [('id', int), ('value', float)]\n",
    "        values = [(idx, value) for idx, value in enumerate(eligibility)]\n",
    "        a = np.array(values, dtype=dtype)\n",
    "        sorted_arr = np.sort(a, order='value')\n",
    "        sorted_arr = sorted_arr[::-1]  # reverse\n",
    "        for best_id, _ in sorted_arr:\n",
    "            loc = int(avail_nodes[best_id])\n",
    "            # break\n",
    "            if loc not in o_record:\n",
    "                break\n",
    "        # while loc not in o_record:\n",
    "        #     # best_id = np.argmax(utility)\n",
    "        #     best_id = np.argmax(eligibility)\n",
    "        #     best_action = avail_actions[best_id]\n",
    "        #     # best_action = edge_indices[(loc, best_id)]\n",
    "        #     loc = int(avail_nodes[best_id])\n",
    "        #     a_record.append(best_action)\n",
    "    return i, o_record"
   ]
  },
  {
   "cell_type": "code",
   "execution_count": 105,
   "metadata": {},
   "outputs": [
    {
     "name": "stdout",
     "output_type": "stream",
     "text": [
      "[2, 20, 5, 28, 15] [2, 8, 15]\n"
     ]
    }
   ],
   "source": [
    "graph = nx.from_numpy_array(weighted_matrix, create_using=nx.DiGraph())\n",
    "start_id = 2\n",
    "goal_id = 15\n",
    "steps, o_record = CML_planner(start_id, goal_id, n_obs)\n",
    "dijkstra_path = nx.shortest_path(graph, source=start_id, target=goal_id)\n",
    "print(o_record, dijkstra_path)\n",
    "dijkstra_steps = len(dijkstra_path) - 1"
   ]
  },
  {
   "cell_type": "code",
   "execution_count": null,
   "metadata": {},
   "outputs": [],
   "source": [
    "[2, 20, 2, 20, 2, 20, 2, 20, 2, 20, 2, 20, 2, 20, 2, 20, 2, 20, 2, 20, 2, 20, 2, 20, 2, 20, 2, 20, 2, 20, 2, 20] [2, 8, 15]"
   ]
  },
  {
   "cell_type": "code",
   "execution_count": null,
   "metadata": {},
   "outputs": [],
   "source": [
    "def path_length(path):\n",
    "    return np.sum([graph.edges[i, j]['weight'] for i,j in zip(path[:-1], path[1:])])"
   ]
  },
  {
   "cell_type": "code",
   "execution_count": 9,
   "metadata": {},
   "outputs": [
    {
     "ename": "NameError",
     "evalue": "name 'weighted_matrix' is not defined",
     "output_type": "error",
     "traceback": [
      "\u001b[0;31m---------------------------------------------------------------------------\u001b[0m",
      "\u001b[0;31mNameError\u001b[0m                                 Traceback (most recent call last)",
      "Cell \u001b[0;32mIn[9], line 4\u001b[0m\n\u001b[1;32m      2\u001b[0m cml_distance \u001b[38;5;241m=\u001b[39m []\n\u001b[1;32m      3\u001b[0m dijkstra_distance \u001b[38;5;241m=\u001b[39m []\n\u001b[0;32m----> 4\u001b[0m graph \u001b[38;5;241m=\u001b[39m nx\u001b[38;5;241m.\u001b[39mfrom_numpy_array(\u001b[43mweighted_matrix\u001b[49m, create_using\u001b[38;5;241m=\u001b[39mnx\u001b[38;5;241m.\u001b[39mDiGraph())\n\u001b[1;32m      5\u001b[0m \u001b[38;5;28;01mfor\u001b[39;00m _ \u001b[38;5;129;01min\u001b[39;00m \u001b[38;5;28mrange\u001b[39m(N_goal):\n\u001b[1;32m      6\u001b[0m     start_id, goal_id \u001b[38;5;241m=\u001b[39m np\u001b[38;5;241m.\u001b[39mrandom\u001b[38;5;241m.\u001b[39mchoice(n_obs, \u001b[38;5;241m2\u001b[39m, replace\u001b[38;5;241m=\u001b[39m\u001b[38;5;28;01mFalse\u001b[39;00m)\n",
      "\u001b[0;31mNameError\u001b[0m: name 'weighted_matrix' is not defined"
     ]
    }
   ],
   "source": [
    "N_goal = 10\n",
    "cml_distance = []\n",
    "dijkstra_distance = []\n",
    "graph = nx.from_numpy_array(weighted_matrix, create_using=nx.DiGraph())\n",
    "for _ in range(N_goal):\n",
    "    start_id, goal_id = np.random.choice(n_obs, 2, replace=False)\n",
    "    steps, o_record = CML_planner(start_id, goal_id, n_obs)\n",
    "    dijkstra_path = nx.shortest_path(graph, source=start_id, target=goal_id, weight='weight')\n",
    "    print(o_record, dijkstra_path, path_length(o_record), path_length(dijkstra_path))\n",
    "    dijkstra_steps = len(dijkstra_path) - 1\n",
    "    cml_distance.append(path_length(o_record))\n",
    "    dijkstra_distance.append(path_length(dijkstra_path))\n",
    "# cml_distance, dijkstra_distance\n",
    "np.mean(cml_distance), np.mean(dijkstra_distance)"
   ]
  },
  {
   "cell_type": "code",
   "execution_count": 43,
   "metadata": {},
   "outputs": [
    {
     "data": {
      "text/plain": [
       "OutEdgeDataView([(0, 4, {'weight': 2}), (0, 8, {'weight': 1}), (0, 10, {'weight': 8}), (0, 11, {'weight': 2}), (0, 16, {'weight': 9}), (0, 19, {'weight': 1}), (0, 21, {'weight': 1}), (0, 25, {'weight': 3}), (0, 28, {'weight': 9}), (0, 30, {'weight': 8}), (1, 7, {'weight': 9}), (1, 10, {'weight': 1}), (1, 18, {'weight': 3}), (1, 19, {'weight': 2}), (1, 23, {'weight': 7}), (1, 25, {'weight': 5}), (1, 29, {'weight': 7}), (2, 8, {'weight': 7}), (2, 9, {'weight': 5}), (2, 14, {'weight': 6}), (2, 19, {'weight': 6}), (2, 20, {'weight': 1}), (2, 23, {'weight': 6}), (2, 26, {'weight': 7}), (2, 27, {'weight': 4}), (2, 29, {'weight': 3}), (2, 31, {'weight': 2}), (3, 10, {'weight': 6}), (3, 12, {'weight': 3}), (3, 14, {'weight': 7}), (3, 25, {'weight': 5}), (4, 0, {'weight': 3}), (4, 5, {'weight': 4}), (4, 28, {'weight': 8}), (4, 31, {'weight': 5}), (5, 4, {'weight': 4}), (5, 7, {'weight': 3}), (5, 13, {'weight': 6}), (5, 20, {'weight': 6}), (5, 28, {'weight': 1}), (6, 8, {'weight': 7}), (6, 11, {'weight': 9}), (6, 31, {'weight': 5}), (7, 1, {'weight': 5}), (7, 5, {'weight': 6}), (7, 14, {'weight': 5}), (7, 15, {'weight': 2}), (7, 17, {'weight': 7}), (7, 21, {'weight': 1}), (7, 24, {'weight': 7}), (7, 27, {'weight': 8}), (8, 0, {'weight': 3}), (8, 2, {'weight': 2}), (8, 6, {'weight': 2}), (8, 9, {'weight': 8}), (8, 11, {'weight': 8}), (8, 13, {'weight': 9}), (8, 15, {'weight': 6}), (8, 29, {'weight': 5}), (9, 2, {'weight': 3}), (9, 8, {'weight': 3}), (9, 23, {'weight': 1}), (10, 0, {'weight': 4}), (10, 1, {'weight': 5}), (10, 3, {'weight': 2}), (11, 0, {'weight': 8}), (11, 6, {'weight': 7}), (11, 8, {'weight': 8}), (11, 24, {'weight': 8}), (11, 25, {'weight': 3}), (11, 29, {'weight': 1}), (11, 31, {'weight': 8}), (12, 3, {'weight': 5}), (12, 29, {'weight': 5}), (13, 5, {'weight': 6}), (13, 8, {'weight': 5}), (13, 15, {'weight': 8}), (13, 22, {'weight': 7}), (13, 27, {'weight': 5}), (13, 28, {'weight': 1}), (14, 2, {'weight': 1}), (14, 3, {'weight': 9}), (14, 7, {'weight': 2}), (14, 15, {'weight': 9}), (14, 17, {'weight': 8}), (14, 23, {'weight': 9}), (14, 26, {'weight': 9}), (14, 28, {'weight': 3}), (14, 31, {'weight': 2}), (15, 7, {'weight': 8}), (15, 8, {'weight': 6}), (15, 13, {'weight': 7}), (15, 14, {'weight': 9}), (15, 26, {'weight': 5}), (15, 27, {'weight': 1}), (15, 28, {'weight': 9}), (16, 0, {'weight': 2}), (16, 18, {'weight': 2}), (16, 28, {'weight': 9}), (16, 30, {'weight': 6}), (17, 7, {'weight': 1}), (17, 14, {'weight': 9}), (18, 1, {'weight': 7}), (18, 16, {'weight': 7}), (18, 29, {'weight': 9}), (19, 0, {'weight': 4}), (19, 1, {'weight': 8}), (19, 2, {'weight': 1}), (19, 22, {'weight': 9}), (20, 2, {'weight': 4}), (20, 5, {'weight': 3}), (20, 21, {'weight': 8}), (21, 0, {'weight': 2}), (21, 7, {'weight': 5}), (21, 20, {'weight': 5}), (21, 25, {'weight': 9}), (21, 30, {'weight': 8}), (22, 13, {'weight': 3}), (22, 19, {'weight': 4}), (23, 1, {'weight': 1}), (23, 2, {'weight': 6}), (23, 9, {'weight': 5}), (23, 14, {'weight': 8}), (24, 7, {'weight': 5}), (24, 11, {'weight': 6}), (25, 0, {'weight': 9}), (25, 1, {'weight': 6}), (25, 3, {'weight': 3}), (25, 11, {'weight': 4}), (25, 21, {'weight': 5}), (26, 2, {'weight': 6}), (26, 14, {'weight': 1}), (26, 15, {'weight': 6}), (26, 29, {'weight': 1}), (27, 2, {'weight': 5}), (27, 7, {'weight': 1}), (27, 13, {'weight': 3}), (27, 15, {'weight': 3}), (28, 0, {'weight': 9}), (28, 4, {'weight': 5}), (28, 5, {'weight': 8}), (28, 13, {'weight': 6}), (28, 14, {'weight': 2}), (28, 15, {'weight': 5}), (28, 16, {'weight': 8}), (29, 1, {'weight': 1}), (29, 2, {'weight': 8}), (29, 8, {'weight': 1}), (29, 11, {'weight': 8}), (29, 12, {'weight': 8}), (29, 18, {'weight': 8}), (29, 26, {'weight': 7}), (30, 0, {'weight': 5}), (30, 16, {'weight': 8}), (30, 21, {'weight': 1}), (31, 2, {'weight': 5}), (31, 4, {'weight': 4}), (31, 6, {'weight': 3}), (31, 11, {'weight': 2}), (31, 14, {'weight': 5})])"
      ]
     },
     "execution_count": 43,
     "metadata": {},
     "output_type": "execute_result"
    }
   ],
   "source": [
    "graph.edges.data()"
   ]
  },
  {
   "cell_type": "markdown",
   "metadata": {},
   "source": [
    "# Gymnasium inverted pendulum"
   ]
  },
  {
   "cell_type": "code",
   "execution_count": 2,
   "metadata": {},
   "outputs": [],
   "source": [
    "def dis_to_con(action_id, env, action_dim):  # 离散动作转回连续的函数\n",
    "    action_lowbound = env.action_space.low[0]  # 连续动作的最小值\n",
    "    action_upbound = env.action_space.high[0]  # 连续动作的最大值\n",
    "    return action_lowbound + (action_id /\n",
    "                              (action_dim - 1)) * (action_upbound -\n",
    "                                                   action_lowbound)"
   ]
  },
  {
   "cell_type": "code",
   "execution_count": 4,
   "metadata": {},
   "outputs": [],
   "source": [
    "# The episode truncates at 200 time steps.\n",
    "env = gym.make(\"Pendulum-v1\", render_mode=None)  # default g=10.0\n",
    "# model = PPO.load(\"PPO_pendulum\", env=env)\n",
    "# env = gym.make(\"CartPole-v1\", render_mode=None)"
   ]
  },
  {
   "cell_type": "code",
   "execution_count": 5,
   "metadata": {},
   "outputs": [
    {
     "name": "stdout",
     "output_type": "stream",
     "text": [
      "11 3\n"
     ]
    }
   ],
   "source": [
    "action_dim = int(env.action_space.n)\n",
    "obs_dim = env.observation_space.shape[0]\n",
    "print(action_dim, obs_dim)"
   ]
  },
  {
   "cell_type": "code",
   "execution_count": 6,
   "metadata": {},
   "outputs": [
    {
     "data": {
      "text/plain": [
       "array([ 0.9962085 ,  0.08699825, -0.00354374], dtype=float32)"
      ]
     },
     "execution_count": 6,
     "metadata": {},
     "output_type": "execute_result"
    }
   ],
   "source": [
    "cur_obs, _ = env.reset(options={\"x_init\": .1, \"y_init\": .1})\n",
    "cur_obs"
   ]
  },
  {
   "cell_type": "code",
   "execution_count": 8,
   "metadata": {},
   "outputs": [],
   "source": [
    "trajs = []\n",
    "traj_num = int(1e3)\n",
    "for i in range(traj_num):\n",
    "    # print(f\"current traj num : {i}\")\n",
    "    cur_traj = []\n",
    "    cur_obs, _ = env.reset(options={\"x_init\": np.pi, \"y_init\": 1})\n",
    "    done = False\n",
    "    trunk = False\n",
    "    while not (done or trunk):\n",
    "        # action_id, _states = model.predict(cur_obs)\n",
    "        action_id = env.action_space.sample()\n",
    "        obs, reward, done, trunk, _ = env.step(action_id)\n",
    "        cur_traj.append(np.concatenate([cur_obs, [action_id], obs]))\n",
    "        cur_obs = obs\n",
    "        # plt.imshow(env.render())\n",
    "        # display.display(plt.gcf())   \n",
    "        # display.clear_output(wait=True)\n",
    "        if done or trunk:\n",
    "            trajs.append(cur_traj)"
   ]
  },
  {
   "cell_type": "code",
   "execution_count": 9,
   "metadata": {},
   "outputs": [
    {
     "name": "stdout",
     "output_type": "stream",
     "text": [
      "[-0.72946316  0.6840201   0.67198801  2.         -0.76289999  0.6465165\n",
      "  1.00500309]\n",
      "[ 0.24235368 -0.97018796  0.05431904 10.          0.22420289 -0.9745425\n",
      " -0.37332192]\n"
     ]
    },
    {
     "data": {
      "text/plain": [
       "(200000, 7)"
      ]
     },
     "execution_count": 9,
     "metadata": {},
     "output_type": "execute_result"
    }
   ],
   "source": [
    "transitions_np = np.concatenate(trajs)\n",
    "print(transitions_np[0])\n",
    "np.random.shuffle(transitions_np)\n",
    "print(transitions_np[0])\n",
    "transitions_np.shape"
   ]
  },
  {
   "cell_type": "code",
   "execution_count": 10,
   "metadata": {},
   "outputs": [],
   "source": [
    "emb_dim = 4000\n",
    "Q_init_stddev = 0.1\n",
    "V_init_stddev = 0.05\n",
    "W_init_stddev = 0.05\n",
    "eta_q = 0.0025\n",
    "eta_v = 0.0005\n",
    "eta_w = 0.0005\n",
    "num_epochs = 10"
   ]
  },
  {
   "cell_type": "code",
   "execution_count": 11,
   "metadata": {},
   "outputs": [],
   "source": [
    "# np.random.seed(0)\n",
    "Q = np.random.normal(size=(emb_dim, obs_dim)) * Q_init_stddev\n",
    "V = np.random.normal(size=(emb_dim, action_dim)) * V_init_stddev\n",
    "W = np.random.normal(size=(action_dim, emb_dim)) * W_init_stddev"
   ]
  },
  {
   "cell_type": "code",
   "execution_count": 12,
   "metadata": {},
   "outputs": [],
   "source": [
    "mses2 = []"
   ]
  },
  {
   "cell_type": "code",
   "execution_count": 13,
   "metadata": {},
   "outputs": [],
   "source": [
    "batch_size = 256\n",
    "batches = transitions_np.shape[0] // 256\n",
    "batch_idx = np.arange(batches, dtype=np.int64) * batch_size\n",
    "# batch_idx"
   ]
  },
  {
   "cell_type": "code",
   "execution_count": 14,
   "metadata": {},
   "outputs": [
    {
     "name": "stdout",
     "output_type": "stream",
     "text": [
      "epoch 0\n",
      "epoch 1\n",
      "epoch 2\n",
      "epoch 3\n",
      "epoch 4\n",
      "epoch 5\n",
      "epoch 6\n"
     ]
    },
    {
     "ename": "KeyboardInterrupt",
     "evalue": "",
     "output_type": "error",
     "traceback": [
      "\u001b[0;31m---------------------------------------------------------------------------\u001b[0m",
      "\u001b[0;31mKeyboardInterrupt\u001b[0m                         Traceback (most recent call last)",
      "Cell \u001b[0;32mIn[14], line 29\u001b[0m\n\u001b[1;32m     25\u001b[0m W[actions, :] \u001b[38;5;241m+\u001b[39m\u001b[38;5;241m=\u001b[39m eta_w \u001b[38;5;241m*\u001b[39m s_diff_DxL\u001b[38;5;241m.\u001b[39mT \u001b[38;5;241m/\u001b[39m \u001b[38;5;28mlen\u001b[39m(cur_traj)\n\u001b[1;32m     27\u001b[0m \u001b[38;5;66;03m# V /= np.linalg.norm(V, axis=0)\u001b[39;00m\n\u001b[0;32m---> 29\u001b[0m mses2\u001b[38;5;241m.\u001b[39mappend(\u001b[43m(\u001b[49m\u001b[43mpred_err_DxL\u001b[49m\u001b[43m \u001b[49m\u001b[38;5;241;43m*\u001b[39;49m\u001b[38;5;241;43m*\u001b[39;49m\u001b[43m \u001b[49m\u001b[38;5;241;43m2\u001b[39;49m\u001b[43m)\u001b[49m\u001b[38;5;241;43m.\u001b[39;49m\u001b[43mmean\u001b[49m\u001b[43m(\u001b[49m\u001b[43m)\u001b[49m)\n",
      "File \u001b[0;32m~/cml/.venv/lib/python3.10/site-packages/numpy/_core/_methods.py:119\u001b[0m, in \u001b[0;36m_mean\u001b[0;34m(a, axis, dtype, out, keepdims, where)\u001b[0m\n\u001b[1;32m    116\u001b[0m     \u001b[38;5;28;01melse\u001b[39;00m:\n\u001b[1;32m    117\u001b[0m         \u001b[38;5;28;01mreturn\u001b[39;00m um\u001b[38;5;241m.\u001b[39mclip(a, \u001b[38;5;28mmin\u001b[39m, \u001b[38;5;28mmax\u001b[39m, out\u001b[38;5;241m=\u001b[39mout, \u001b[38;5;241m*\u001b[39m\u001b[38;5;241m*\u001b[39mkwargs)\n\u001b[0;32m--> 119\u001b[0m \u001b[38;5;28;01mdef\u001b[39;00m \u001b[38;5;21m_mean\u001b[39m(a, axis\u001b[38;5;241m=\u001b[39m\u001b[38;5;28;01mNone\u001b[39;00m, dtype\u001b[38;5;241m=\u001b[39m\u001b[38;5;28;01mNone\u001b[39;00m, out\u001b[38;5;241m=\u001b[39m\u001b[38;5;28;01mNone\u001b[39;00m, keepdims\u001b[38;5;241m=\u001b[39m\u001b[38;5;28;01mFalse\u001b[39;00m, \u001b[38;5;241m*\u001b[39m, where\u001b[38;5;241m=\u001b[39m\u001b[38;5;28;01mTrue\u001b[39;00m):\n\u001b[1;32m    120\u001b[0m     arr \u001b[38;5;241m=\u001b[39m asanyarray(a)\n\u001b[1;32m    122\u001b[0m     is_float16_result \u001b[38;5;241m=\u001b[39m \u001b[38;5;28;01mFalse\u001b[39;00m\n",
      "\u001b[0;31mKeyboardInterrupt\u001b[0m: "
     ]
    }
   ],
   "source": [
    "for epoch in range(10):\n",
    "    print(f\"epoch {epoch}\")\n",
    "    # for traj_idx, cur_traj in enumerate(trajs):\n",
    "    for i in batch_idx[:-1]:\n",
    "        cur_traj = transitions_np[i:i+batch_size]\n",
    "        # cur_traj = np.array(cur_traj)\n",
    "        cur_obs = cur_traj[:, :obs_dim].T\n",
    "        next_obs = cur_traj[:, obs_dim + 1:].T\n",
    "        # actions = np.zeros((action_dim, len(cur_traj)))\n",
    "        # actions[cur_traj[:, 3].astype(np.int32), range(len(cur_traj))] = 1\n",
    "        actions = cur_traj[:, obs_dim].astype(np.int32)\n",
    "\n",
    "        s_curr_DxL = Q@cur_obs\n",
    "        s_next_DxL = Q@next_obs\n",
    "\n",
    "        s_diff_DxL = s_next_DxL - s_curr_DxL\n",
    "        # pred_err_DxL = s_diff_DxL - V@actions\n",
    "        pred_err_DxL = s_diff_DxL - V[:, actions]\n",
    "\n",
    "        # V += eta_v * pred_err_DxL@actions.T\n",
    "        V[:, actions] += eta_v * pred_err_DxL / len(cur_traj)\n",
    "        Q += eta_q * ((cur_obs - Q.T@s_curr_DxL) @ s_curr_DxL.T).T / len(cur_traj)\n",
    "        Q += eta_q * pred_err_DxL@(cur_obs- next_obs).T / len(cur_traj)\n",
    "        # W += eta_w * actions@s_diff_DxL.T\n",
    "        W[actions, :] += eta_w * s_diff_DxL.T / len(cur_traj)\n",
    "        \n",
    "        # V /= np.linalg.norm(V, axis=0)\n",
    "        \n",
    "        mses2.append((pred_err_DxL ** 2).mean())"
   ]
  },
  {
   "cell_type": "code",
   "execution_count": 15,
   "metadata": {},
   "outputs": [
    {
     "data": {
      "image/png": "[encoded data removed]",
      "text/plain": [
       "<Figure size 640x480 with 1 Axes>"
      ]
     },
     "metadata": {},
     "output_type": "display_data"
    }
   ],
   "source": [
    "fig, ax = plt.subplots()\n",
    "# ax.plot(mses1, label='mses1')\n",
    "ax.plot(mses2, label='mses2')\n",
    "ax.set_title('Prediction errors during training')\n",
    "ax.set_yscale('log')\n",
    "plt.legend()\n",
    "plt.show()\n",
    "plt.close(fig)"
   ]
  },
  {
   "cell_type": "code",
   "execution_count": 15,
   "metadata": {},
   "outputs": [
    {
     "data": {
      "text/plain": [
       "np.float64(0.06125284830944865)"
      ]
     },
     "execution_count": 15,
     "metadata": {},
     "output_type": "execute_result"
    }
   ],
   "source": [
    "V.max()"
   ]
  },
  {
   "cell_type": "code",
   "execution_count": 17,
   "metadata": {},
   "outputs": [],
   "source": [
    "np.savez(\"QVW.npz\", Q, V, W)"
   ]
  },
  {
   "cell_type": "code",
   "execution_count": 89,
   "metadata": {},
   "outputs": [],
   "source": [
    "def CML_controller(start, goal):\n",
    "    delta = Q@goal - Q@start\n",
    "    utility = delta.T@V\n",
    "    best_id = np.argmax(utility)\n",
    "    action = dis_to_con(best_id, env, action_dim)\n",
    "    return action\n"
   ]
  },
  {
   "cell_type": "code",
   "execution_count": 27,
   "metadata": {},
   "outputs": [],
   "source": [
    "env = gym.make(\"Pendulum-v1\", render_mode=\"rgb_array\", g=9.81)  # default g=10.0"
   ]
  },
  {
   "cell_type": "code",
   "execution_count": null,
   "metadata": {},
   "outputs": [],
   "source": [
    "rewards = []\n",
    "goal = np.array([0., 1., 0.])\n",
    "for _ in range(100):\n",
    "    cur_obs, _ = env.reset(options={\"low\": -1, \"high\": 1})\n",
    "    done = False\n",
    "    trunk = False\n",
    "    episode_reward = 0\n",
    "    while not (done or trunk):\n",
    "        action = CML_controller(cur_obs, goal)\n",
    "        cur_obs, reward, done, trunk, _ = env.step([action])\n",
    "        episode_reward += reward\n",
    "        # plt.imshow(env.render())\n",
    "        # display.display(plt.gcf())   \n",
    "        # display.clear_output(wait=True)\n",
    "        if done or trunk:\n",
    "            print(done, trunk)\n",
    "            rewards.append(episode_reward)"
   ]
  },
  {
   "cell_type": "code",
   "execution_count": null,
   "metadata": {},
   "outputs": [],
   "source": [
    "plt.plot(rewards)"
   ]
  }
 ],
 "metadata": {
  "kernelspec": {
   "display_name": ".venv",
   "language": "python",
   "name": "python3"
  },
  "language_info": {
   "codemirror_mode": {
    "name": "ipython",
    "version": 3
   },
   "file_extension": ".py",
   "mimetype": "text/x-python",
   "name": "python",
   "nbconvert_exporter": "python",
   "pygments_lexer": "ipython3",
   "version": "3.10.15"
  }
 },
 "nbformat": 4,
 "nbformat_minor": 2
}
